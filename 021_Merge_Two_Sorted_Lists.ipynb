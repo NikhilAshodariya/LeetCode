{
 "cells": [
  {
   "cell_type": "code",
   "execution_count": null,
   "metadata": {},
   "outputs": [],
   "source": [
    "def mergeTwoLists(self, l1, l2):\n",
    "    \"\"\"\n",
    "    :type l1: ListNode\n",
    "    :type l2: ListNode\n",
    "    :rtype: ListNode\n",
    "    \"\"\"\n",
    "    i = 0\n",
    "    j = 0\n",
    "    k = 0\n",
    "    array1 = []\n",
    "    array2 = []\n",
    "    newArray = []\n",
    "\n",
    "    temp = l1\n",
    "    while(temp!=None):\n",
    "        array1.append(temp.val)\n",
    "        temp = temp.next\n",
    "\n",
    "    temp = l2\n",
    "    while(temp!=None):\n",
    "        array2.append(temp.val)\n",
    "        temp = temp.next\n",
    "\n",
    "    while(i<len(array1) and j<len(array2)):\n",
    "        if(array1[i] < array2[j]):\n",
    "            newArray.append(array1[i])\n",
    "            i = i + 1\n",
    "        elif (array1[i] > array2[j]):\n",
    "            newArray.append(array2[j])\n",
    "            j = j + 1\n",
    "        else:\n",
    "            newArray.append(array1[i])\n",
    "            newArray.append(array2[j])\n",
    "            i = i + 1\n",
    "            j = j + 1\n",
    "\n",
    "    while i<len(array1):\n",
    "        newArray.append(array1[i])\n",
    "        i = i + 1 \n",
    "\n",
    "    while j<len(array2):\n",
    "        newArray.append(array2[j])\n",
    "        j = j + 1\n",
    "\n",
    "    return newArray"
   ]
  }
 ],
 "metadata": {
  "kernelspec": {
   "display_name": "Python [conda env:Anaconda3]",
   "language": "python",
   "name": "conda-env-Anaconda3-py"
  },
  "language_info": {
   "codemirror_mode": {
    "name": "ipython",
    "version": 3
   },
   "file_extension": ".py",
   "mimetype": "text/x-python",
   "name": "python",
   "nbconvert_exporter": "python",
   "pygments_lexer": "ipython3",
   "version": "3.6.5"
  }
 },
 "nbformat": 4,
 "nbformat_minor": 2
}
