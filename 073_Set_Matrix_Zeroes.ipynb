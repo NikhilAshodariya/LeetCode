{
 "cells": [
  {
   "cell_type": "markdown",
   "metadata": {},
   "source": [
    "# Using efficient method"
   ]
  },
  {
   "cell_type": "code",
   "execution_count": 1,
   "metadata": {},
   "outputs": [],
   "source": [
    "def setZeroes(matrix):\n",
    "    \"\"\"\n",
    "    :type matrix: List[List[int]]\n",
    "    :rtype: void Do not return anything, modify matrix in-place instead.\n",
    "    \"\"\"\n",
    "    if len(matrix) == 0:\n",
    "        return []\n",
    "\n",
    "    col_change = False\n",
    "\n",
    "    for i in range(len(matrix)):\n",
    "        '''\n",
    "            Checking since we may change it to zero and \n",
    "            we get confuse whether it existed or we change \n",
    "            so we keep a flag\n",
    "        ''' \n",
    "        if matrix[i][0] == 0:\n",
    "            col_change = True\n",
    "        \n",
    "        '''\n",
    "            starting from one because if we start from zero \n",
    "            and the second row's first element is zero then\n",
    "            it would set first row's zero element as zero and\n",
    "            that would give wrong indication that the first\n",
    "            row has to be zero instead of first column. \n",
    "            so we start from one\n",
    "        '''\n",
    "        for j in range(1,len(matrix[0])):\n",
    "            if matrix[i][j] == 0:\n",
    "                matrix[i][0] = 0\n",
    "                matrix[0][j] = 0\n",
    "\n",
    "\n",
    "    for i in range(1,len(matrix)):\n",
    "        for j in range(1,len(matrix[0])):\n",
    "            if matrix[i][0] == 0 or matrix[0][j] == 0:\n",
    "                matrix[i][j] = 0\n",
    "\n",
    "\n",
    "#     Checking for first row\n",
    "    if matrix[0][0]== 0:\n",
    "        for i in range(1,len(matrix[0])):\n",
    "            matrix[0][i] = 0\n",
    "    if col_change == True:\n",
    "        for i in range(len(matrix)):\n",
    "            matrix[i][0] = 0\n",
    "    print(matrix)"
   ]
  },
  {
   "cell_type": "code",
   "execution_count": 2,
   "metadata": {},
   "outputs": [
    {
     "name": "stdout",
     "output_type": "stream",
     "text": [
      "[[0, 1, 1], [0, 0, 0]]\n"
     ]
    }
   ],
   "source": [
    "setZeroes([\n",
    "    [1,1,1],\n",
    "    [0,1,2]\n",
    "])"
   ]
  },
  {
   "cell_type": "markdown",
   "metadata": {},
   "source": [
    "# Using Brute O(1) space."
   ]
  },
  {
   "cell_type": "code",
   "execution_count": 3,
   "metadata": {},
   "outputs": [],
   "source": [
    "def setZeroes(matrix):\n",
    "    \"\"\"\n",
    "    :type matrix: List[List[int]]\n",
    "    :rtype: void Do not return anything, modify matrix in-place instead.\n",
    "    \"\"\"\n",
    "    if len(matrix) == 0:\n",
    "        return []\n",
    "    \n",
    "    toChange = []\n",
    "    def setRows(rowIndex):\n",
    "        for idx,val in enumerate(matrix[rowIndex]):\n",
    "            if matrix[rowIndex][idx] != \"c\":\n",
    "                matrix[rowIndex][idx] = 0\n",
    "            \n",
    "    def setColumn(colIndex):\n",
    "        for idx,val in enumerate(matrix):\n",
    "            if matrix[idx][colIndex] != \"c\":\n",
    "                matrix[idx][colIndex] = 0\n",
    "            \n",
    "    for i in range(0,len(matrix)):\n",
    "        for j in range(0,len(matrix[0])):\n",
    "            if matrix[i][j] == 0:\n",
    "                matrix[i][j] = \"c\"\n",
    "\n",
    "    for i in range(0,len(matrix)):\n",
    "        for j in range(0,len(matrix[0])):\n",
    "            if matrix[i][j] == \"c\":\n",
    "                matrix[i][j] = 0\n",
    "                setRows(i)\n",
    "                setColumn(j)\n",
    "            \n",
    "    print(matrix)"
   ]
  },
  {
   "cell_type": "code",
   "execution_count": 4,
   "metadata": {},
   "outputs": [
    {
     "name": "stdout",
     "output_type": "stream",
     "text": [
      "[[0, 0, 0, 0], [0, 4, 5, 0], [0, 3, 1, 0]]\n"
     ]
    }
   ],
   "source": [
    "setZeroes([\n",
    "    [0,1,2,0],\n",
    "    [3,4,5,2],\n",
    "    [1,3,1,5]\n",
    "])"
   ]
  },
  {
   "cell_type": "markdown",
   "metadata": {},
   "source": [
    "# Using space O(m+n)"
   ]
  },
  {
   "cell_type": "code",
   "execution_count": 5,
   "metadata": {},
   "outputs": [],
   "source": [
    "def setZeroes(matrix):\n",
    "    \"\"\"\n",
    "    :type matrix: List[List[int]]\n",
    "    :rtype: void Do not return anything, modify matrix in-place instead.\n",
    "    \"\"\"\n",
    "    if len(matrix) == 0:\n",
    "        return []\n",
    "    \n",
    "    toChange = []\n",
    "    def setRows(rowIndex):\n",
    "        for idx,val in enumerate(matrix[rowIndex]):\n",
    "            matrix[rowIndex][idx] = 0\n",
    "            \n",
    "    def setColumn(colIndex):\n",
    "        for idx,val in enumerate(matrix):\n",
    "            matrix[idx][colIndex] = 0\n",
    "            \n",
    "    for i in range(0,len(matrix)):\n",
    "        for j in range(0,len(matrix[0])):\n",
    "            if matrix[i][j] == 0:\n",
    "                toChange.append((i,j))\n",
    "    \n",
    "    for val in toChange:\n",
    "        setRows(val[0])\n",
    "        setColumn(val[1])\n",
    "            \n",
    "    print(matrix)"
   ]
  },
  {
   "cell_type": "code",
   "execution_count": 6,
   "metadata": {},
   "outputs": [
    {
     "name": "stdout",
     "output_type": "stream",
     "text": [
      "[[0, 0, 0, 0], [0, 4, 5, 0], [0, 3, 1, 0]]\n"
     ]
    }
   ],
   "source": [
    "setZeroes([\n",
    "    [0,1,2,0],\n",
    "    [3,4,5,2],\n",
    "    [1,3,1,5]\n",
    "])"
   ]
  }
 ],
 "metadata": {
  "kernelspec": {
   "display_name": "Python 3",
   "language": "python",
   "name": "python3"
  },
  "language_info": {
   "codemirror_mode": {
    "name": "ipython",
    "version": 3
   },
   "file_extension": ".py",
   "mimetype": "text/x-python",
   "name": "python",
   "nbconvert_exporter": "python",
   "pygments_lexer": "ipython3",
   "version": "3.6.8"
  }
 },
 "nbformat": 4,
 "nbformat_minor": 2
}
