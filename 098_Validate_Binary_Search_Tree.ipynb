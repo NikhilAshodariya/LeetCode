{
 "cells": [
  {
   "cell_type": "markdown",
   "metadata": {},
   "source": [
    "### having upper and lower limit"
   ]
  },
  {
   "cell_type": "code",
   "execution_count": null,
   "metadata": {},
   "outputs": [],
   "source": [
    "def isValidBST(self, root):\n",
    "    \n",
    "    pass"
   ]
  },
  {
   "cell_type": "markdown",
   "metadata": {},
   "source": [
    "### Having Inorder traversal"
   ]
  },
  {
   "cell_type": "code",
   "execution_count": null,
   "metadata": {},
   "outputs": [],
   "source": [
    "def isValidBST(self, root):\n",
    "    lis = []\n",
    "    def doInorder(root):\n",
    "        if root == None:\n",
    "            return\n",
    "        else:\n",
    "            doInorder(root.left)\n",
    "            lis.append(root.val)\n",
    "            doInorder(root.right)\n",
    "\n",
    "    def isSorted():\n",
    "        for i in range(len(lis)-1):\n",
    "            if lis[i] >= lis[i + 1]:\n",
    "                return False\n",
    "        return True\n",
    "\n",
    "    doInorder(root)\n",
    "    return isSorted()"
   ]
  },
  {
   "cell_type": "markdown",
   "metadata": {},
   "source": [
    "### brute force approach"
   ]
  },
  {
   "cell_type": "code",
   "execution_count": null,
   "metadata": {},
   "outputs": [],
   "source": [
    "def isValidBST(self, root):\n",
    "    def isPositionProper(node, toCheck):\n",
    "        if node == None:\n",
    "            return False\n",
    "\n",
    "        if node == toCheck:\n",
    "            return True\n",
    "        else:\n",
    "            if node.val > toCheck.val:\n",
    "                return isPositionProper(node.left, toCheck)\n",
    "            elif node.val < toCheck.val:\n",
    "                return isPositionProper(node.right, toCheck)\n",
    "\n",
    "    def innerFunc(node):\n",
    "        if node == None:\n",
    "            return True\n",
    "\n",
    "        if not isPositionProper(root, node):\n",
    "            return False\n",
    "        else:\n",
    "            x = innerFunc(node.left)\n",
    "            y = innerFunc(node.right)\n",
    "\n",
    "            return x and y\n",
    "\n",
    "    return innerFunc(root)"
   ]
  }
 ],
 "metadata": {
  "kernelspec": {
   "display_name": "Python 3",
   "language": "python",
   "name": "python3"
  },
  "language_info": {
   "codemirror_mode": {
    "name": "ipython",
    "version": 3
   },
   "file_extension": ".py",
   "mimetype": "text/x-python",
   "name": "python",
   "nbconvert_exporter": "python",
   "pygments_lexer": "ipython3",
   "version": "3.7.3"
  }
 },
 "nbformat": 4,
 "nbformat_minor": 2
}
