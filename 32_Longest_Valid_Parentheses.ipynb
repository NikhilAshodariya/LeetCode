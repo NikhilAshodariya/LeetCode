{
 "cells": [
  {
   "cell_type": "code",
   "execution_count": 44,
   "metadata": {},
   "outputs": [],
   "source": [
    "# Using Stack solution\n",
    "def longestValidParentheses(self, s):\n",
    "    stk = []\n",
    "    stk.append(-1)\n",
    "    validLength = 0\n",
    "    for idx,val in enumerate(s):\n",
    "        if val == \"(\":\n",
    "            stk.append(idx)\n",
    "            pass\n",
    "        elif val == \")\":\n",
    "            if len(stk) == 0:\n",
    "                stk.append(val)\n",
    "                pass\n",
    "            else:\n",
    "                stk.pop()\n",
    "                if len(stk) == 0:\n",
    "                    stk.append(idx)\n",
    "                else:\n",
    "                    validLength = max(validLength,idx - stk[len(stk)-1])\n",
    "                    # validLength = idx - stk[len(stk)-1]\n",
    "            pass\n",
    "        else:\n",
    "            print(\"Unexpected Value = {val} has occured at index {idx} in input string\")\n",
    "    return validLength"
   ]
  },
  {
   "cell_type": "code",
   "execution_count": 45,
   "metadata": {},
   "outputs": [
    {
     "data": {
      "text/plain": [
       "0"
      ]
     },
     "execution_count": 45,
     "metadata": {},
     "output_type": "execute_result"
    }
   ],
   "source": [
    "# longestValidParentheses(\"dfs\",\"())((()\")\n",
    "longestValidParentheses(\"dfs\",\")))))))((((\")"
   ]
  },
  {
   "cell_type": "code",
   "execution_count": null,
   "metadata": {},
   "outputs": [],
   "source": []
  }
 ],
 "metadata": {
  "kernelspec": {
   "display_name": "Python [conda env:Anaconda3]",
   "language": "python",
   "name": "conda-env-Anaconda3-py"
  },
  "language_info": {
   "codemirror_mode": {
    "name": "ipython",
    "version": 3
   },
   "file_extension": ".py",
   "mimetype": "text/x-python",
   "name": "python",
   "nbconvert_exporter": "python",
   "pygments_lexer": "ipython3",
   "version": "3.6.5"
  }
 },
 "nbformat": 4,
 "nbformat_minor": 2
}
