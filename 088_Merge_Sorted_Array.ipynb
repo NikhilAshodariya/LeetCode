{
 "cells": [
  {
   "cell_type": "code",
   "execution_count": 1,
   "metadata": {},
   "outputs": [],
   "source": [
    "def merge(nums1, m, nums2, n):\n",
    "    \"\"\"\n",
    "    :type nums1: List[int]\n",
    "    :type m: int\n",
    "    :type nums2: List[int]\n",
    "    :type n: int\n",
    "    :rtype: void Do not return anything, modify nums1 in-place instead.\n",
    "    \"\"\"\n",
    "    \n",
    "    mIndex = 0\n",
    "    nIndex = 0\n",
    "    mCopy = m\n",
    "    \n",
    "    while mIndex < m and nIndex < n:\n",
    "        if nums1[mIndex] > nums2[nIndex]:\n",
    "            nums1.insert(mIndex,nums2[nIndex])\n",
    "            nIndex = nIndex + 1\n",
    "            mIndex = mIndex + 1\n",
    "            m = m + 1\n",
    "            del nums1[-1]\n",
    "            pass\n",
    "        elif nums1[mIndex] < nums2[nIndex]:\n",
    "            mIndex = mIndex + 1\n",
    "        elif nums1[mIndex] == nums2[nIndex]:\n",
    "            mIndex = mIndex + 1\n",
    "        else:\n",
    "            pass\n",
    "    \n",
    "    while nIndex < n:\n",
    "        nums1.insert(mIndex,nums2[nIndex])\n",
    "        nIndex = nIndex + 1\n",
    "        mIndex = mIndex + 1\n",
    "        del nums1[-1]\n",
    "        \n",
    "    \n",
    "    while nums1[-1] == 0 and mCopy+n > len(nums1):\n",
    "        del nums1[-1]    \n",
    "        \n",
    "    print(f\"Nums1 = {nums1}\")"
   ]
  },
  {
   "cell_type": "code",
   "execution_count": 2,
   "metadata": {},
   "outputs": [
    {
     "name": "stdout",
     "output_type": "stream",
     "text": [
      "Nums1 = [1, 2, 2, 3, 5, 6]\n"
     ]
    }
   ],
   "source": [
    "merge([1,2,3,0,0,0],3,[2,5,6],3)"
   ]
  }
 ],
 "metadata": {
  "kernelspec": {
   "display_name": "Python 3",
   "language": "python",
   "name": "python3"
  },
  "language_info": {
   "codemirror_mode": {
    "name": "ipython",
    "version": 3
   },
   "file_extension": ".py",
   "mimetype": "text/x-python",
   "name": "python",
   "nbconvert_exporter": "python",
   "pygments_lexer": "ipython3",
   "version": "3.6.8"
  }
 },
 "nbformat": 4,
 "nbformat_minor": 2
}
