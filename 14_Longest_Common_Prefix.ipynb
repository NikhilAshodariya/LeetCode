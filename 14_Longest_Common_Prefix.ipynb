{
 "cells": [
  {
   "cell_type": "markdown",
   "metadata": {},
   "source": [
    "# Using divide and conquer"
   ]
  },
  {
   "cell_type": "code",
   "execution_count": 1,
   "metadata": {},
   "outputs": [],
   "source": [
    "def longestCommonPrefix(strs):\n",
    "    def matchHelper(str1,str2):\n",
    "        strLen = len(str2) if len(str1) > len(str2) else len(str1)\n",
    "        ans = []\n",
    "        for i in range(strLen):\n",
    "            if str1[i] == str2[i]:\n",
    "                ans.append(str1[i])\n",
    "            else:\n",
    "                break\n",
    "            pass\n",
    "        return \"\".join(ans)\n",
    "        \n",
    "    def usingDivideConquer(innerStrs,i,j):\n",
    "        calc = abs(j - i + 1)\n",
    "        if calc == 1:\n",
    "            return innerStrs[i]\n",
    "        elif calc > 2:\n",
    "            k = (i + j)//2\n",
    "            temp1 = usingDivideConquer(innerStrs,i,k)\n",
    "            temp2 = usingDivideConquer(innerStrs,k+1,j)\n",
    "            return matchHelper(temp1,temp2)\n",
    "        elif abs(j - i + 1) == 2:\n",
    "            return matchHelper(innerStrs[i],innerStrs[j])\n",
    "            pass\n",
    "        elif abs(j - i + 1) < 2:\n",
    "            return \"\"\n",
    "            pass\n",
    "        else:\n",
    "            return \"\"\n",
    "        \n",
    "    return usingDivideConquer(strs,0,len(strs)-1)\n",
    "        "
   ]
  },
  {
   "cell_type": "code",
   "execution_count": 2,
   "metadata": {},
   "outputs": [
    {
     "data": {
      "text/plain": [
       "'fl'"
      ]
     },
     "execution_count": 2,
     "metadata": {},
     "output_type": "execute_result"
    }
   ],
   "source": [
    "longestCommonPrefix([\"flower\",\"flow\",\"flight\"])"
   ]
  },
  {
   "cell_type": "markdown",
   "metadata": {},
   "source": [
    "# Using Horizontal Scanning"
   ]
  },
  {
   "cell_type": "code",
   "execution_count": 3,
   "metadata": {},
   "outputs": [],
   "source": [
    "def longestCommonPrefix(strs):\n",
    "    if \"\" in strs:\n",
    "        return \"\"\n",
    "    if len(strs) == 1:\n",
    "        return strs[0]\n",
    "    \n",
    "    def matchHelper(str1,str2):\n",
    "        strLen = len(str2) if len(str1) > len(str2) else len(str1)\n",
    "        ans = []\n",
    "        for i in range(strLen):\n",
    "            if str1[i] == str2[i]:\n",
    "                ans.append(str1[i])\n",
    "            else:\n",
    "                break\n",
    "            pass\n",
    "        return \"\".join(ans)\n",
    "        \n",
    "    ans = matchHelper(strs[0],strs[1])\n",
    "    check = True\n",
    "    for val in strs[2:]:\n",
    "        ans = matchHelper(ans,val)\n",
    "    return ans    "
   ]
  },
  {
   "cell_type": "code",
   "execution_count": 4,
   "metadata": {},
   "outputs": [
    {
     "data": {
      "text/plain": [
       "'fl'"
      ]
     },
     "execution_count": 4,
     "metadata": {},
     "output_type": "execute_result"
    }
   ],
   "source": [
    "longestCommonPrefix([\"flower\",\"flow\",\"flight\"])"
   ]
  },
  {
   "cell_type": "code",
   "execution_count": null,
   "metadata": {},
   "outputs": [],
   "source": []
  }
 ],
 "metadata": {
  "kernelspec": {
   "display_name": "Python [conda env:Anaconda3]",
   "language": "python",
   "name": "conda-env-Anaconda3-py"
  },
  "language_info": {
   "codemirror_mode": {
    "name": "ipython",
    "version": 3
   },
   "file_extension": ".py",
   "mimetype": "text/x-python",
   "name": "python",
   "nbconvert_exporter": "python",
   "pygments_lexer": "ipython3",
   "version": "3.6.5"
  }
 },
 "nbformat": 4,
 "nbformat_minor": 2
}
