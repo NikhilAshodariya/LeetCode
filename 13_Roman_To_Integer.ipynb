{
 "cells": [
  {
   "cell_type": "code",
   "execution_count": 61,
   "metadata": {},
   "outputs": [],
   "source": [
    "def romanToInt(self, userInput):\n",
    "    \"\"\"\n",
    "    :type s: str\n",
    "    :rtype: int\n",
    "    \"\"\"\n",
    "    mapping = {\n",
    "        \"IV\":4,\n",
    "        \"IX\":9,\n",
    "        \"XL\":40,\n",
    "        \"XC\":90,\n",
    "        \"CD\":400,\n",
    "        \"CM\":900\n",
    "    }\n",
    "    traditional = {\n",
    "        \"I\":1,\n",
    "        \"V\":5,\n",
    "        \"X\":10,\n",
    "        \"L\":50,\n",
    "        \"C\":100,\n",
    "        \"D\":500,\n",
    "        \"M\":1000\n",
    "    }\n",
    "    ans = 0\n",
    "    previous = \"\"\n",
    "    for val in userInput:\n",
    "        k = previous + val\n",
    "        ans += (mapping[k] - traditional[previous]) if k in mapping else traditional[val]\n",
    "#         if k in mapping:\n",
    "# #             ans = ans - traditional[previous]\n",
    "#             ans = ans + mapping[k] - traditional[previous]\n",
    "#         else:\n",
    "#             ans = ans + traditional[val]\n",
    "        previous = val\n",
    "    return ans"
   ]
  },
  {
   "cell_type": "code",
   "execution_count": 62,
   "metadata": {},
   "outputs": [
    {
     "data": {
      "text/plain": [
       "1994"
      ]
     },
     "execution_count": 62,
     "metadata": {},
     "output_type": "execute_result"
    }
   ],
   "source": [
    "romanToInt(\"j\",\"MCMXCIV\")"
   ]
  },
  {
   "cell_type": "code",
   "execution_count": null,
   "metadata": {},
   "outputs": [],
   "source": []
  }
 ],
 "metadata": {
  "kernelspec": {
   "display_name": "Python [conda env:Anaconda3]",
   "language": "python",
   "name": "conda-env-Anaconda3-py"
  },
  "language_info": {
   "codemirror_mode": {
    "name": "ipython",
    "version": 3
   },
   "file_extension": ".py",
   "mimetype": "text/x-python",
   "name": "python",
   "nbconvert_exporter": "python",
   "pygments_lexer": "ipython3",
   "version": "3.6.5"
  }
 },
 "nbformat": 4,
 "nbformat_minor": 2
}
