{
 "cells": [
  {
   "cell_type": "code",
   "execution_count": 1,
   "metadata": {},
   "outputs": [],
   "source": [
    "def countAndSay(n):\n",
    "    \"\"\"\n",
    "    :type n: int\n",
    "    :rtype: str\n",
    "    \"\"\"\n",
    "    def groupSimilar(userInput):\n",
    "        tempCounter = 1\n",
    "        previousCounter = 0\n",
    "        res = []\n",
    "        while tempCounter < len(userInput):\n",
    "            if userInput[tempCounter] != userInput[tempCounter - 1]:\n",
    "                toPut = userInput[previousCounter:tempCounter]\n",
    "                res.append(str(len(toPut)) + toPut[0])\n",
    "                previousCounter = tempCounter\n",
    "            tempCounter = tempCounter + 1\n",
    "        if tempCounter == len(userInput):\n",
    "            toPut = userInput[previousCounter:tempCounter]\n",
    "            res.append(str(len(toPut)) + toPut[0])\n",
    "        return \"\".join(res)\n",
    "    \n",
    "            \n",
    "            \n",
    "    if n < 1 or n >30:\n",
    "        return 0\n",
    "    else:\n",
    "        previousString = \"1\"\n",
    "        for i in range(2,n+1):\n",
    "            previousString = groupSimilar(previousString)\n",
    "        return previousString"
   ]
  },
  {
   "cell_type": "code",
   "execution_count": 2,
   "metadata": {},
   "outputs": [
    {
     "data": {
      "text/plain": [
       "'111221'"
      ]
     },
     "execution_count": 2,
     "metadata": {},
     "output_type": "execute_result"
    }
   ],
   "source": [
    "countAndSay(5)"
   ]
  },
  {
   "cell_type": "code",
   "execution_count": null,
   "metadata": {},
   "outputs": [],
   "source": []
  }
 ],
 "metadata": {
  "kernelspec": {
   "display_name": "Python [conda env:Anaconda3]",
   "language": "python",
   "name": "conda-env-Anaconda3-py"
  },
  "language_info": {
   "codemirror_mode": {
    "name": "ipython",
    "version": 3
   },
   "file_extension": ".py",
   "mimetype": "text/x-python",
   "name": "python",
   "nbconvert_exporter": "python",
   "pygments_lexer": "ipython3",
   "version": "3.6.5"
  }
 },
 "nbformat": 4,
 "nbformat_minor": 2
}
