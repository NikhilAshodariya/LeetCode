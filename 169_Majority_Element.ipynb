{
 "cells": [
  {
   "cell_type": "markdown",
   "metadata": {},
   "source": [
    "### Boyer-Moore Voting Algorithm"
   ]
  },
  {
   "cell_type": "code",
   "execution_count": 7,
   "metadata": {},
   "outputs": [],
   "source": [
    "def majorityElement(nums):\n",
    "    i = 0\n",
    "    count = 1\n",
    "\n",
    "    for idx, element in enumerate(nums[1:], 1):\n",
    "        if element == nums[i]:\n",
    "            count += 1\n",
    "        elif element != nums[i]:\n",
    "            if count == 0 :\n",
    "                count = 1\n",
    "                i = idx\n",
    "            else:\n",
    "                count -= 1\n",
    "    return nums[i]"
   ]
  },
  {
   "cell_type": "code",
   "execution_count": 8,
   "metadata": {},
   "outputs": [
    {
     "data": {
      "text/plain": [
       "2"
      ]
     },
     "execution_count": 8,
     "metadata": {},
     "output_type": "execute_result"
    }
   ],
   "source": [
    "majorityElement([2,2,1,1,1,2,2])"
   ]
  },
  {
   "cell_type": "markdown",
   "metadata": {},
   "source": [
    "### using hashmap"
   ]
  },
  {
   "cell_type": "code",
   "execution_count": 2,
   "metadata": {},
   "outputs": [],
   "source": [
    "def majorityElement(nums):\n",
    "    n = len(nums)//2 + 1\n",
    "    dic = {}\n",
    "    \n",
    "    for val in nums:\n",
    "        if val in dic:\n",
    "            dic[val] = dic[val] + 1\n",
    "        else:\n",
    "            dic[val] = 1\n",
    "    \n",
    "    for key,val in dic.items():\n",
    "        if val > n:\n",
    "            return key"
   ]
  }
 ],
 "metadata": {
  "kernelspec": {
   "display_name": "Python 3",
   "language": "python",
   "name": "python3"
  },
  "language_info": {
   "codemirror_mode": {
    "name": "ipython",
    "version": 3
   },
   "file_extension": ".py",
   "mimetype": "text/x-python",
   "name": "python",
   "nbconvert_exporter": "python",
   "pygments_lexer": "ipython3",
   "version": "3.7.3"
  }
 },
 "nbformat": 4,
 "nbformat_minor": 2
}
