{
 "cells": [
  {
   "cell_type": "code",
   "execution_count": 1,
   "metadata": {},
   "outputs": [],
   "source": [
    "def isValidSudoku(board):\n",
    "    \"\"\"\n",
    "    :type board: List[List[str]]\n",
    "    :rtype: bool\n",
    "    \"\"\"\n",
    "    def isColSudoku(array):\n",
    "        for i in range(0,9):\n",
    "            temp = []\n",
    "            for j in range(0,9):\n",
    "                if array[j][i] != \".\":\n",
    "                    if array[j][i] in temp:\n",
    "                        return False\n",
    "                    else:\n",
    "                        temp.append(array[j][i])\n",
    "            pass\n",
    "        return True\n",
    "        \n",
    "    def isRowSudoku(array):\n",
    "        for i in range(0,9):\n",
    "            temp = []\n",
    "            for j in range(0,9):\n",
    "                if array[i][j] != \".\":\n",
    "                    if array[i][j] in temp:\n",
    "                        return False\n",
    "                    else:\n",
    "                        temp.append(array[i][j])\n",
    "            pass\n",
    "        return True\n",
    "    \n",
    "    def isSquareSudoku(array):\n",
    "        def getNumbers(array,iStart,jStart):\n",
    "            res = []\n",
    "            for i in range(iStart,iStart+3):\n",
    "                for j in range(jStart,jStart+3):\n",
    "                    if array[i][j] != \".\":\n",
    "                        res.append(array[i][j])\n",
    "                    pass\n",
    "                pass\n",
    "            return res\n",
    "\n",
    "        for i in range(0,7,3):\n",
    "            for j in range(0,7,3):\n",
    "                temp = getNumbers(array,i,j)\n",
    "                if len(temp) != len(set(temp)):\n",
    "                    return False\n",
    "                pass\n",
    "            pass\n",
    "        return True\n",
    "        \n",
    "            \n",
    "#     Checking for columns\n",
    "    colResult = isColSudoku(board)\n",
    "    if colResult == False:\n",
    "        return False\n",
    "    else:\n",
    "#         check for rows\n",
    "        rowResult = isRowSudoku(board)\n",
    "        if rowResult == False:\n",
    "            return False\n",
    "        else:\n",
    "            return isSquareSudoku(board)"
   ]
  },
  {
   "cell_type": "code",
   "execution_count": 2,
   "metadata": {},
   "outputs": [
    {
     "data": {
      "text/plain": [
       "True"
      ]
     },
     "execution_count": 2,
     "metadata": {},
     "output_type": "execute_result"
    }
   ],
   "source": [
    "isValidSudoku([\n",
    "  [\"5\",\"3\",\".\",\".\",\"7\",\".\",\".\",\".\",\".\"],\n",
    "  [\"6\",\".\",\".\",\"1\",\"9\",\"5\",\".\",\".\",\".\"],\n",
    "  [\".\",\"9\",\"8\",\".\",\".\",\".\",\".\",\"6\",\".\"],\n",
    "  [\"8\",\".\",\".\",\".\",\"6\",\".\",\".\",\".\",\"3\"],\n",
    "  [\"4\",\".\",\".\",\"8\",\".\",\"3\",\".\",\".\",\"1\"],\n",
    "  [\"7\",\".\",\".\",\".\",\"2\",\".\",\".\",\".\",\"6\"],\n",
    "  [\".\",\"6\",\".\",\".\",\".\",\".\",\"2\",\"8\",\".\"],\n",
    "  [\".\",\".\",\".\",\"4\",\"1\",\"9\",\".\",\".\",\"5\"],\n",
    "  [\".\",\".\",\".\",\".\",\"8\",\".\",\".\",\"7\",\"9\"]\n",
    "])"
   ]
  },
  {
   "cell_type": "code",
   "execution_count": 3,
   "metadata": {},
   "outputs": [
    {
     "data": {
      "text/plain": [
       "False"
      ]
     },
     "execution_count": 3,
     "metadata": {},
     "output_type": "execute_result"
    }
   ],
   "source": [
    "isValidSudoku([\n",
    "  [\"5\",\"3\",\".\",\".\",\"7\",\".\",\".\",\".\",\".\"],\n",
    "  [\"6\",\".\",\".\",\"1\",\"9\",\"5\",\".\",\".\",\".\"],\n",
    "  [\".\",\"9\",\"8\",\".\",\".\",\".\",\".\",\"6\",\".\"],\n",
    "  [\"8\",\".\",\".\",\".\",\"8\",\".\",\".\",\".\",\"3\"],\n",
    "  [\"4\",\".\",\".\",\"8\",\".\",\"3\",\".\",\".\",\"1\"],\n",
    "  [\"7\",\".\",\".\",\".\",\"2\",\".\",\".\",\".\",\"6\"],\n",
    "  [\".\",\"6\",\".\",\".\",\".\",\".\",\"2\",\"8\",\".\"],\n",
    "  [\".\",\".\",\".\",\"4\",\"1\",\"9\",\".\",\".\",\"5\"],\n",
    "  [\".\",\".\",\".\",\".\",\"8\",\".\",\".\",\"7\",\"9\"]\n",
    "])"
   ]
  },
  {
   "cell_type": "code",
   "execution_count": null,
   "metadata": {},
   "outputs": [],
   "source": []
  }
 ],
 "metadata": {
  "kernelspec": {
   "display_name": "Python [conda env:Anaconda3]",
   "language": "python",
   "name": "conda-env-Anaconda3-py"
  },
  "language_info": {
   "codemirror_mode": {
    "name": "ipython",
    "version": 3
   },
   "file_extension": ".py",
   "mimetype": "text/x-python",
   "name": "python",
   "nbconvert_exporter": "python",
   "pygments_lexer": "ipython3",
   "version": "3.6.5"
  }
 },
 "nbformat": 4,
 "nbformat_minor": 2
}
