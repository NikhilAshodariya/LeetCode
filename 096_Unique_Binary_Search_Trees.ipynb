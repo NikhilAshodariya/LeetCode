{
 "cells": [
  {
   "cell_type": "code",
   "execution_count": 5,
   "metadata": {},
   "outputs": [],
   "source": [
    "def numTrees(n):\n",
    "    ans = [0] * (n+1)\n",
    "    ans[0] = 1\n",
    "    ans[1] = 1\n",
    "\n",
    "\n",
    "    for i in range(2, n + 1):\n",
    "        for j in range(1, i+1):\n",
    "            ans[i] = ans[i] + (ans[j - 1] * ans[i - j] )\n",
    "    return ans[n]"
   ]
  },
  {
   "cell_type": "code",
   "execution_count": 6,
   "metadata": {},
   "outputs": [],
   "source": [
    "def numTreesRec(n):\n",
    "    if n <= 0:\n",
    "        return 1\n",
    "    else:\n",
    "        sum_ = 0\n",
    "        for i in range(1,n+1):\n",
    "            left_subtree = numTreesRec(i - 1)\n",
    "            right_subtree = numTreesRec(n - i)\n",
    "            sum_ = sum_ + left_subtree * right_subtree\n",
    "        return sum_"
   ]
  },
  {
   "cell_type": "code",
   "execution_count": 8,
   "metadata": {},
   "outputs": [
    {
     "data": {
      "text/plain": [
       "14"
      ]
     },
     "execution_count": 8,
     "metadata": {},
     "output_type": "execute_result"
    }
   ],
   "source": [
    "numTreesRec(4)"
   ]
  }
 ],
 "metadata": {
  "kernelspec": {
   "display_name": "Python 3",
   "language": "python",
   "name": "python3"
  },
  "language_info": {
   "codemirror_mode": {
    "name": "ipython",
    "version": 3
   },
   "file_extension": ".py",
   "mimetype": "text/x-python",
   "name": "python",
   "nbconvert_exporter": "python",
   "pygments_lexer": "ipython3",
   "version": "3.7.3"
  }
 },
 "nbformat": 4,
 "nbformat_minor": 2
}
