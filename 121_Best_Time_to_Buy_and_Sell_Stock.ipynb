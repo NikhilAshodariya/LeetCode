{
 "cells": [
  {
   "cell_type": "code",
   "execution_count": 1,
   "metadata": {},
   "outputs": [],
   "source": [
    "def maxProfit(prices):\n",
    "    if prices == [] or len(prices) == 1:\n",
    "        return 0\n",
    "\n",
    "    max_prof = 0\n",
    "    val1 = prices[0]\n",
    "\n",
    "    for index, val in enumerate(prices[1:], 1):\n",
    "        val2 = prices[index]\n",
    "        max_prof = val2 - val1 if max_prof < val2 - val1 else max_prof\n",
    "        val1 = min(val1, val2)\n",
    "\n",
    "    return max_prof"
   ]
  },
  {
   "cell_type": "code",
   "execution_count": 2,
   "metadata": {},
   "outputs": [
    {
     "data": {
      "text/plain": [
       "3"
      ]
     },
     "execution_count": 2,
     "metadata": {},
     "output_type": "execute_result"
    }
   ],
   "source": [
    "maxProfit([1, 2, 4])"
   ]
  }
 ],
 "metadata": {
  "kernelspec": {
   "display_name": "Python 3",
   "language": "python",
   "name": "python3"
  },
  "language_info": {
   "codemirror_mode": {
    "name": "ipython",
    "version": 3
   },
   "file_extension": ".py",
   "mimetype": "text/x-python",
   "name": "python",
   "nbconvert_exporter": "python",
   "pygments_lexer": "ipython3",
   "version": "3.7.3"
  }
 },
 "nbformat": 4,
 "nbformat_minor": 2
}
