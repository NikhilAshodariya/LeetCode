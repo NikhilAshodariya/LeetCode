{
 "cells": [
  {
   "cell_type": "markdown",
   "metadata": {},
   "source": [
    "### Using DP"
   ]
  },
  {
   "cell_type": "code",
   "execution_count": 1,
   "metadata": {},
   "outputs": [],
   "source": [
    "def rob(nums):\n",
    "    dp = [0] * len(nums)\n",
    "    i = 0\n",
    "    while i < len(nums):\n",
    "        if i == 0:\n",
    "            dp[i] = nums[i]\n",
    "        elif i == 1:\n",
    "            dp[i] = max(nums[0], nums[1])\n",
    "        else:\n",
    "            dp[i] = max(dp[i-2] + nums[i], dp[i-1])\n",
    "        i = i + 1\n",
    "    return dp[-1]"
   ]
  },
  {
   "cell_type": "markdown",
   "metadata": {},
   "source": [
    "### using tushar's method (https://www.youtube.com/watch?v=UtGtF6nc35g)"
   ]
  },
  {
   "cell_type": "code",
   "execution_count": 2,
   "metadata": {},
   "outputs": [],
   "source": [
    "def rob(nums):\n",
    "    inc = nums[0]\n",
    "    exc = 0\n",
    "    \n",
    "    for idx, element in enumerate(nums[1:],1):\n",
    "        temp = inc\n",
    "        inc = max(inc, exc + element)\n",
    "        exc = temp\n",
    "    return inc"
   ]
  },
  {
   "cell_type": "code",
   "execution_count": 3,
   "metadata": {
    "scrolled": true
   },
   "outputs": [
    {
     "data": {
      "text/plain": [
       "4"
      ]
     },
     "execution_count": 3,
     "metadata": {},
     "output_type": "execute_result"
    }
   ],
   "source": [
    "rob([2,1,1,2])"
   ]
  },
  {
   "cell_type": "code",
   "execution_count": 4,
   "metadata": {},
   "outputs": [
    {
     "data": {
      "text/plain": [
       "12"
      ]
     },
     "execution_count": 4,
     "metadata": {},
     "output_type": "execute_result"
    }
   ],
   "source": [
    "rob([2,7,9,3,1])"
   ]
  }
 ],
 "metadata": {
  "kernelspec": {
   "display_name": "Python 3",
   "language": "python",
   "name": "python3"
  },
  "language_info": {
   "codemirror_mode": {
    "name": "ipython",
    "version": 3
   },
   "file_extension": ".py",
   "mimetype": "text/x-python",
   "name": "python",
   "nbconvert_exporter": "python",
   "pygments_lexer": "ipython3",
   "version": "3.7.3"
  }
 },
 "nbformat": 4,
 "nbformat_minor": 2
}
