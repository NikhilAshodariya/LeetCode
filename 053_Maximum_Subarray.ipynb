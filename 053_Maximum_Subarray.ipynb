{
 "cells": [
  {
   "cell_type": "markdown",
   "metadata": {},
   "source": [
    "# Using Linear time calculation"
   ]
  },
  {
   "cell_type": "code",
   "execution_count": 1,
   "metadata": {},
   "outputs": [],
   "source": [
    "def maxSubArray(self, nums):\n",
    "    max_ = nums[0]\n",
    "    maxToArr = nums[0]\n",
    "\n",
    "    for val in nums[1:]:\n",
    "        maxToArr = max(maxToArr+val,val)\n",
    "        max_ = max(max_,maxToArr)\n",
    "\n",
    "    return max_"
   ]
  },
  {
   "cell_type": "code",
   "execution_count": 2,
   "metadata": {},
   "outputs": [
    {
     "data": {
      "text/plain": [
       "6"
      ]
     },
     "execution_count": 2,
     "metadata": {},
     "output_type": "execute_result"
    }
   ],
   "source": [
    "maxSubArray(\"asdf\",[-2,1,-3,4,-1,2,1,-5,4])"
   ]
  },
  {
   "cell_type": "markdown",
   "metadata": {},
   "source": [
    "# Using preCalculated array"
   ]
  },
  {
   "cell_type": "code",
   "execution_count": 3,
   "metadata": {},
   "outputs": [],
   "source": [
    "def maxSubArray(self, nums):\n",
    "    \"\"\"\n",
    "    :type nums: List[int]\n",
    "    :rtype: int\n",
    "    \"\"\"\n",
    "    \n",
    "    def subtract(ls,num):\n",
    "        return [x - num for x in ls]\n",
    "    \n",
    "    def calculate(userInput):\n",
    "        previousSum = nums[0]\n",
    "        outerIdx,outerVal = 0,nums[0]\n",
    "        \n",
    "        res = []\n",
    "        \n",
    "        if previousSum < outerVal:\n",
    "            previousSum = outerVal\n",
    "        count = outerIdx + 1\n",
    "        res.append(previousSum)\n",
    "        while count < len(nums):\n",
    "            sum_ = sum(nums[outerIdx:count + 1])\n",
    "            res.append(sum_)\n",
    "            count = count + 1\n",
    "        return res\n",
    "    \n",
    "    intermediate = calculate(nums)\n",
    "    \n",
    "    previousMax = max(intermediate)\n",
    "    startIndex = 0\n",
    "    endIndex = intermediate.index(previousMax)\n",
    "        \n",
    "    for idx,val in enumerate(intermediate):\n",
    "        if idx != 0:\n",
    "            intermediate = subtract(intermediate,nums[idx-1])\n",
    "            maxInt = max(intermediate[idx:]) # I think you should take the intermediate from idx\n",
    "            \n",
    "            if maxInt > previousMax:\n",
    "                previousMax = maxInt\n",
    "                startIndex = idx\n",
    "                endIndex = intermediate.index(maxInt)\n",
    "    return previousMax"
   ]
  },
  {
   "cell_type": "code",
   "execution_count": 4,
   "metadata": {},
   "outputs": [
    {
     "data": {
      "text/plain": [
       "6"
      ]
     },
     "execution_count": 4,
     "metadata": {},
     "output_type": "execute_result"
    }
   ],
   "source": [
    "maxSubArray(\"asdf\",[-2,1,-3,4,-1,2,1,-5,4])"
   ]
  },
  {
   "cell_type": "markdown",
   "metadata": {},
   "source": [
    "# Using Brute Force method"
   ]
  },
  {
   "cell_type": "code",
   "execution_count": 5,
   "metadata": {},
   "outputs": [],
   "source": [
    "def maxSubArray(self, nums):\n",
    "    \"\"\"\n",
    "    :type nums: List[int]\n",
    "    :rtype: int\n",
    "    \"\"\"\n",
    "    previousSum = nums[0]\n",
    "    for outerIdx,outerVal in enumerate(nums):\n",
    "        if previousSum < outerVal:\n",
    "            previousSum = outerVal\n",
    "        count = outerIdx + 1\n",
    "        while count < len(nums):\n",
    "            sum_ = sum(nums[outerIdx:count + 1])\n",
    "            if sum_ > previousSum:\n",
    "                previousSum = sum_\n",
    "            count = count + 1\n",
    "        \n",
    "    return previousSum"
   ]
  },
  {
   "cell_type": "code",
   "execution_count": 6,
   "metadata": {},
   "outputs": [
    {
     "data": {
      "text/plain": [
       "6"
      ]
     },
     "execution_count": 6,
     "metadata": {},
     "output_type": "execute_result"
    }
   ],
   "source": [
    "maxSubArray(\"asdf\",[-2,1,-3,4,-1,2,1,-5,4])"
   ]
  },
  {
   "cell_type": "code",
   "execution_count": null,
   "metadata": {},
   "outputs": [],
   "source": []
  }
 ],
 "metadata": {
  "kernelspec": {
   "display_name": "Python [conda env:Anaconda3]",
   "language": "python",
   "name": "conda-env-Anaconda3-py"
  },
  "language_info": {
   "codemirror_mode": {
    "name": "ipython",
    "version": 3
   },
   "file_extension": ".py",
   "mimetype": "text/x-python",
   "name": "python",
   "nbconvert_exporter": "python",
   "pygments_lexer": "ipython3",
   "version": "3.6.5"
  }
 },
 "nbformat": 4,
 "nbformat_minor": 2
}
