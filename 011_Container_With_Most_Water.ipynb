{
 "cells": [
  {
   "cell_type": "markdown",
   "metadata": {},
   "source": [
    "# Smart method"
   ]
  },
  {
   "cell_type": "code",
   "execution_count": 48,
   "metadata": {},
   "outputs": [],
   "source": [
    "def maxArea(height):\n",
    "    max_ = -99999\n",
    "    l = 0\n",
    "    r = len(height)-1\n",
    "\n",
    "    while(True):\n",
    "        if l >= r:\n",
    "            break\n",
    "        k = min(height[l],height[r])*abs(l-r)\n",
    "        if max_ < k:\n",
    "            max_ = k\n",
    "        if height[l] < height[r]:\n",
    "            l = l + 1\n",
    "        elif height[l] > height[r]:\n",
    "            r = r - 1\n",
    "        else:\n",
    "            l = l + 1\n",
    "            r = r - 1\n",
    "    return max_\n",
    "    pass"
   ]
  },
  {
   "cell_type": "code",
   "execution_count": 49,
   "metadata": {},
   "outputs": [
    {
     "data": {
      "text/plain": [
       "49"
      ]
     },
     "execution_count": 49,
     "metadata": {},
     "output_type": "execute_result"
    }
   ],
   "source": [
    "maxArea([1,8,6,2,5,4,8,3,7])"
   ]
  },
  {
   "cell_type": "markdown",
   "metadata": {},
   "source": [
    "# Brute Force Method"
   ]
  },
  {
   "cell_type": "code",
   "execution_count": 50,
   "metadata": {},
   "outputs": [],
   "source": [
    "def maxArea(height):\n",
    "    max_ = -99999\n",
    "    for index in range(1,len(height)+1):\n",
    "        for innerIndex in range(index+1,len(height)+1):\n",
    "            k = abs(index-innerIndex) * min(height[index-1],height[innerIndex-1])\n",
    "            if k>max_:\n",
    "                max_ = k\n",
    "    return max_"
   ]
  },
  {
   "cell_type": "code",
   "execution_count": 51,
   "metadata": {},
   "outputs": [
    {
     "data": {
      "text/plain": [
       "49"
      ]
     },
     "execution_count": 51,
     "metadata": {},
     "output_type": "execute_result"
    }
   ],
   "source": [
    "maxArea([1,8,6,2,5,4,8,3,7])"
   ]
  },
  {
   "cell_type": "code",
   "execution_count": null,
   "metadata": {},
   "outputs": [],
   "source": []
  }
 ],
 "metadata": {
  "kernelspec": {
   "display_name": "Python [conda env:Anaconda3]",
   "language": "python",
   "name": "conda-env-Anaconda3-py"
  },
  "language_info": {
   "codemirror_mode": {
    "name": "ipython",
    "version": 3
   },
   "file_extension": ".py",
   "mimetype": "text/x-python",
   "name": "python",
   "nbconvert_exporter": "python",
   "pygments_lexer": "ipython3",
   "version": "3.6.5"
  }
 },
 "nbformat": 4,
 "nbformat_minor": 2
}
