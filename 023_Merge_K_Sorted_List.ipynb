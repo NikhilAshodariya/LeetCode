{
 "cells": [
  {
   "cell_type": "code",
   "execution_count": 5,
   "metadata": {},
   "outputs": [],
   "source": [
    "def mergeKLists(lists):\n",
    "    \"\"\"\n",
    "    :type lists: List[ListNode]\n",
    "    :rtype: ListNode\n",
    "    \"\"\"\n",
    "    amount = len(lists)\n",
    "    interval = 1\n",
    "    while interval < amount:\n",
    "        for i in range(0, amount - interval, interval * 2):\n",
    "            lists[i] = merge2Lists(lists[i], lists[i + interval])\n",
    "        interval *= 2\n",
    "    return lists[0] if amount > 0 else lists\n",
    "\n",
    "def merge2Lists(l1, l2):\n",
    "    head = point = ListNode(0)\n",
    "    while l1 and l2:\n",
    "        if l1.val <= l2.val:\n",
    "            point.next = l1\n",
    "            l1 = l1.next\n",
    "        else:\n",
    "            point.next = l2\n",
    "            l2 = l1\n",
    "            l1 = point.next.next\n",
    "        point = point.next\n",
    "    if not l1:\n",
    "        point.next=l2\n",
    "    else:\n",
    "        point.next=l1\n",
    "    return head.next"
   ]
  },
  {
   "cell_type": "code",
   "execution_count": null,
   "metadata": {},
   "outputs": [],
   "source": [
    "mergeKLists([[1,4,5],[1,3,4],[2,6]])\n",
    "# mergeKLists([[2],[],[-1]])\n",
    "# mergeKLists([[],[]])\n",
    "# mergeKLists([[1,4,5],[1,3,4],[2,6]])\n",
    "# mergeKLists([[-5,1,4,7],[10,17,25,32,34,52],[1,3,4],[2,6]])\n",
    "# mergeKLists([[-10,-9,-9,-3,-1,-1,0],[-5],[4],[-8],[],[-9,-6,-5,-4,-2,2,3]])"
   ]
  },
  {
   "cell_type": "code",
   "execution_count": null,
   "metadata": {},
   "outputs": [],
   "source": []
  }
 ],
 "metadata": {
  "kernelspec": {
   "display_name": "Python [conda env:Anaconda3]",
   "language": "python",
   "name": "conda-env-Anaconda3-py"
  },
  "language_info": {
   "codemirror_mode": {
    "name": "ipython",
    "version": 3
   },
   "file_extension": ".py",
   "mimetype": "text/x-python",
   "name": "python",
   "nbconvert_exporter": "python",
   "pygments_lexer": "ipython3",
   "version": "3.6.5"
  }
 },
 "nbformat": 4,
 "nbformat_minor": 2
}
