{
 "cells": [
  {
   "cell_type": "code",
   "execution_count": 2,
   "metadata": {},
   "outputs": [],
   "source": [
    "def lengthOfLongestSubstring(self, s):\n",
    "    \"\"\"\n",
    "    :type s: str\n",
    "    :rtype: int\n",
    "    \"\"\"\n",
    "    if s == \"\":\n",
    "        return 0\n",
    "    if len(s) == 1:\n",
    "        return 1\n",
    "    allLengths = []\n",
    "    allLengths.append(1)\n",
    "\n",
    "    for index,val in enumerate(s):\n",
    "        temp = val\n",
    "        maxLen = 1\n",
    "        for inner_index,inner_val in enumerate(s[index+1:]):\n",
    "            if inner_val not in temp:\n",
    "                temp = temp + inner_val\n",
    "                maxLen = maxLen+1\n",
    "            else:\n",
    "                break\n",
    "        allLengths.append(maxLen)\n",
    "    return max(allLengths)"
   ]
  },
  {
   "cell_type": "code",
   "execution_count": 3,
   "metadata": {},
   "outputs": [
    {
     "data": {
      "text/plain": [
       "3"
      ]
     },
     "execution_count": 3,
     "metadata": {},
     "output_type": "execute_result"
    }
   ],
   "source": [
    "lengthOfLongestSubstring(\"asdf\",\"abcabcbb\")"
   ]
  },
  {
   "cell_type": "code",
   "execution_count": null,
   "metadata": {},
   "outputs": [],
   "source": []
  }
 ],
 "metadata": {
  "kernelspec": {
   "display_name": "Python [conda env:Anaconda3]",
   "language": "python",
   "name": "conda-env-Anaconda3-py"
  },
  "language_info": {
   "codemirror_mode": {
    "name": "ipython",
    "version": 3
   },
   "file_extension": ".py",
   "mimetype": "text/x-python",
   "name": "python",
   "nbconvert_exporter": "python",
   "pygments_lexer": "ipython3",
   "version": "3.6.5"
  }
 },
 "nbformat": 4,
 "nbformat_minor": 2
}
