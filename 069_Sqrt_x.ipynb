{
 "cells": [
  {
   "cell_type": "code",
   "execution_count": 1,
   "metadata": {},
   "outputs": [],
   "source": [
    "def mySqrt(self, x):\n",
    "    \"\"\"\n",
    "    :type x: int\n",
    "    :rtype: int\n",
    "    \"\"\"\n",
    "    if x==0 or x==1:\n",
    "        return x\n",
    "    def helper(lowIndex,highIndex):\n",
    "        if lowIndex > highIndex:\n",
    "            return -1\n",
    "        else:\n",
    "            midIndex = (lowIndex + highIndex)//2\n",
    "            midVal = midIndex + 1\n",
    "            if (midVal + 1)**2 < x:\n",
    "                return helper(midIndex,highIndex)\n",
    "            elif (midVal + 1)**2 == x:\n",
    "                return midVal+1\n",
    "            elif midVal**2 < x:\n",
    "                return midVal\n",
    "            \n",
    "            else:\n",
    "                return helper(lowIndex,midIndex)\n",
    "        pass\n",
    "\n",
    "    lowVal = 1\n",
    "    highVal = x\n",
    "\n",
    "    return helper(lowVal-1,highVal-1)"
   ]
  },
  {
   "cell_type": "code",
   "execution_count": 2,
   "metadata": {},
   "outputs": [
    {
     "data": {
      "text/plain": [
       "90"
      ]
     },
     "execution_count": 2,
     "metadata": {},
     "output_type": "execute_result"
    }
   ],
   "source": [
    "mySqrt(\"asdf\",8192)"
   ]
  }
 ],
 "metadata": {
  "kernelspec": {
   "display_name": "Python 3",
   "language": "python",
   "name": "python3"
  },
  "language_info": {
   "codemirror_mode": {
    "name": "ipython",
    "version": 3
   },
   "file_extension": ".py",
   "mimetype": "text/x-python",
   "name": "python",
   "nbconvert_exporter": "python",
   "pygments_lexer": "ipython3",
   "version": "3.6.8"
  }
 },
 "nbformat": 4,
 "nbformat_minor": 2
}
