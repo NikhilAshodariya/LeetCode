{
 "cells": [
  {
   "cell_type": "code",
   "execution_count": 3,
   "metadata": {},
   "outputs": [],
   "source": [
    "def isMatch(text, pattern):\n",
    "    memo = {}\n",
    "    def dp(i, j):\n",
    "        if (i, j) not in memo:\n",
    "            if j == len(pattern):\n",
    "                ans = i == len(text)\n",
    "            else:\n",
    "                first_match = i < len(text) and pattern[j] in {text[i], '.'}\n",
    "                if j+1 < len(pattern) and pattern[j+1] == '*':\n",
    "                    ans = dp(i, j+2) or first_match and dp(i+1, j)\n",
    "                else:\n",
    "                    ans = first_match and dp(i+1, j+1)\n",
    "\n",
    "            memo[i, j] = ans\n",
    "        return memo[i, j]\n",
    "\n",
    "    return dp(0, 0)"
   ]
  },
  {
   "cell_type": "code",
   "execution_count": 6,
   "metadata": {},
   "outputs": [
    {
     "data": {
      "text/plain": [
       "True"
      ]
     },
     "execution_count": 6,
     "metadata": {},
     "output_type": "execute_result"
    }
   ],
   "source": [
    "isMatch(\"abc\",\"a*b*c*\")"
   ]
  },
  {
   "cell_type": "code",
   "execution_count": null,
   "metadata": {},
   "outputs": [],
   "source": []
  },
  {
   "cell_type": "code",
   "execution_count": null,
   "metadata": {},
   "outputs": [],
   "source": []
  },
  {
   "cell_type": "code",
   "execution_count": null,
   "metadata": {},
   "outputs": [],
   "source": []
  },
  {
   "cell_type": "code",
   "execution_count": 23,
   "metadata": {},
   "outputs": [],
   "source": [
    "class Solution4:\n",
    "    # @return a boolean\n",
    "    def isMatch(self, s, p):\n",
    "#         print(\"is match called\")\n",
    "        if not p:\n",
    "            return not s\n",
    "\n",
    "        if len(p) == 1 or p[1] != '*':\n",
    "            if len(s) > 0 and (p[0] == s[0] or p[0] == '.'):\n",
    "                return self.isMatch(s[1:], p[1:])\n",
    "            else:\n",
    "                return False\n",
    "        else:\n",
    "            while len(s) > 0 and (p[0] == s[0] or p[0] == '.'):\n",
    "                var = self.isMatch(s,p[2:])\n",
    "                print(f\"var is => {var}\")\n",
    "                if var:\n",
    "                    return True\n",
    "                s = s[1:]\n",
    "                print(f\"s is => {s}\")\n",
    "            return self.isMatch(s, p[2:])"
   ]
  },
  {
   "cell_type": "code",
   "execution_count": 24,
   "metadata": {},
   "outputs": [],
   "source": [
    "obj = Solution4()"
   ]
  },
  {
   "cell_type": "code",
   "execution_count": 25,
   "metadata": {},
   "outputs": [
    {
     "name": "stdout",
     "output_type": "stream",
     "text": [
      "var is => False\n",
      "s is => bc\n",
      "var is => False\n",
      "s is => c\n",
      "var is => False\n",
      "s is => \n"
     ]
    },
    {
     "data": {
      "text/plain": [
       "True"
      ]
     },
     "execution_count": 25,
     "metadata": {},
     "output_type": "execute_result"
    }
   ],
   "source": [
    "obj.isMatch(\"abc\",\"a*b*c*\")"
   ]
  },
  {
   "cell_type": "code",
   "execution_count": null,
   "metadata": {},
   "outputs": [],
   "source": []
  },
  {
   "cell_type": "code",
   "execution_count": null,
   "metadata": {},
   "outputs": [],
   "source": []
  },
  {
   "cell_type": "markdown",
   "metadata": {},
   "source": [
    "https://www.programcreek.com/2012/12/leetcode-regular-expression-matching-in-java/"
   ]
  },
  {
   "cell_type": "markdown",
   "metadata": {},
   "source": [
    "### solution 2 of the website"
   ]
  },
  {
   "cell_type": "code",
   "execution_count": 10,
   "metadata": {},
   "outputs": [],
   "source": [
    "def isMatch(pattern,string):\n",
    "    if pattern == \"\":\n",
    "        return True if string==\"\" else False\n",
    "    \n",
    "    if len(pattern) == 1:\n",
    "        if len(string) < 1:\n",
    "            return False\n",
    "        \n",
    "        if (pattern[0]!=string[0]) and (pattern[0]!=\".\"):\n",
    "            return False\n",
    "        else:\n",
    "            return isMatch(pattern[1:],string[1:])\n",
    "    \n",
    "#     case 1: when the second char of p is not '*'\n",
    "    if pattern[1] != \"*\":\n",
    "        if len(string) < 1:\n",
    "            return False\n",
    "        if (pattern[0]!=string[0]) and (pattern[0]!=\".\"):\n",
    "            return False\n",
    "        else:\n",
    "            return isMatch(pattern[1:],string[1:])\n",
    "        \n",
    "#     case 2: when the second char of p is \"*\"\n",
    "    else:\n",
    "#         case 2.1: a char & '*' can stand for 0 element\n",
    "        if(isMatch(pattern[2:],string)):\n",
    "            return True\n",
    "        \n",
    "#         case 2.2: a char & '*' can stand for 1 or more preceding element, \n",
    "        i = 0\n",
    "        while i<len(string) and (string[i]==pattern[0] or pattern[0]==\".\"):\n",
    "            if isMatch(pattern[2:],string[i+1:]):\n",
    "                return True\n",
    "            i = i+1\n",
    "            \n",
    "        return False"
   ]
  },
  {
   "cell_type": "code",
   "execution_count": 22,
   "metadata": {},
   "outputs": [
    {
     "data": {
      "text/plain": [
       "False"
      ]
     },
     "execution_count": 22,
     "metadata": {},
     "output_type": "execute_result"
    }
   ],
   "source": [
    "isMatch(\"mis*is*p*.\",\"mississippi\")"
   ]
  },
  {
   "cell_type": "code",
   "execution_count": null,
   "metadata": {},
   "outputs": [],
   "source": []
  },
  {
   "cell_type": "markdown",
   "metadata": {},
   "source": [
    "# The Below code is modified little bit to paste in Leetcode"
   ]
  },
  {
   "cell_type": "code",
   "execution_count": 23,
   "metadata": {},
   "outputs": [],
   "source": [
    "def isMatch(self,string,pattern):\n",
    "    if pattern == \"\":\n",
    "        return True if string==\"\" else False\n",
    "    \n",
    "    if len(pattern) == 1:\n",
    "        if len(string) < 1:\n",
    "            return False\n",
    "        \n",
    "        if (pattern[0]!=string[0]) and (pattern[0]!=\".\"):\n",
    "            return False\n",
    "        else:\n",
    "            return self.isMatch(string[1:],pattern[1:])\n",
    "    \n",
    "#     case 1: when the second char of p is not '*'\n",
    "    if pattern[1] != \"*\":\n",
    "        if len(string) < 1:\n",
    "            return False\n",
    "        if (pattern[0]!=string[0]) and (pattern[0]!=\".\"):\n",
    "            return False\n",
    "        else:\n",
    "            return self.isMatch(string[1:],pattern[1:])\n",
    "        \n",
    "#     case 2: when the second char of p is \"*\"\n",
    "    else:\n",
    "#         case 2.1: a char & '*' can stand for 0 element\n",
    "        if(self.isMatch(string,pattern[2:])):\n",
    "            return True\n",
    "        \n",
    "#         case 2.2: a char & '*' can stand for 1 or more preceding element, \n",
    "        i = 0\n",
    "        while i<len(string) and (string[i]==pattern[0] or pattern[0]==\".\"):\n",
    "            if self.isMatch(string[i+1:],pattern[2:]):\n",
    "                return True\n",
    "            i = i+1\n",
    "            \n",
    "        return False"
   ]
  },
  {
   "cell_type": "code",
   "execution_count": 28,
   "metadata": {},
   "outputs": [
    {
     "data": {
      "text/plain": [
       "False"
      ]
     },
     "execution_count": 28,
     "metadata": {},
     "output_type": "execute_result"
    }
   ],
   "source": [
    "isMatch(\"mississippi\",\"mis*is*p*.\")"
   ]
  },
  {
   "cell_type": "code",
   "execution_count": null,
   "metadata": {},
   "outputs": [],
   "source": []
  },
  {
   "cell_type": "code",
   "execution_count": null,
   "metadata": {},
   "outputs": [],
   "source": []
  },
  {
   "cell_type": "code",
   "execution_count": null,
   "metadata": {},
   "outputs": [],
   "source": []
  }
 ],
 "metadata": {
  "kernelspec": {
   "display_name": "Python [conda env:Anaconda3]",
   "language": "python",
   "name": "conda-env-Anaconda3-py"
  },
  "language_info": {
   "codemirror_mode": {
    "name": "ipython",
    "version": 3
   },
   "file_extension": ".py",
   "mimetype": "text/x-python",
   "name": "python",
   "nbconvert_exporter": "python",
   "pygments_lexer": "ipython3",
   "version": "3.6.5"
  }
 },
 "nbformat": 4,
 "nbformat_minor": 2
}
