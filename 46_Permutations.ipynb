{
 "cells": [
  {
   "cell_type": "code",
   "execution_count": 129,
   "metadata": {},
   "outputs": [],
   "source": [
    "def permute(nums):\n",
    "    if (len(nums) == 1) or (len(nums) == 0):\n",
    "        return [nums]\n",
    "\n",
    "    result = []\n",
    "    def helper(tempList,ans):\n",
    "        if len(tempList) == 2:\n",
    "            previous = ans[:]\n",
    "\n",
    "            ans.append(tempList[0])\n",
    "            ans.append(tempList[1])\n",
    "\n",
    "            result.append(ans[:])\n",
    "\n",
    "            del ans[len(ans)-1]\n",
    "            del ans[len(ans)-1]\n",
    "\n",
    "            ans.append(tempList[1])\n",
    "            ans.append(tempList[0])\n",
    "\n",
    "            result.append(ans[:])\n",
    "            return previous\n",
    "        else:\n",
    "            for idx,val in enumerate(tempList):\n",
    "                ans.append(val)\n",
    "                temp = tempList[:]\n",
    "                del temp[idx]\n",
    "                ans = helper(temp,ans)\n",
    "                del ans[len(ans)-1]\n",
    "            return ans\n",
    "            pass\n",
    "    helper(nums,[])\n",
    "    return result"
   ]
  },
  {
   "cell_type": "code",
   "execution_count": 130,
   "metadata": {},
   "outputs": [
    {
     "data": {
      "text/plain": [
       "[[1, 2, 3], [1, 3, 2], [2, 1, 3], [2, 3, 1], [3, 1, 2], [3, 2, 1]]"
      ]
     },
     "execution_count": 130,
     "metadata": {},
     "output_type": "execute_result"
    }
   ],
   "source": [
    "permute([1,2,3])"
   ]
  },
  {
   "cell_type": "code",
   "execution_count": null,
   "metadata": {},
   "outputs": [],
   "source": []
  },
  {
   "cell_type": "code",
   "execution_count": null,
   "metadata": {},
   "outputs": [],
   "source": []
  }
 ],
 "metadata": {
  "kernelspec": {
   "display_name": "Python [conda env:Anaconda3]",
   "language": "python",
   "name": "conda-env-Anaconda3-py"
  },
  "language_info": {
   "codemirror_mode": {
    "name": "ipython",
    "version": 3
   },
   "file_extension": ".py",
   "mimetype": "text/x-python",
   "name": "python",
   "nbconvert_exporter": "python",
   "pygments_lexer": "ipython3",
   "version": "3.6.5"
  }
 },
 "nbformat": 4,
 "nbformat_minor": 2
}
