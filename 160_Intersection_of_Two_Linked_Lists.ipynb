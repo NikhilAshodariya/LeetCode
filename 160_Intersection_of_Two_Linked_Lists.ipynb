{
 "cells": [
  {
   "cell_type": "markdown",
   "metadata": {},
   "source": [
    "### Using Time complexity O(n) and Space Complexity O(1)"
   ]
  },
  {
   "cell_type": "code",
   "execution_count": null,
   "metadata": {},
   "outputs": [],
   "source": [
    "def getIntersectionNode(self, headA: ListNode, headB: ListNode) -> ListNode:\n",
    "    len_a = 0\n",
    "    len_b = 0\n",
    "    \n",
    "    p1 = headA\n",
    "    p2 = headB\n",
    "    \n",
    "    while p1:\n",
    "        len_a += 1\n",
    "        p1 = p1.next\n",
    "    \n",
    "    while p2:\n",
    "        len_b += 1\n",
    "        p2 = p2.next\n",
    "        \n",
    "    p1 = headA\n",
    "    p2 = headB\n",
    "    \n",
    "    if len_a > len_b:\n",
    "        diff = len_a - len_b\n",
    "        for i in range(0, diff):\n",
    "            p1 = p1.next\n",
    "    else:\n",
    "        diff = len_b - len_a\n",
    "        for i in range(0, diff):\n",
    "            p2 = p2.next\n",
    "    \n",
    "    while p1!= p2 or p1!=None:\n",
    "        p1 = p1.next\n",
    "        p2 = p2.next\n",
    "    \n",
    "    return p1"
   ]
  },
  {
   "cell_type": "markdown",
   "metadata": {},
   "source": [
    "### Using Time complexity O(n) and Space Complexity O(n)"
   ]
  },
  {
   "cell_type": "code",
   "execution_count": null,
   "metadata": {},
   "outputs": [],
   "source": [
    "class Solution:\n",
    "    def getIntersectionNode(self, headA: ListNode, headB: ListNode) -> ListNode:\n",
    "        hashMap = {}\n",
    "        \n",
    "        temp = headA\n",
    "        while temp:\n",
    "            hashMap[temp] = True\n",
    "            temp = temp.next\n",
    "            \n",
    "        temp = headB\n",
    "        while temp:\n",
    "            if temp in hashMap:\n",
    "                return temp\n",
    "            temp = temp.next\n",
    "    "
   ]
  },
  {
   "cell_type": "markdown",
   "metadata": {},
   "source": [
    "### Brute Force approach Time complexity O(n*m) and Space Complexity O(1)"
   ]
  },
  {
   "cell_type": "code",
   "execution_count": null,
   "metadata": {},
   "outputs": [],
   "source": [
    "class Solution:\n",
    "    def getIntersectionNode(self, headA: ListNode, headB: ListNode) -> ListNode:\n",
    "        returnVal = None\n",
    "        temp = headA\n",
    "        \n",
    "        def checkIfPresent(val):\n",
    "            temp = headB\n",
    "            \n",
    "            while temp:\n",
    "                if temp == val:\n",
    "                    return True\n",
    "                temp = temp.next\n",
    "            return False\n",
    "                \n",
    "                \n",
    "        while temp:\n",
    "            if checkIfPresent(temp):\n",
    "                returnVal = temp\n",
    "                break\n",
    "            temp = temp.next\n",
    "        \n",
    "        return returnVal\n",
    "    "
   ]
  }
 ],
 "metadata": {
  "kernelspec": {
   "display_name": "Python 3",
   "language": "python",
   "name": "python3"
  },
  "language_info": {
   "codemirror_mode": {
    "name": "ipython",
    "version": 3
   },
   "file_extension": ".py",
   "mimetype": "text/x-python",
   "name": "python",
   "nbconvert_exporter": "python",
   "pygments_lexer": "ipython3",
   "version": "3.7.3"
  }
 },
 "nbformat": 4,
 "nbformat_minor": 2
}
