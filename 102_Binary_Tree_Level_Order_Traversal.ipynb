{
 "cells": [
  {
   "cell_type": "raw",
   "metadata": {},
   "source": [
    "# Definition for a binary tree node.\n",
    "# class TreeNode:\n",
    "#     def __init__(self, x):\n",
    "#         self.val = x\n",
    "#         self.left = None\n",
    "#         self.right = None\n"
   ]
  },
  {
   "cell_type": "code",
   "execution_count": 2,
   "metadata": {},
   "outputs": [],
   "source": [
    "def levelOrder(root): \n",
    "    # Base Case \n",
    "    if root is None: \n",
    "        return\n",
    "\n",
    "    # Create an empty queue for level order traversal \n",
    "    queue = [] \n",
    "    lis = []\n",
    "    temp = []\n",
    "\n",
    "    # Enqueue Root and initialize height \n",
    "    queue.append(root) \n",
    "\n",
    "    while True:\n",
    "        lis.append([val.val for val in queue[:]])\n",
    "\n",
    "        while len(queue) > 0:\n",
    "            node = queue.pop(0)\n",
    "            if node.left!=None:\n",
    "                temp.append(node.left)\n",
    "            if node.right!=None:\n",
    "                temp.append(node.right)\n",
    "\n",
    "        if temp == []:\n",
    "            break\n",
    "        queue = temp[:]\n",
    "        temp = []\n",
    "    return lis"
   ]
  }
 ],
 "metadata": {
  "kernelspec": {
   "display_name": "Python 3",
   "language": "python",
   "name": "python3"
  },
  "language_info": {
   "codemirror_mode": {
    "name": "ipython",
    "version": 3
   },
   "file_extension": ".py",
   "mimetype": "text/x-python",
   "name": "python",
   "nbconvert_exporter": "python",
   "pygments_lexer": "ipython3",
   "version": "3.7.3"
  }
 },
 "nbformat": 4,
 "nbformat_minor": 2
}
