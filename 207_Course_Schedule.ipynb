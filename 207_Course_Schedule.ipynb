{
 "cells": [
  {
   "cell_type": "code",
   "execution_count": 1,
   "metadata": {},
   "outputs": [],
   "source": [
    "def canFinish(numCourses, prerequisites):\n",
    "    if len(prerequisites) == 0 or len(prerequisites) == 1:\n",
    "        return True\n",
    "\n",
    "    dic = {}\n",
    "\n",
    "    for element in prerequisites:\n",
    "        if element[0] in dic:\n",
    "            dic[element[0]].append(element[1])\n",
    "        else:\n",
    "            dic[element[0]] = [element[1]]\n",
    "    \n",
    "    def innerCanFinish(node, visitedNodes):\n",
    "        if node in dp:\n",
    "            return dp[node]\n",
    "        if node in dic:\n",
    "            temp = []\n",
    "\n",
    "            for value in dic[node]:\n",
    "                if value in dp:\n",
    "                    temp.append(dp[value])\n",
    "\n",
    "                if value in visitedNodes:\n",
    "                    return False\n",
    "                else:\n",
    "                    visitedNodes.append(value)\n",
    "\n",
    "                    dp[value] = innerCanFinish(value, visitedNodes[:])\n",
    "                    temp.append(dp[value])\n",
    "\n",
    "                    visitedNodes.remove(value)\n",
    "            return all(temp)\n",
    "        else:\n",
    "            return True\n",
    "\n",
    "\n",
    "    nodes = list(dic.keys())\n",
    "    dp = {}\n",
    "\n",
    "    for node in nodes:\n",
    "        dp[node] = innerCanFinish(node,[node])\n",
    "\n",
    "\n",
    "    return all(list(dp.values()))"
   ]
  },
  {
   "cell_type": "code",
   "execution_count": 2,
   "metadata": {},
   "outputs": [
    {
     "data": {
      "text/plain": [
       "False"
      ]
     },
     "execution_count": 2,
     "metadata": {},
     "output_type": "execute_result"
    }
   ],
   "source": [
    "canFinish(4, [[2,0],[1,0],[3,1],[3,2],[1,3]])"
   ]
  },
  {
   "cell_type": "code",
   "execution_count": 3,
   "metadata": {},
   "outputs": [
    {
     "data": {
      "text/plain": [
       "True"
      ]
     },
     "execution_count": 3,
     "metadata": {},
     "output_type": "execute_result"
    }
   ],
   "source": [
    "canFinish(8,[[1,0],[2,6],[1,7],[6,4],[7,0],[0,5]])"
   ]
  },
  {
   "cell_type": "code",
   "execution_count": 4,
   "metadata": {},
   "outputs": [
    {
     "data": {
      "text/plain": [
       "True"
      ]
     },
     "execution_count": 4,
     "metadata": {},
     "output_type": "execute_result"
    }
   ],
   "source": [
    "canFinish(3, [[0,1],[0,2],[1,2]])"
   ]
  },
  {
   "cell_type": "code",
   "execution_count": 5,
   "metadata": {},
   "outputs": [
    {
     "data": {
      "text/plain": [
       "False"
      ]
     },
     "execution_count": 5,
     "metadata": {},
     "output_type": "execute_result"
    }
   ],
   "source": [
    "canFinish(2, [[0,1],[1,0]])"
   ]
  },
  {
   "cell_type": "code",
   "execution_count": 6,
   "metadata": {
    "scrolled": true
   },
   "outputs": [
    {
     "data": {
      "text/plain": [
       "False"
      ]
     },
     "execution_count": 6,
     "metadata": {},
     "output_type": "execute_result"
    }
   ],
   "source": [
    "canFinish(3, [[1,0],[0,2],[2,1]])"
   ]
  },
  {
   "cell_type": "code",
   "execution_count": 7,
   "metadata": {},
   "outputs": [
    {
     "data": {
      "text/plain": [
       "True"
      ]
     },
     "execution_count": 7,
     "metadata": {},
     "output_type": "execute_result"
    }
   ],
   "source": [
    "canFinish(2, [[1,0]])"
   ]
  }
 ],
 "metadata": {
  "kernelspec": {
   "display_name": "Python 3",
   "language": "python",
   "name": "python3"
  },
  "language_info": {
   "codemirror_mode": {
    "name": "ipython",
    "version": 3
   },
   "file_extension": ".py",
   "mimetype": "text/x-python",
   "name": "python",
   "nbconvert_exporter": "python",
   "pygments_lexer": "ipython3",
   "version": "3.7.3"
  }
 },
 "nbformat": 4,
 "nbformat_minor": 2
}
