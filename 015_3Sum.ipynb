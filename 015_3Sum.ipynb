{
 "cells": [
  {
   "cell_type": "code",
   "execution_count": 3,
   "metadata": {},
   "outputs": [],
   "source": [
    "def threeSum(nums):\n",
    "    nums = sorted(nums)\n",
    "    ans = []\n",
    "    done = []\n",
    "\n",
    "    for index,val in enumerate(nums[:-2]):\n",
    "        if val in done:\n",
    "            continue\n",
    "        low = index + 1\n",
    "        high = len(nums) - 1\n",
    "        while low<high:\n",
    "            sum_ = nums[index] + nums[low] + nums[high]\n",
    "            if sum_ < 0:\n",
    "                while low < high:\n",
    "                    if nums[low] != nums[low + 1]:\n",
    "                        low = low + 1\n",
    "                        break\n",
    "                    else:\n",
    "                        low = low + 1\n",
    "            elif sum_ > 0:\n",
    "                while high > low:\n",
    "                    if nums[high] != nums[high-1]:\n",
    "                        high = high - 1\n",
    "                        break\n",
    "                    else:\n",
    "                        high = high - 1\n",
    "            elif sum_ == 0:\n",
    "                ans.append([nums[index],nums[low],nums[high]])\n",
    "                while low < high:\n",
    "                    if nums[low] != nums[low + 1]:\n",
    "                        low = low + 1\n",
    "                        break\n",
    "                    else:\n",
    "                        low = low + 1\n",
    "        done.append(val)\n",
    "    return ans"
   ]
  },
  {
   "cell_type": "code",
   "execution_count": 4,
   "metadata": {},
   "outputs": [
    {
     "data": {
      "text/plain": [
       "[[-1, -1, 2], [-1, 0, 1]]"
      ]
     },
     "execution_count": 4,
     "metadata": {},
     "output_type": "execute_result"
    }
   ],
   "source": [
    "threeSum([-1, 0, 1, 2, -1, -4])"
   ]
  },
  {
   "cell_type": "code",
   "execution_count": 5,
   "metadata": {},
   "outputs": [
    {
     "data": {
      "text/plain": [
       "[[-5, 1, 4], [-4, 0, 4], [-4, 1, 3], [-2, -2, 4], [-2, 1, 1], [0, 0, 0]]"
      ]
     },
     "execution_count": 5,
     "metadata": {},
     "output_type": "execute_result"
    }
   ],
   "source": [
    "threeSum([-4,-2,1,-5,-4,-4,4,-2,0,4,0,-2,3,1,-5,0])"
   ]
  },
  {
   "cell_type": "code",
   "execution_count": null,
   "metadata": {},
   "outputs": [],
   "source": []
  }
 ],
 "metadata": {
  "kernelspec": {
   "display_name": "Python [conda env:Anaconda3]",
   "language": "python",
   "name": "conda-env-Anaconda3-py"
  },
  "language_info": {
   "codemirror_mode": {
    "name": "ipython",
    "version": 3
   },
   "file_extension": ".py",
   "mimetype": "text/x-python",
   "name": "python",
   "nbconvert_exporter": "python",
   "pygments_lexer": "ipython3",
   "version": "3.6.5"
  }
 },
 "nbformat": 4,
 "nbformat_minor": 2
}
