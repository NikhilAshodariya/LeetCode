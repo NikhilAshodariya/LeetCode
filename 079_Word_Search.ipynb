{
 "cells": [
  {
   "cell_type": "markdown",
   "metadata": {},
   "source": [
    "# Using Dynamic Programming"
   ]
  },
  {
   "cell_type": "code",
   "execution_count": 1,
   "metadata": {},
   "outputs": [],
   "source": [
    "def exist(board, word):\n",
    "    \"\"\"\n",
    "    :type board: List[List[str]]\n",
    "    :type word: str\n",
    "    :rtype: bool\n",
    "    \"\"\"\n",
    "    w = len(board)\n",
    "    h = len(board[0])\n",
    "    dynamic = [[False for x in range(h)] for y in range(w)] \n",
    "\n",
    "    def dfs(row,col,string):\n",
    "        if len(string) == 0:\n",
    "            return True\n",
    "\n",
    "        if row < 0 or row >= len(board) or col < 0 or col >= len(board[0]):\n",
    "            return False\n",
    "        if board[row][col] != string[0]:\n",
    "            return False\n",
    "        else:\n",
    "            if not dynamic[row][col]:\n",
    "                temp = board[row][col]\n",
    "                board[row][col] = \"\"\n",
    "                res = dfs(row+1,col,string[1:]) or dfs(row-1,col,string[1:]) or dfs(row,col+1,string[1:]) or dfs(row,col-1,string[1:])\n",
    "                board[row][col] = temp\n",
    "                dynamic[row][col] = res\n",
    "                return res\n",
    "            else:\n",
    "                return dynamic[row][col]\n",
    "\n",
    "    for i in range(len(board)):\n",
    "        for j in range(len(board[0])):\n",
    "            if dfs(i,j,word):\n",
    "                return True\n",
    "\n",
    "    return False"
   ]
  },
  {
   "cell_type": "code",
   "execution_count": 2,
   "metadata": {},
   "outputs": [
    {
     "data": {
      "text/plain": [
       "True"
      ]
     },
     "execution_count": 2,
     "metadata": {},
     "output_type": "execute_result"
    }
   ],
   "source": [
    "exist([\n",
    "    [\"C\",\"A\",\"A\"],\n",
    "    [\"A\",\"A\",\"A\"],\n",
    "    [\"B\",\"C\",\"D\"]\n",
    "],\"AAB\")"
   ]
  },
  {
   "cell_type": "code",
   "execution_count": 3,
   "metadata": {},
   "outputs": [
    {
     "data": {
      "text/plain": [
       "False"
      ]
     },
     "execution_count": 3,
     "metadata": {},
     "output_type": "execute_result"
    }
   ],
   "source": [
    "exist([\n",
    "  ['A','B','C','E'],\n",
    "  ['S','F','C','S'],\n",
    "  ['A','D','E','E']\n",
    "],\"ABCB\")"
   ]
  },
  {
   "cell_type": "markdown",
   "metadata": {},
   "source": [
    "# Without Dynamic Programming"
   ]
  },
  {
   "cell_type": "code",
   "execution_count": 4,
   "metadata": {},
   "outputs": [],
   "source": [
    "def exist(board, word):\n",
    "    \"\"\"\n",
    "    :type board: List[List[str]]\n",
    "    :type word: str\n",
    "    :rtype: bool\n",
    "    \"\"\"\n",
    "\n",
    "    def dfs(row,col,string):\n",
    "        if len(string) == 0:\n",
    "            return True\n",
    "\n",
    "        if row < 0 or row >= len(board) or col < 0 or col >= len(board[0]):\n",
    "            return False\n",
    "        if board[row][col] != string[0]:\n",
    "            return False\n",
    "        else:\n",
    "            temp = board[row][col]\n",
    "            board[row][col] = \"\"\n",
    "            res = dfs(row+1,col,string[1:]) or dfs(row-1,col,string[1:]) or dfs(row,col+1,string[1:]) or dfs(row,col-1,string[1:])\n",
    "            board[row][col] = temp\n",
    "            return res\n",
    "\n",
    "    for i in range(len(board)):\n",
    "        for j in range(len(board[0])):\n",
    "            if dfs(i,j,word):\n",
    "                return True\n",
    "    return False"
   ]
  },
  {
   "cell_type": "code",
   "execution_count": 5,
   "metadata": {},
   "outputs": [
    {
     "data": {
      "text/plain": [
       "True"
      ]
     },
     "execution_count": 5,
     "metadata": {},
     "output_type": "execute_result"
    }
   ],
   "source": [
    "exist([\n",
    "    [\"A\",\"B\",\"C\",\"E\"],\n",
    "    [\"S\",\"F\",\"E\",\"S\"],\n",
    "    [\"A\",\"D\",\"E\",\"E\"]\n",
    "],\"ABCESEEEFS\")"
   ]
  },
  {
   "cell_type": "code",
   "execution_count": 6,
   "metadata": {},
   "outputs": [
    {
     "data": {
      "text/plain": [
       "False"
      ]
     },
     "execution_count": 6,
     "metadata": {},
     "output_type": "execute_result"
    }
   ],
   "source": [
    "exist([\n",
    "  ['A','B','C','E'],\n",
    "  ['S','F','C','S'],\n",
    "  ['A','D','E','E']\n",
    "],\"ABCB\")"
   ]
  }
 ],
 "metadata": {
  "kernelspec": {
   "display_name": "Python 3",
   "language": "python",
   "name": "python3"
  },
  "language_info": {
   "codemirror_mode": {
    "name": "ipython",
    "version": 3
   },
   "file_extension": ".py",
   "mimetype": "text/x-python",
   "name": "python",
   "nbconvert_exporter": "python",
   "pygments_lexer": "ipython3",
   "version": "3.6.8"
  }
 },
 "nbformat": 4,
 "nbformat_minor": 2
}
