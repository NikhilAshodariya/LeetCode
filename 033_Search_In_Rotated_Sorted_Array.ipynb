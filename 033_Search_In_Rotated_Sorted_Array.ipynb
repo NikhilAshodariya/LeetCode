{
 "cells": [
  {
   "cell_type": "code",
   "execution_count": 1,
   "metadata": {},
   "outputs": [],
   "source": [
    "def search(nums, target):\n",
    "    \"\"\"\n",
    "    :type nums: List[int]\n",
    "    :type target: int\n",
    "    :rtype: int\n",
    "    \"\"\"\n",
    "    def binary_search(seq, t):\n",
    "        min = 0\n",
    "        max = len(seq) - 1\n",
    "        while True:\n",
    "            if max < min:\n",
    "                return -1\n",
    "            m = (min + max) // 2\n",
    "            if seq[m] < t:\n",
    "                min = m + 1\n",
    "            elif seq[m] > t:\n",
    "                max = m - 1\n",
    "            else:\n",
    "                return m\n",
    "\n",
    "    if nums == []:\n",
    "        return -1\n",
    "\n",
    "#     if target==nums[0]:\n",
    "#         return 0\n",
    "\n",
    "    previous = nums[0]\n",
    "    temp1 = []\n",
    "    temp2 = []\n",
    "    counter = 0\n",
    "    for idx,val in enumerate(nums):\n",
    "#         print(f\"val = {val} previous = {previous} and idx = {idx}\")\n",
    "        if val<previous:\n",
    "            temp1 = nums[:idx]\n",
    "            temp2 = nums[idx:]\n",
    "            break\n",
    "        else:\n",
    "            previous = val\n",
    "            pass\n",
    "        pass\n",
    "    if temp1 == []:\n",
    "        temp1 = nums[:]\n",
    "#     print(temp1)\n",
    "#     print(temp2)\n",
    "    del nums\n",
    "    ans = binary_search(temp1,target)\n",
    "    if ans==-1:\n",
    "        ans = binary_search(temp2,target)\n",
    "        if ans == -1:\n",
    "            return -1\n",
    "        else:\n",
    "            return len(temp1)+ans\n",
    "    return ans\n"
   ]
  },
  {
   "cell_type": "code",
   "execution_count": 2,
   "metadata": {},
   "outputs": [
    {
     "data": {
      "text/plain": [
       "1"
      ]
     },
     "execution_count": 2,
     "metadata": {},
     "output_type": "execute_result"
    }
   ],
   "source": [
    "search([1,3],3)"
   ]
  },
  {
   "cell_type": "code",
   "execution_count": null,
   "metadata": {},
   "outputs": [],
   "source": []
  }
 ],
 "metadata": {
  "kernelspec": {
   "display_name": "Python [conda env:Anaconda3]",
   "language": "python",
   "name": "conda-env-Anaconda3-py"
  },
  "language_info": {
   "codemirror_mode": {
    "name": "ipython",
    "version": 3
   },
   "file_extension": ".py",
   "mimetype": "text/x-python",
   "name": "python",
   "nbconvert_exporter": "python",
   "pygments_lexer": "ipython3",
   "version": "3.6.5"
  }
 },
 "nbformat": 4,
 "nbformat_minor": 2
}
