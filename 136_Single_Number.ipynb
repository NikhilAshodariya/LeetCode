{
 "cells": [
  {
   "cell_type": "markdown",
   "metadata": {},
   "source": [
    "## Using Sorting\n",
    "Time Complexity :- O(nlog(n))\n",
    "<br>\n",
    "Space Complexity:- O(1)"
   ]
  },
  {
   "cell_type": "code",
   "execution_count": 14,
   "metadata": {},
   "outputs": [],
   "source": [
    "def singleNumber(nums):\n",
    "    nums.sort()\n",
    "    for index, num in enumerate(nums[:-1]):\n",
    "        if num != nums[index + 1] and num != nums[index - 1]:\n",
    "            return num\n",
    "    return nums[-1]"
   ]
  },
  {
   "cell_type": "markdown",
   "metadata": {},
   "source": [
    "## Using HashMap\n",
    "\n",
    "Time Complexity :- O(n)\n",
    "<br>\n",
    "Space Complexity:- O(n)"
   ]
  },
  {
   "cell_type": "code",
   "execution_count": 15,
   "metadata": {},
   "outputs": [],
   "source": [
    "def singleNumber(nums):\n",
    "    \"\"\"\n",
    "    :type nums: List[int]\n",
    "    :rtype: int\n",
    "    \"\"\"\n",
    "    hash_table = {}\n",
    "    for i in nums:\n",
    "        try:\n",
    "            hash_table.pop(i)\n",
    "        except:\n",
    "            hash_table[i] = 1\n",
    "    return hash_table.popitem()[0]"
   ]
  },
  {
   "cell_type": "markdown",
   "metadata": {},
   "source": [
    "## Best solution\n",
    "\n",
    "https://leetcode.com/problems/single-number/solution/\n",
    "\n",
    "See solution 4 I loved it"
   ]
  },
  {
   "cell_type": "code",
   "execution_count": 16,
   "metadata": {},
   "outputs": [],
   "source": [
    "def singleNumber(nums):\n",
    "    a = 0\n",
    "    for num in nums:\n",
    "        a ^= num\n",
    "    return a"
   ]
  },
  {
   "cell_type": "markdown",
   "metadata": {},
   "source": [
    "Time Complexity :- O(n) \n",
    "<br>\n",
    "Space Complexity:- O(1)"
   ]
  }
 ],
 "metadata": {
  "kernelspec": {
   "display_name": "Python 3",
   "language": "python",
   "name": "python3"
  },
  "language_info": {
   "codemirror_mode": {
    "name": "ipython",
    "version": 3
   },
   "file_extension": ".py",
   "mimetype": "text/x-python",
   "name": "python",
   "nbconvert_exporter": "python",
   "pygments_lexer": "ipython3",
   "version": "3.7.3"
  }
 },
 "nbformat": 4,
 "nbformat_minor": 2
}
