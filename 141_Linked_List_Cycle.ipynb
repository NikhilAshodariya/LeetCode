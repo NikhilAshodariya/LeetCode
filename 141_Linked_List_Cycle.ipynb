{
 "cells": [
  {
   "cell_type": "markdown",
   "metadata": {},
   "source": [
    "### Using space complexity as O(1)"
   ]
  },
  {
   "cell_type": "code",
   "execution_count": 1,
   "metadata": {},
   "outputs": [],
   "source": [
    "def hasCycle(head):\n",
    "    if head == None:\n",
    "        return False\n",
    "\n",
    "    tempslow = head\n",
    "    tempfast = None if head.next == None else head.next.next\n",
    "\n",
    "    while tempfast:\n",
    "        tempslow = tempslow.next\n",
    "        tempfast = None if tempfast.next == None else tempfast.next.next\n",
    "\n",
    "        if tempslow == tempfast and tempslow != None:\n",
    "            return True\n",
    "\n",
    "    return False"
   ]
  },
  {
   "cell_type": "markdown",
   "metadata": {},
   "source": [
    "### Using space complexity as O(n)"
   ]
  },
  {
   "cell_type": "code",
   "execution_count": null,
   "metadata": {},
   "outputs": [],
   "source": [
    "def hasCycle(head):\n",
    "    temp = head\n",
    "    tempList = {}\n",
    "\n",
    "    while temp:\n",
    "        tempList[temp] = True\n",
    "        if temp.next in tempList:\n",
    "            return True\n",
    "        temp = temp.next\n",
    "    return False"
   ]
  }
 ],
 "metadata": {
  "kernelspec": {
   "display_name": "Python 3",
   "language": "python",
   "name": "python3"
  },
  "language_info": {
   "codemirror_mode": {
    "name": "ipython",
    "version": 3
   },
   "file_extension": ".py",
   "mimetype": "text/x-python",
   "name": "python",
   "nbconvert_exporter": "python",
   "pygments_lexer": "ipython3",
   "version": "3.7.3"
  }
 },
 "nbformat": 4,
 "nbformat_minor": 2
}
