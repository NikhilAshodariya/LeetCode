{
 "cells": [
  {
   "cell_type": "code",
   "execution_count": null,
   "metadata": {},
   "outputs": [],
   "source": [
    "def containsCheck(lis,inpu):\n",
    "    check = True\n",
    "    for k in lis:\n",
    "        for j in inpu:\n",
    "            if j in k:\n",
    "                check = True\n",
    "            else:\n",
    "                check = False\n",
    "                break\n",
    "        if check == True:\n",
    "            return True\n",
    "    return False"
   ]
  },
  {
   "cell_type": "code",
   "execution_count": null,
   "metadata": {},
   "outputs": [],
   "source": [
    "inpu = [-1, 2, -1] \n",
    "lis = [[-1, 0, 1], [-1, 2, -1], [2, -1, -1], [2, -4, 2]]"
   ]
  },
  {
   "cell_type": "code",
   "execution_count": null,
   "metadata": {},
   "outputs": [],
   "source": [
    "containsCheck(lis,inpu)"
   ]
  },
  {
   "cell_type": "code",
   "execution_count": null,
   "metadata": {},
   "outputs": [],
   "source": []
  },
  {
   "cell_type": "code",
   "execution_count": null,
   "metadata": {},
   "outputs": [],
   "source": [
    "[1,1,1] in [3,2,1]"
   ]
  },
  {
   "cell_type": "code",
   "execution_count": null,
   "metadata": {},
   "outputs": [],
   "source": [
    "l = [0,0,0]"
   ]
  },
  {
   "cell_type": "code",
   "execution_count": null,
   "metadata": {},
   "outputs": [],
   "source": [
    "l[:] == l[::-1]"
   ]
  },
  {
   "cell_type": "code",
   "execution_count": 6,
   "metadata": {},
   "outputs": [
    {
     "data": {
      "text/plain": [
       "[1, 2, 3, 4, 5]"
      ]
     },
     "execution_count": 6,
     "metadata": {},
     "output_type": "execute_result"
    }
   ],
   "source": [
    "[1,2,3,4,5,6,7,8][:-3]"
   ]
  },
  {
   "cell_type": "code",
   "execution_count": 13,
   "metadata": {},
   "outputs": [],
   "source": [
    "def threeSum(self, nums):\n",
    "    nums = sorted(nums)\n",
    "    ans = []\n",
    "    done = []\n",
    "    \n",
    "    for index,val in enumerate(nums[:-2]):\n",
    "        if val in done:\n",
    "            continue\n",
    "        low = index + 1\n",
    "        high = len(nums) - 1\n",
    "        while low<high:\n",
    "            sum_ = nums[index] + nums[low] + nums[high]\n",
    "            if sum_ < 0:\n",
    "                while low < high:\n",
    "                    if nums[low] != nums[low + 1]:\n",
    "                        low = low + 1\n",
    "                        break\n",
    "                    else:\n",
    "                        low = low + 1\n",
    "            elif sum_ > 0:\n",
    "                while high > low:\n",
    "                    if nums[high] != nums[high-1]:\n",
    "                        high = high - 1\n",
    "                        break\n",
    "                    else:\n",
    "                        high = high - 1\n",
    "            elif sum_ == 0:\n",
    "                ans.append([nums[index],nums[low],nums[high]])\n",
    "                while low < high:\n",
    "                    if nums[low] != nums[low + 1]:\n",
    "                        low = low + 1\n",
    "                        break\n",
    "                    else:\n",
    "                        low = low + 1\n",
    "        done.append(val)\n",
    "    return ans\n",
    "    \"\"\"\n",
    "    :type nums: List[int]\n",
    "    :rtype: List[List[int]]\n",
    "    \"\"\""
   ]
  },
  {
   "cell_type": "code",
   "execution_count": 14,
   "metadata": {},
   "outputs": [
    {
     "data": {
      "text/plain": [
       "[[-1, -1, 2], [-1, 0, 1]]"
      ]
     },
     "execution_count": 14,
     "metadata": {},
     "output_type": "execute_result"
    }
   ],
   "source": [
    "threeSum(\"asdf\",[-1, 0, 1, 2, -1, -4])"
   ]
  },
  {
   "cell_type": "code",
   "execution_count": null,
   "metadata": {},
   "outputs": [],
   "source": [
    "sorted([-1,0,1,2,-1,-4])"
   ]
  },
  {
   "cell_type": "code",
   "execution_count": null,
   "metadata": {},
   "outputs": [],
   "source": []
  },
  {
   "cell_type": "code",
   "execution_count": null,
   "metadata": {},
   "outputs": [],
   "source": []
  },
  {
   "cell_type": "code",
   "execution_count": null,
   "metadata": {},
   "outputs": [],
   "source": [
    "def containsCheck(lis,inpu):\n",
    "    check = True\n",
    "#     if inpu==[0,0,0]:\n",
    "#         print(f\"lis = {lis}\")\n",
    "#         print(\"hi\")\n",
    "    if inpu in lis:\n",
    "        return True\n",
    "    \n",
    "    if inpu[:] == inpu[::-1]:\n",
    "        return False\n",
    "\n",
    "    for k in lis:\n",
    "        for j in inpu:\n",
    "            if j in k:\n",
    "                check = True\n",
    "            else:\n",
    "                check = False\n",
    "                break\n",
    "        if check == True:\n",
    "            return True\n",
    "    return False\n",
    "\n",
    "def threeSum(self, nums):\n",
    "    ans = []\n",
    "    Icounter = 0\n",
    "    Jcounter = 0\n",
    "    Kcounter = 0\n",
    "    \n",
    "    for i in range(0,len(nums)):\n",
    "        for j in range(i+1,len(nums)):\n",
    "            for k in range(j+1,len(nums)):\n",
    "#                 if nums[i]==nums[j]==nums[k]==0:\n",
    "#                     print(f\"i = {nums[i]}, j = {nums[j]} and k = {nums[k]} and check = {containsCheck(ans,[nums[i],nums[j],nums[k]])}\")\n",
    "                if ((nums[i]+nums[j]+nums[k]) == 0) and not containsCheck(ans,[nums[i],nums[j],nums[k]]):\n",
    "                    ans.append([nums[i],nums[j],nums[k]])\n",
    "    ans = [sorted(k) for k in ans]\n",
    "    res = []\n",
    "#     print(ans)\n",
    "    [res.append(k) for k in ans if k not in res]\n",
    "    return res\n",
    "    \"\"\"\n",
    "    :type nums: List[int]\n",
    "    :rtype: List[List[int]]\n",
    "    \"\"\""
   ]
  },
  {
   "cell_type": "code",
   "execution_count": null,
   "metadata": {},
   "outputs": [],
   "source": [
    "threeSum(\"asdf\",[-4,-2,1,-5,-4,-4,4,-2,0,4,0,-2,3,1,-5,0])"
   ]
  },
  {
   "cell_type": "code",
   "execution_count": null,
   "metadata": {},
   "outputs": [],
   "source": [
    "def threeSum(self, nums):\n",
    "        #sort the list first for indexing\n",
    "        nums.sort()\n",
    "        l_n = len(nums)\n",
    "        ans = []\n",
    "        # fast return if list condition is wrong\n",
    "        if not nums or l_n < 3:\n",
    "            return []\n",
    "        #loop for first numner\n",
    "        for i in range(l_n-2):\n",
    "            #since the array is sorted, if the smallest number is > 0 there are no more valid options\n",
    "            if nums[i] > 0:\n",
    "                return ans\n",
    "            #redundant checking omitted\n",
    "            if i > 0 and nums[i]==nums[i-1]:\n",
    "                continue\n",
    "            #create second and third index locations\n",
    "            low = i+1\n",
    "            hi = l_n-1\n",
    "            #inner loop for checking sum == 0\n",
    "            while low < hi:\n",
    "                s = nums[low] + nums[hi] + nums[i]\n",
    "                #this case we want to append the three numbers to the ans list\n",
    "                if s == 0:\n",
    "                    ans.append([nums[i],nums[low],nums[hi]])\n",
    "                    #solving redundant case where next number is the same as low\n",
    "                    while low < hi and nums[low] == nums[low+1]: low+=1\n",
    "                    #solving redundant case where prev number is the same as hi\n",
    "                    while low < hi and nums[hi] == nums[hi-1]: hi-=1\n",
    "                    low += 1\n",
    "                    hi -= 1\n",
    "                #if sum too small, increment low\n",
    "                elif s < 0:\n",
    "                    low += 1\n",
    "                #if sum too large, decrement hi\n",
    "                else:\n",
    "                    hi -= 1\n",
    "        return ans"
   ]
  },
  {
   "cell_type": "code",
   "execution_count": null,
   "metadata": {},
   "outputs": [],
   "source": [
    "threeSum(\"asdf\",[-4,-2,1,-5,-4,-4,4,-2,0,4,0,-2,3,1,-5,0])"
   ]
  },
  {
   "cell_type": "code",
   "execution_count": null,
   "metadata": {},
   "outputs": [],
   "source": []
  }
 ],
 "metadata": {
  "kernelspec": {
   "display_name": "Python [conda env:Anaconda3]",
   "language": "python",
   "name": "conda-env-Anaconda3-py"
  },
  "language_info": {
   "codemirror_mode": {
    "name": "ipython",
    "version": 3
   },
   "file_extension": ".py",
   "mimetype": "text/x-python",
   "name": "python",
   "nbconvert_exporter": "python",
   "pygments_lexer": "ipython3",
   "version": "3.6.5"
  }
 },
 "nbformat": 4,
 "nbformat_minor": 2
}
