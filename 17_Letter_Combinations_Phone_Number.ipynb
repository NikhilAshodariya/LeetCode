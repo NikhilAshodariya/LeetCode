{
 "cells": [
  {
   "cell_type": "code",
   "execution_count": 26,
   "metadata": {},
   "outputs": [],
   "source": [
    "def letterCombinations(self, digits):\n",
    "    res = []\n",
    "    mapping = {\n",
    "        \"2\" : \"abc\",\n",
    "        \"3\" : \"def\",\n",
    "        \"4\" : \"ghi\",\n",
    "        \"5\" : \"jkl\",\n",
    "        \"6\" : \"mno\",\n",
    "        \"7\" : \"pqrs\",\n",
    "        \"8\" : \"tuv\",\n",
    "        \"9\" : \"wxyz\"\n",
    "    }\n",
    "    \n",
    "    def helper(userInput, formedString):\n",
    "        if(len(formedString) == len(userInput)):\n",
    "            res.append(formedString)\n",
    "            return\n",
    "        else:\n",
    "            for v in mapping[digits[len(formedString)]]:\n",
    "                formedString += v\n",
    "                helper(userInput,formedString)\n",
    "                formedString = formedString[:len(formedString)-1]\n",
    "                pass\n",
    "            pass\n",
    "        pass\n",
    "    helper(digits,\"\")\n",
    "    return res\n",
    "    pass"
   ]
  },
  {
   "cell_type": "code",
   "execution_count": 27,
   "metadata": {},
   "outputs": [
    {
     "data": {
      "text/plain": [
       "['adg',\n",
       " 'adh',\n",
       " 'adi',\n",
       " 'aeg',\n",
       " 'aeh',\n",
       " 'aei',\n",
       " 'afg',\n",
       " 'afh',\n",
       " 'afi',\n",
       " 'bdg',\n",
       " 'bdh',\n",
       " 'bdi',\n",
       " 'beg',\n",
       " 'beh',\n",
       " 'bei',\n",
       " 'bfg',\n",
       " 'bfh',\n",
       " 'bfi',\n",
       " 'cdg',\n",
       " 'cdh',\n",
       " 'cdi',\n",
       " 'ceg',\n",
       " 'ceh',\n",
       " 'cei',\n",
       " 'cfg',\n",
       " 'cfh',\n",
       " 'cfi']"
      ]
     },
     "execution_count": 27,
     "metadata": {},
     "output_type": "execute_result"
    }
   ],
   "source": [
    "letterCombinations(\"asd\",\"234\")"
   ]
  },
  {
   "cell_type": "code",
   "execution_count": null,
   "metadata": {},
   "outputs": [],
   "source": []
  },
  {
   "cell_type": "code",
   "execution_count": null,
   "metadata": {},
   "outputs": [],
   "source": []
  },
  {
   "cell_type": "code",
   "execution_count": null,
   "metadata": {},
   "outputs": [],
   "source": []
  },
  {
   "cell_type": "code",
   "execution_count": 1,
   "metadata": {},
   "outputs": [],
   "source": [
    "def letterCombinations(self, digits):\n",
    "    mapping = {\n",
    "        \"2\" : \"abc\",\n",
    "        \"3\" : \"def\",\n",
    "        \"4\" : \"ghi\",\n",
    "        \"5\" : \"jkl\",\n",
    "        \"6\" : \"mno\",\n",
    "        \"7\" : \"pqrs\",\n",
    "        \"8\" : \"tuv\",\n",
    "        \"9\" : \"wxyz\"\n",
    "    }\n",
    "    ans = []\n",
    "    \n",
    "    digitsCopy = list(digits)\n",
    "    \n",
    "    while True:\n",
    "        pass\n",
    "    \n",
    "    \n",
    "    for val in list(digits):\n",
    "        print(val)\n",
    "        pass\n",
    "    \n",
    "        \n",
    "        \n",
    "    \n",
    "    \"\"\"\n",
    "    :type digits: str\n",
    "    :rtype: List[str]\n",
    "    \"\"\"\n"
   ]
  },
  {
   "cell_type": "code",
   "execution_count": 2,
   "metadata": {},
   "outputs": [
    {
     "name": "stdout",
     "output_type": "stream",
     "text": [
      "2\n",
      "3\n",
      "4\n"
     ]
    }
   ],
   "source": [
    "letterCombinations(\"asdf\",\"234\")"
   ]
  },
  {
   "cell_type": "code",
   "execution_count": null,
   "metadata": {},
   "outputs": [],
   "source": []
  }
 ],
 "metadata": {
  "kernelspec": {
   "display_name": "Python [conda env:Anaconda3]",
   "language": "python",
   "name": "conda-env-Anaconda3-py"
  },
  "language_info": {
   "codemirror_mode": {
    "name": "ipython",
    "version": 3
   },
   "file_extension": ".py",
   "mimetype": "text/x-python",
   "name": "python",
   "nbconvert_exporter": "python",
   "pygments_lexer": "ipython3",
   "version": "3.6.5"
  }
 },
 "nbformat": 4,
 "nbformat_minor": 2
}
