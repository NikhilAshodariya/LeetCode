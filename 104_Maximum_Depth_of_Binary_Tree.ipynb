{
 "cells": [
  {
   "cell_type": "code",
   "execution_count": 2,
   "metadata": {},
   "outputs": [],
   "source": [
    "class TreeNode:\n",
    "    def __init__(self, x):\n",
    "        self.val = x\n",
    "        self.left = None\n",
    "        self.right = None"
   ]
  },
  {
   "cell_type": "code",
   "execution_count": 5,
   "metadata": {},
   "outputs": [],
   "source": [
    "def maxDepth(root):\n",
    "    def countHeight(node,nodeCount):\n",
    "            if node.left == None and node.right == None:\n",
    "                return nodeCount\n",
    "            \n",
    "            elif node.left == None and node.right != None:\n",
    "                count = countHeight(node.right, nodeCount + 1)\n",
    "                return count if count > nodeCount else nodeCount\n",
    "            \n",
    "            elif node.left != None and node.right == None:\n",
    "                count = countHeight(node.left, nodeCount + 1)\n",
    "                return count if count > nodeCount else nodeCount\n",
    "                \n",
    "            elif node.left != None and node.right != None:\n",
    "                lc = nodeCount + countHeight(node.left, nodeCount + 1)\n",
    "                rc = nodeCount + countHeight(node.right, nodeCount + 1)\n",
    "                \n",
    "                return lc if lc > rc else rc\n",
    "    return countHeight(root, 1)"
   ]
  },
  {
   "cell_type": "code",
   "execution_count": null,
   "metadata": {},
   "outputs": [],
   "source": []
  }
 ],
 "metadata": {
  "kernelspec": {
   "display_name": "Python 3",
   "language": "python",
   "name": "python3"
  },
  "language_info": {
   "codemirror_mode": {
    "name": "ipython",
    "version": 3
   },
   "file_extension": ".py",
   "mimetype": "text/x-python",
   "name": "python",
   "nbconvert_exporter": "python",
   "pygments_lexer": "ipython3",
   "version": "3.7.3"
  }
 },
 "nbformat": 4,
 "nbformat_minor": 2
}
