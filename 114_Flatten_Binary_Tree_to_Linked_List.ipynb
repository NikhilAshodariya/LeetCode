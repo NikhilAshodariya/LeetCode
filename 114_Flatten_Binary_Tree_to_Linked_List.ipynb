{
 "cells": [
  {
   "cell_type": "code",
   "execution_count": 2,
   "metadata": {},
   "outputs": [],
   "source": [
    "# Definition for a binary tree node.\n",
    "# class TreeNode:\n",
    "#     def __init__(self, x):\n",
    "#         self.val = x\n",
    "#         self.left = None\n",
    "#         self.right = None\n",
    "\n",
    "def flatten(root):\n",
    "    \"\"\"\n",
    "    Do not return anything, modify root in-place instead.\n",
    "    \"\"\"\n",
    "    lis = []\n",
    "\n",
    "    if root == None:\n",
    "        return None\n",
    "    def temp(node):\n",
    "        if node == None:\n",
    "            return\n",
    "        else:\n",
    "            lis.append(node)\n",
    "            temp(node.left)\n",
    "            temp(node.right)\n",
    "    temp(root)\n",
    "\n",
    "    root_copy = root\n",
    "\n",
    "    root_copy.left = None\n",
    "    root_copy.right = None\n",
    "\n",
    "    node = root_copy\n",
    "    for val in lis[1:]:\n",
    "        val.left = None\n",
    "        val.right = None\n",
    "        node.right = val\n",
    "        node = node.right"
   ]
  }
 ],
 "metadata": {
  "kernelspec": {
   "display_name": "Python 3",
   "language": "python",
   "name": "python3"
  },
  "language_info": {
   "codemirror_mode": {
    "name": "ipython",
    "version": 3
   },
   "file_extension": ".py",
   "mimetype": "text/x-python",
   "name": "python",
   "nbconvert_exporter": "python",
   "pygments_lexer": "ipython3",
   "version": "3.7.3"
  }
 },
 "nbformat": 4,
 "nbformat_minor": 2
}
