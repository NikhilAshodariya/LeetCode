{
 "cells": [
  {
   "cell_type": "markdown",
   "metadata": {},
   "source": [
    "Used below link to get reference\n",
    "#### https://stackoverflow.com/questions/2776211/how-can-i-multiply-and-divide-using-only-bit-shifting-and-adding"
   ]
  },
  {
   "cell_type": "code",
   "execution_count": 1,
   "metadata": {},
   "outputs": [],
   "source": [
    "def divide(dividend, divisor):\n",
    "    def calculateHelper(innerDividend,innerDivisor):\n",
    "        res = []\n",
    "        temp = innerDivisor\n",
    "        res.append(temp)\n",
    "        while temp<=innerDividend:\n",
    "            temp = temp<<1\n",
    "            if temp<=innerDividend:\n",
    "                res.append(temp)\n",
    "        return res\n",
    "\n",
    "    def getNearestIndex(array,val):\n",
    "        ans = array.index(min(array, key=lambda x:abs(x-val)))\n",
    "        if array[ans] > val:\n",
    "            return ans-1\n",
    "        else:\n",
    "            return ans\n",
    "\n",
    "    INT_MAX = 2147483647\n",
    "    INT_MIN = -2147483648\n",
    "    if divisor == 0:\n",
    "        return INT_MAX\n",
    "\n",
    "    if dividend == INT_MIN:\n",
    "        if divisor == -1:\n",
    "            return INT_MAX\n",
    "        elif divisor == 1:\n",
    "            return INT_MIN\n",
    "        pass\n",
    "\n",
    "    if dividend == INT_MAX:\n",
    "        if divisor == -1:\n",
    "            return INT_MIN\n",
    "        elif divisor == 1:\n",
    "            return INT_MAX\n",
    "        pass\n",
    "\n",
    "    if divisor == 1:\n",
    "        return dividend\n",
    "\n",
    "    if divisor == -1:\n",
    "        if dividend == INT_MIN:\n",
    "            return INT_MAX\n",
    "        else:\n",
    "            return -1 * dividend\n",
    "    sign = 1\n",
    "    if dividend < 0:\n",
    "        dividend = -1 * dividend\n",
    "        sign = -1 * sign\n",
    "        pass\n",
    "\n",
    "    if divisor < 0:\n",
    "        divisor = -1 * divisor\n",
    "        sign = -1 * sign\n",
    "        pass\n",
    "\n",
    "    res = 0\n",
    "\n",
    "    intermediate = calculateHelper(dividend,divisor)\n",
    "    res = 0\n",
    "    while dividend>=divisor:\n",
    "        idx = getNearestIndex(intermediate,dividend)\n",
    "        res += 1<<idx\n",
    "        dividend -= intermediate[idx]\n",
    "    return sign*res"
   ]
  },
  {
   "cell_type": "code",
   "execution_count": 2,
   "metadata": {},
   "outputs": [
    {
     "data": {
      "text/plain": [
       "10"
      ]
     },
     "execution_count": 2,
     "metadata": {},
     "output_type": "execute_result"
    }
   ],
   "source": [
    "divide(32,3)"
   ]
  },
  {
   "cell_type": "code",
   "execution_count": null,
   "metadata": {},
   "outputs": [],
   "source": []
  }
 ],
 "metadata": {
  "kernelspec": {
   "display_name": "Python [conda env:Anaconda3]",
   "language": "python",
   "name": "conda-env-Anaconda3-py"
  },
  "language_info": {
   "codemirror_mode": {
    "name": "ipython",
    "version": 3
   },
   "file_extension": ".py",
   "mimetype": "text/x-python",
   "name": "python",
   "nbconvert_exporter": "python",
   "pygments_lexer": "ipython3",
   "version": "3.6.5"
  }
 },
 "nbformat": 4,
 "nbformat_minor": 2
}
