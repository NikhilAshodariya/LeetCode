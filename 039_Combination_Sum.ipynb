{
 "cells": [
  {
   "cell_type": "code",
   "execution_count": 1,
   "metadata": {},
   "outputs": [],
   "source": [
    "def combinationSum(candidates, target):\n",
    "    \"\"\"\n",
    "    :type candidates: List[int]\n",
    "    :type target: int\n",
    "    :rtype: List[List[int]]\n",
    "    \"\"\"\n",
    "    ans = []\n",
    "    if target in candidates:\n",
    "        ans.append([target])\n",
    "        del candidates[candidates.index(target)]\n",
    "        pass\n",
    "        \n",
    "    def helperSum(nums,requiredElement,currentConsideration):\n",
    "        total = sum(currentConsideration)\n",
    "        if total > requiredElement:\n",
    "            return \n",
    "        elif total == requiredElement:\n",
    "            if sorted(currentConsideration) not in ans:\n",
    "                ans.append(sorted(currentConsideration[:]))\n",
    "            pass\n",
    "        elif total < requiredElement:\n",
    "            for v in nums:\n",
    "                currentConsideration.append(v)\n",
    "                currentLen = len(currentConsideration)\n",
    "                helperSum(nums,requiredElement,currentConsideration)\n",
    "                del currentConsideration[currentLen - 1]\n",
    "                pass\n",
    "            pass\n",
    "            \n",
    "        else:\n",
    "            print(\"Something is seriously wrong in code\")\n",
    "            pass\n",
    "        pass\n",
    "    helperSum(candidates,target,[])\n",
    "    return ans"
   ]
  },
  {
   "cell_type": "code",
   "execution_count": 2,
   "metadata": {},
   "outputs": [
    {
     "data": {
      "text/plain": [
       "[[3, 8], [4, 7], [3, 4, 4]]"
      ]
     },
     "execution_count": 2,
     "metadata": {},
     "output_type": "execute_result"
    }
   ],
   "source": [
    "combinationSum([8,7,4,3],11)"
   ]
  },
  {
   "cell_type": "code",
   "execution_count": null,
   "metadata": {},
   "outputs": [],
   "source": []
  }
 ],
 "metadata": {
  "kernelspec": {
   "display_name": "Python [conda env:Anaconda3]",
   "language": "python",
   "name": "conda-env-Anaconda3-py"
  },
  "language_info": {
   "codemirror_mode": {
    "name": "ipython",
    "version": 3
   },
   "file_extension": ".py",
   "mimetype": "text/x-python",
   "name": "python",
   "nbconvert_exporter": "python",
   "pygments_lexer": "ipython3",
   "version": "3.6.5"
  }
 },
 "nbformat": 4,
 "nbformat_minor": 2
}
