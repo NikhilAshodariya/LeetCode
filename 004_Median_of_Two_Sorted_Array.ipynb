{
 "cells": [
  {
   "cell_type": "code",
   "execution_count": 4,
   "metadata": {},
   "outputs": [],
   "source": [
    "def findMedianSortedArrays(nums1, nums2):\n",
    "    \"\"\"\n",
    "        :type nums1: List[int]\n",
    "        :type nums2: List[int]\n",
    "        :rtype: float\n",
    "    \"\"\"\n",
    "    import math\n",
    "\n",
    "    if len(nums1) > len(nums2):\n",
    "        return findMedianSortedArrays(nums2,nums1)\n",
    "\n",
    "    lengthOfX = len(nums1)\n",
    "    lengthOfY = len(nums2)\n",
    "\n",
    "\n",
    "    partitionX = int(lengthOfX/2)\n",
    "\n",
    "    while True:\n",
    "        partitionY = int((lengthOfX + lengthOfY + 1)/2) - partitionX\n",
    "\n",
    "        maxLeftX = -math.inf if partitionX==0 else nums1[partitionX-1]\n",
    "        minRightX = math.inf if partitionX==lengthOfX  else nums1[partitionX]\n",
    "\n",
    "        maxLeftY = -math.inf if partitionY==0 else nums2[partitionY-1]\n",
    "        minRightY = math.inf if partitionY==lengthOfY  else nums2[partitionY]\n",
    "\n",
    "\n",
    "        if maxLeftX <= minRightY and maxLeftY <= minRightX:\n",
    "            if (lengthOfX+lengthOfY)%2==0:\n",
    "                return (max(maxLeftX,maxLeftY)+min(minRightX,minRightY))/2\n",
    "            else:\n",
    "                return max(maxLeftX, maxLeftY)\n",
    "            break\n",
    "        elif not maxLeftX < minRightY:\n",
    "            partitionX = partitionX - 1\n",
    "        elif not minRightX > maxLeftY:\n",
    "            partitionX = partitionX + 1 \n",
    "        else:\n",
    "            pass\n"
   ]
  },
  {
   "cell_type": "code",
   "execution_count": 5,
   "metadata": {},
   "outputs": [
    {
     "data": {
      "text/plain": [
       "2"
      ]
     },
     "execution_count": 5,
     "metadata": {},
     "output_type": "execute_result"
    }
   ],
   "source": [
    "findMedianSortedArrays([1,2],[3])"
   ]
  },
  {
   "cell_type": "code",
   "execution_count": null,
   "metadata": {},
   "outputs": [],
   "source": []
  }
 ],
 "metadata": {
  "kernelspec": {
   "display_name": "Python [conda env:Anaconda3]",
   "language": "python",
   "name": "conda-env-Anaconda3-py"
  },
  "language_info": {
   "codemirror_mode": {
    "name": "ipython",
    "version": 3
   },
   "file_extension": ".py",
   "mimetype": "text/x-python",
   "name": "python",
   "nbconvert_exporter": "python",
   "pygments_lexer": "ipython3",
   "version": "3.6.5"
  }
 },
 "nbformat": 4,
 "nbformat_minor": 2
}
