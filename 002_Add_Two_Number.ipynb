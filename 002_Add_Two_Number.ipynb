{
 "cells": [
  {
   "cell_type": "code",
   "execution_count": 1,
   "metadata": {},
   "outputs": [],
   "source": [
    "def addTwoNumbers(l1, l2):\n",
    "    list1 = []\n",
    "    list2 = []\n",
    "    tempCounter = l1\n",
    "    while tempCounter != None:\n",
    "        list1.append(tempCounter.val)\n",
    "        tempCounter = tempCounter.next\n",
    "        pass\n",
    "\n",
    "    tempCounter = l2\n",
    "    while tempCounter != None:\n",
    "        list2.append(tempCounter.val)\n",
    "        tempCounter = tempCounter.next\n",
    "        pass\n",
    "\n",
    "    list1.reverse()\n",
    "    list2.reverse()\n",
    "    num1 = int(''.join(str(x) for x in list1))\n",
    "    num2 = int(''.join(str(x) for x in list2))\n",
    "\n",
    "    newNum = num1 + num2\n",
    "    finalResult = [int(i) for i in str(newNum)]\n",
    "    # finalResult = [int(i) for i in str(newNum)[::-1]]\n",
    "\n",
    "    addedList = ListNode(finalResult[0])\n",
    "    for i in finalResult[1:]:\n",
    "        temp = ListNode(i)\n",
    "        temp.next = addedList\n",
    "        addedList = temp\n",
    "\n",
    "    return addedList"
   ]
  },
  {
   "cell_type": "code",
   "execution_count": null,
   "metadata": {},
   "outputs": [],
   "source": [
    "addTwoNumbers()"
   ]
  }
 ],
 "metadata": {
  "kernelspec": {
   "display_name": "Python [conda env:Anaconda3]",
   "language": "python",
   "name": "conda-env-Anaconda3-py"
  },
  "language_info": {
   "codemirror_mode": {
    "name": "ipython",
    "version": 3
   },
   "file_extension": ".py",
   "mimetype": "text/x-python",
   "name": "python",
   "nbconvert_exporter": "python",
   "pygments_lexer": "ipython3",
   "version": "3.6.5"
  }
 },
 "nbformat": 4,
 "nbformat_minor": 2
}
