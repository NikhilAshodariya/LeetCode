{
 "cells": [
  {
   "cell_type": "code",
   "execution_count": 16,
   "metadata": {},
   "outputs": [],
   "source": [
    "def intToRoman(self, num,res):\n",
    "    \n",
    "    roman = {\n",
    "        \"1000\":\"M\",\n",
    "        \"500\":\"D\",\n",
    "        \"100\":\"C\",\n",
    "        \"50\":\"L\",\n",
    "        \"10\":\"X\",\n",
    "        \"5\":\"V\",\n",
    "        \"1\":\"I\"\n",
    "    }\n",
    "    numCopy = num\n",
    "    \n",
    "    ke = list(roman.keys())\n",
    "    for index,val in enumerate(ke):\n",
    "        if int(val) <= num:\n",
    "            num = num -int(val)\n",
    "            res = res + roman[val]\n",
    "        print(f\"num = ${num}\")\n",
    "        print(f\"val = ${val}\")\n",
    "        for innerIndex,innerVal in enumerate(ke[index+1:]):\n",
    "            temp = int(val) - int(innerVal)\n",
    "            if temp == num:\n",
    "                res = res + roman[innerVal] + roman[val] \n",
    "                num = num - temp\n",
    "                return res\n",
    "    \n",
    "    \n",
    "    if num!=0:\n",
    "        return intToRoman(\"asdf\",num,res)\n",
    "    else:\n",
    "        return res\n",
    "    "
   ]
  },
  {
   "cell_type": "code",
   "execution_count": 22,
   "metadata": {},
   "outputs": [],
   "source": [
    "def num2roman(num):\n",
    "    num_map = [(1000, 'M'), (900, 'CM'), (500, 'D'), (400, 'CD'), (100, 'C'), (90, 'XC'),\n",
    "           (50, 'L'), (40, 'XL'), (10, 'X'), (9, 'IX'), (5, 'V'), (4, 'IV'), (1, 'I')]\n",
    "\n",
    "    roman = ''\n",
    "\n",
    "    while num > 0:\n",
    "        for i, r in num_map:\n",
    "            while num >= i:\n",
    "                roman += r\n",
    "                num -= i\n",
    "\n",
    "    return roman\n"
   ]
  },
  {
   "cell_type": "code",
   "execution_count": 28,
   "metadata": {},
   "outputs": [],
   "source": [
    "def intToRoman(self, num):\n",
    "    \"\"\"\n",
    "    :type num: int\n",
    "    :rtype: str\n",
    "    \"\"\"\n",
    "    num_1000=num//1000\n",
    "    res=num%1000\n",
    "    num_100=res//100\n",
    "    res=res%100\n",
    "    num_10=res//10\n",
    "    num_1=res%10\n",
    "\n",
    "    print(num_1000,num_100,num_10,num_1)\n",
    "\n",
    "    #num_500=num_100//5\n",
    "    #num_50=num_10//5\n",
    "    #num_5=num_1//5\n",
    "\n",
    "    #print(num_500,num_50,num_5)\n",
    "\n",
    "    # 1\n",
    "    if num_1<4:\n",
    "        num_1_str=\"I\"*num_1\n",
    "    elif num_1>5 and num_1<9:\n",
    "        num_1_str=\"V\"+\"I\"*(num_1-5)\n",
    "    elif num_1==4:\n",
    "        num_1_str=\"IV\"\n",
    "    elif num_1==5:\n",
    "        num_1_str=\"V\"\n",
    "    elif num_1==9:\n",
    "        num_1_str=\"IX\"        \n",
    "\n",
    "    #10\n",
    "    if num_10<4:\n",
    "        num_10_str=\"X\"*num_10\n",
    "    elif num_10>5 and num_10<9:\n",
    "        num_10_str=\"L\"+\"X\"*(num_10-5)\n",
    "    elif num_10==4:\n",
    "        num_10_str=\"XL\"\n",
    "    elif num_10==5:\n",
    "        num_10_str=\"L\"\n",
    "    elif num_10==9:\n",
    "        num_10_str=\"XC\" \n",
    "\n",
    "    #100        \n",
    "    if num_100<4:\n",
    "        num_100_str=\"C\"*num_100\n",
    "    elif num_100>5 and num_100<9:\n",
    "        num_100_str=\"D\"+\"C\"*(num_100-5)\n",
    "    elif num_100==4:\n",
    "        num_100_str=\"CD\"\n",
    "    elif num_100==5:\n",
    "        num_100_str=\"D\"\n",
    "    elif num_100==9:\n",
    "        num_100_str=\"CM\"     \n",
    "\n",
    "    #1000\n",
    "    num_1000_str=\"M\"*num_1000\n",
    "    #if num_1000<4:\n",
    "    #    num_1000_str=\"I\"*num_1000\n",
    "    #elif num_1000>5 and num_1000<9:\n",
    "    #    num_1000_str=\"V\"+\"I\"*(num_1000-5)\n",
    "    #elif num_1000==4:\n",
    "    #    num_1000_str=\"IV\"\n",
    "    #elif num_1000==5:\n",
    "    #    num_1000_str=\"V\"\n",
    "    #elif num_1000==9:\n",
    "    #    num_1000_str=\"IX\" \n",
    "\n",
    "    return num_1000_str+num_100_str+num_10_str+num_1_str\n",
    "    # pdb.set_trace()"
   ]
  },
  {
   "cell_type": "code",
   "execution_count": 36,
   "metadata": {},
   "outputs": [
    {
     "name": "stdout",
     "output_type": "stream",
     "text": [
      "0 0 0 4\n"
     ]
    },
    {
     "data": {
      "text/plain": [
       "'IV'"
      ]
     },
     "execution_count": 36,
     "metadata": {},
     "output_type": "execute_result"
    }
   ],
   "source": [
    "intToRoman(\"bctx\",4)"
   ]
  },
  {
   "cell_type": "code",
   "execution_count": 25,
   "metadata": {},
   "outputs": [
    {
     "data": {
      "text/plain": [
       "'XCIX'"
      ]
     },
     "execution_count": 25,
     "metadata": {},
     "output_type": "execute_result"
    }
   ],
   "source": [
    "num2roman(99)"
   ]
  },
  {
   "cell_type": "code",
   "execution_count": 19,
   "metadata": {},
   "outputs": [
    {
     "name": "stdout",
     "output_type": "stream",
     "text": [
      "num = $2549\n",
      "val = $1000\n",
      "num = $2049\n",
      "val = $500\n",
      "num = $1949\n",
      "val = $100\n",
      "num = $1899\n",
      "val = $50\n",
      "num = $1889\n",
      "val = $10\n",
      "num = $1884\n",
      "val = $5\n",
      "num = $1883\n",
      "val = $1\n",
      "num = $883\n",
      "val = $1000\n",
      "num = $383\n",
      "val = $500\n",
      "num = $283\n",
      "val = $100\n",
      "num = $233\n",
      "val = $50\n",
      "num = $223\n",
      "val = $10\n",
      "num = $218\n",
      "val = $5\n",
      "num = $217\n",
      "val = $1\n",
      "num = $217\n",
      "val = $1000\n",
      "num = $217\n",
      "val = $500\n",
      "num = $117\n",
      "val = $100\n",
      "num = $67\n",
      "val = $50\n",
      "num = $57\n",
      "val = $10\n",
      "num = $52\n",
      "val = $5\n",
      "num = $51\n",
      "val = $1\n",
      "num = $51\n",
      "val = $1000\n",
      "num = $51\n",
      "val = $500\n",
      "num = $51\n",
      "val = $100\n",
      "num = $1\n",
      "val = $50\n",
      "num = $1\n",
      "val = $10\n",
      "num = $1\n",
      "val = $5\n",
      "num = $0\n",
      "val = $1\n"
     ]
    },
    {
     "data": {
      "text/plain": [
       "'MDCLXVIMDCLXVICLXVILI'"
      ]
     },
     "execution_count": 19,
     "metadata": {},
     "output_type": "execute_result"
    }
   ],
   "source": [
    "intToRoman(\"asdf\",1994,\"\")"
   ]
  },
  {
   "cell_type": "code",
   "execution_count": null,
   "metadata": {},
   "outputs": [],
   "source": []
  },
  {
   "cell_type": "code",
   "execution_count": null,
   "metadata": {},
   "outputs": [],
   "source": []
  }
 ],
 "metadata": {
  "kernelspec": {
   "display_name": "Python [conda env:Anaconda3]",
   "language": "python",
   "name": "conda-env-Anaconda3-py"
  },
  "language_info": {
   "codemirror_mode": {
    "name": "ipython",
    "version": 3
   },
   "file_extension": ".py",
   "mimetype": "text/x-python",
   "name": "python",
   "nbconvert_exporter": "python",
   "pygments_lexer": "ipython3",
   "version": "3.6.5"
  }
 },
 "nbformat": 4,
 "nbformat_minor": 2
}
