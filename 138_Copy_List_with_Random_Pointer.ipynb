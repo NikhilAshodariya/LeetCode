{
 "cells": [
  {
   "cell_type": "raw",
   "metadata": {},
   "source": [
    "\"\"\"\n",
    "# Definition for a Node.\n",
    "class Node:\n",
    "    def __init__(self, val, next, random):\n",
    "        self.val = val\n",
    "        self.next = next\n",
    "        self.random = random\n",
    "\"\"\""
   ]
  },
  {
   "cell_type": "code",
   "execution_count": 1,
   "metadata": {},
   "outputs": [],
   "source": [
    "def copyRandomList(self, head: 'Node') -> 'Node':\n",
    "    def search_element(search_in, to_search_val):\n",
    "        if to_search_val == None:\n",
    "            return None\n",
    "\n",
    "        temp = search_in\n",
    "\n",
    "        while temp:\n",
    "            if temp.val == to_search_val.val:\n",
    "                return temp\n",
    "            temp = temp.next\n",
    "        return None\n",
    "\n",
    "    list_id_done = []\n",
    "    new_list_head = head and Node(head.val, head.next, None)\n",
    "    if head == None:\n",
    "        return None\n",
    "\n",
    "    temp = head.next\n",
    "    new_list_temp_iterator = new_list_head\n",
    "\n",
    "    while temp:\n",
    "        new_list_temp_iterator.next = Node(temp.val, temp.next, None)\n",
    "        temp = temp.next\n",
    "        new_list_temp_iterator = new_list_temp_iterator.next\n",
    "\n",
    "    original_list_temp_iterator = head\n",
    "    new_list_temp_iterator = new_list_head\n",
    "\n",
    "    while original_list_temp_iterator:\n",
    "        val = search_element(new_list_head, original_list_temp_iterator.random)\n",
    "        if val != None:\n",
    "            new_list_temp_iterator.random = val\n",
    "        else:\n",
    "            pass\n",
    "            # print(\"Something went wrong\")\n",
    "        original_list_temp_iterator = original_list_temp_iterator.next\n",
    "        new_list_temp_iterator = new_list_temp_iterator.next\n",
    "    return new_list_head"
   ]
  }
 ],
 "metadata": {
  "kernelspec": {
   "display_name": "Python 3",
   "language": "python",
   "name": "python3"
  },
  "language_info": {
   "codemirror_mode": {
    "name": "ipython",
    "version": 3
   },
   "file_extension": ".py",
   "mimetype": "text/x-python",
   "name": "python",
   "nbconvert_exporter": "python",
   "pygments_lexer": "ipython3",
   "version": "3.7.3"
  }
 },
 "nbformat": 4,
 "nbformat_minor": 2
}
