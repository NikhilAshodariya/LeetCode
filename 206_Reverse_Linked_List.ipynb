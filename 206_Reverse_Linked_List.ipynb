{
 "cells": [
  {
   "cell_type": "markdown",
   "metadata": {},
   "source": [
    "### Iterative solution"
   ]
  },
  {
   "cell_type": "code",
   "execution_count": 2,
   "metadata": {},
   "outputs": [],
   "source": [
    "def reverseList(head):\n",
    "    if head == None:\n",
    "        return None\n",
    "\n",
    "    previous = None\n",
    "    current = head\n",
    "    next_ = head.next\n",
    "\n",
    "    while next_:\n",
    "        current.next = previous\n",
    "        previous = current\n",
    "        current = next_\n",
    "        next_ = next_.next\n",
    "    current.next = previous\n",
    "    return current"
   ]
  },
  {
   "cell_type": "markdown",
   "metadata": {},
   "source": [
    "### Recursive solution"
   ]
  },
  {
   "cell_type": "code",
   "execution_count": 4,
   "metadata": {},
   "outputs": [],
   "source": [
    "def reverseList(head):\n",
    "    if head == None or head.next == None:\n",
    "        return head\n",
    "\n",
    "    def temp(curr, caller):\n",
    "        if curr.next == None:\n",
    "            curr.next = caller\n",
    "            return curr\n",
    "        else:\n",
    "            toReturn = temp(curr.next, curr)\n",
    "            curr.next = caller\n",
    "            return toReturn\n",
    "    toReturn = temp(head.next,head)\n",
    "    head.next = None\n",
    "    return toReturn"
   ]
  }
 ],
 "metadata": {
  "kernelspec": {
   "display_name": "Python 3",
   "language": "python",
   "name": "python3"
  },
  "language_info": {
   "codemirror_mode": {
    "name": "ipython",
    "version": 3
   },
   "file_extension": ".py",
   "mimetype": "text/x-python",
   "name": "python",
   "nbconvert_exporter": "python",
   "pygments_lexer": "ipython3",
   "version": "3.7.3"
  }
 },
 "nbformat": 4,
 "nbformat_minor": 2
}
