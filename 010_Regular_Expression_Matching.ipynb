{
 "cells": [
  {
   "cell_type": "code",
   "execution_count": 3,
   "metadata": {},
   "outputs": [],
   "source": [
    "def isMatch(self,string,pattern):\n",
    "    if pattern == \"\":\n",
    "        return True if string==\"\" else False\n",
    "\n",
    "    if len(pattern) == 1:\n",
    "        if len(string) < 1:\n",
    "            return False\n",
    "\n",
    "        if (pattern[0]!=string[0]) and (pattern[0]!=\".\"):\n",
    "            return False\n",
    "        else:\n",
    "            return self.isMatch(string[1:],pattern[1:])\n",
    "\n",
    "#     case 1: when the second char of p is not '*'\n",
    "    if pattern[1] != \"*\":\n",
    "        if len(string) < 1:\n",
    "            return False\n",
    "        if (pattern[0]!=string[0]) and (pattern[0]!=\".\"):\n",
    "            return False\n",
    "        else:\n",
    "            return self.isMatch(string[1:],pattern[1:])\n",
    "\n",
    "#     case 2: when the second char of p is \"*\"\n",
    "    else:\n",
    "#         case 2.1: a char & '*' can stand for 0 element\n",
    "        if(self.isMatch(string,pattern[2:])):\n",
    "            return True\n",
    "\n",
    "#         case 2.2: a char & '*' can stand for 1 or more preceding element, \n",
    "        i = 0\n",
    "        while i<len(string) and (string[i]==pattern[0] or pattern[0]==\".\"):\n",
    "            if self.isMatch(string[i+1:],pattern[2:]):\n",
    "                return True\n",
    "            i = i+1\n",
    "\n",
    "        return False"
   ]
  },
  {
   "cell_type": "code",
   "execution_count": 6,
   "metadata": {},
   "outputs": [
    {
     "data": {
      "text/plain": [
       "True"
      ]
     },
     "execution_count": 6,
     "metadata": {},
     "output_type": "execute_result"
    }
   ],
   "source": [
    "isMatch(\"abc\",\"a*b*c*\")"
   ]
  },
  {
   "cell_type": "code",
   "execution_count": null,
   "metadata": {},
   "outputs": [],
   "source": []
  }
 ],
 "metadata": {
  "kernelspec": {
   "display_name": "Python [conda env:Anaconda3]",
   "language": "python",
   "name": "conda-env-Anaconda3-py"
  },
  "language_info": {
   "codemirror_mode": {
    "name": "ipython",
    "version": 3
   },
   "file_extension": ".py",
   "mimetype": "text/x-python",
   "name": "python",
   "nbconvert_exporter": "python",
   "pygments_lexer": "ipython3",
   "version": "3.6.5"
  }
 },
 "nbformat": 4,
 "nbformat_minor": 2
}
