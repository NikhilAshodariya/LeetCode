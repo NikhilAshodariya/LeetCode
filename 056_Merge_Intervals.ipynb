{
 "cells": [
  {
   "cell_type": "code",
   "execution_count": 1,
   "metadata": {},
   "outputs": [],
   "source": [
    "# Definition for an interval.\n",
    "class Interval:\n",
    "    def __init__(self, s=0, e=0):\n",
    "        self.start = s\n",
    "        self.end = e"
   ]
  },
  {
   "cell_type": "code",
   "execution_count": 2,
   "metadata": {},
   "outputs": [],
   "source": [
    "def merge(intervals):\n",
    "    \n",
    "    if len(intervals) == 0:\n",
    "            return []\n",
    "    elif len(intervals) == 1:\n",
    "            return intervals\n",
    "        \n",
    "        \n",
    "    def checkForValidity(CP,LP):\n",
    "        if (CP.end >= LP.start) and (CP.end <= LP.end):\n",
    "            return (True,Interval(min(CP.start,LP.start),max(LP.end,CP.end)))\n",
    "        elif (LP.end >= CP.start) and (LP.end <= CP.end):\n",
    "            return (True,Interval(min(LP.start,CP.start),max(CP.end,LP.end)))\n",
    "        else:\n",
    "            return (False,None)\n",
    "        pass\n",
    "    \n",
    "    finalAns = []\n",
    "    currentPointer = 0\n",
    "    limitingPointer = 1\n",
    "    \n",
    "    while True:\n",
    "        if currentPointer == (len(intervals) - 1):\n",
    "            break\n",
    "        elif limitingPointer == len(intervals):\n",
    "            currentPointer = currentPointer + 1\n",
    "            limitingPointer = currentPointer + 1\n",
    "        else:\n",
    "            temp = checkForValidity(intervals[currentPointer],intervals[limitingPointer])\n",
    "            if temp[0]:\n",
    "                del intervals[currentPointer]\n",
    "                del intervals[limitingPointer-1]\n",
    "                intervals.append(temp[1])\n",
    "                limitingPointer = currentPointer + 1\n",
    "            else:\n",
    "                limitingPointer = limitingPointer + 1\n",
    "    return intervals\n",
    "        \n",
    "        "
   ]
  },
  {
   "cell_type": "code",
   "execution_count": 3,
   "metadata": {},
   "outputs": [],
   "source": [
    "k = [\n",
    "    Interval(2,3),\n",
    "    Interval(4,5),\n",
    "    Interval(6,7),\n",
    "    Interval(8,9),\n",
    "    Interval(1,10)\n",
    "]"
   ]
  },
  {
   "cell_type": "code",
   "execution_count": 4,
   "metadata": {},
   "outputs": [
    {
     "name": "stdout",
     "output_type": "stream",
     "text": [
      "1    10\n"
     ]
    }
   ],
   "source": [
    "res = merge(k)\n",
    "for val in res:\n",
    "    print(val.start,\"  \",val.end)"
   ]
  },
  {
   "cell_type": "code",
   "execution_count": 5,
   "metadata": {},
   "outputs": [],
   "source": [
    "k = [\n",
    "    Interval(2,3),\n",
    "    Interval(5,5),\n",
    "    Interval(2,2),\n",
    "    Interval(3,4),\n",
    "    Interval(3,4)\n",
    "]"
   ]
  },
  {
   "cell_type": "code",
   "execution_count": 6,
   "metadata": {},
   "outputs": [
    {
     "name": "stdout",
     "output_type": "stream",
     "text": [
      "5    5\n",
      "2    4\n"
     ]
    }
   ],
   "source": [
    "res = merge(k)\n",
    "for val in res:\n",
    "    print(val.start,\"  \",val.end)"
   ]
  }
 ],
 "metadata": {
  "kernelspec": {
   "display_name": "Python [conda env:Anaconda3]",
   "language": "python",
   "name": "conda-env-Anaconda3-py"
  },
  "language_info": {
   "codemirror_mode": {
    "name": "ipython",
    "version": 3
   },
   "file_extension": ".py",
   "mimetype": "text/x-python",
   "name": "python",
   "nbconvert_exporter": "python",
   "pygments_lexer": "ipython3",
   "version": "3.6.5"
  }
 },
 "nbformat": 4,
 "nbformat_minor": 2
}
