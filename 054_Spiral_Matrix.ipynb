{
 "cells": [
  {
   "cell_type": "code",
   "execution_count": 43,
   "metadata": {},
   "outputs": [],
   "source": [
    "def spiralOrder(matrix):\n",
    "    \"\"\"\n",
    "    :type matrix: List[List[int]]\n",
    "    :rtype: List[int]\n",
    "    \"\"\"\n",
    "    if len(matrix) == 0:\n",
    "        return []\n",
    "    \n",
    "    m = len(matrix)\n",
    "    n = len(matrix[0])\n",
    "    \n",
    "    finalList = []\n",
    "    i = 0\n",
    "    j = 0\n",
    "    direction = \"right\"\n",
    "    \n",
    "    leftLimit = 0\n",
    "    rightLimit = n \n",
    "    upLimit = 1\n",
    "    downLimit = m\n",
    "    \n",
    "    while len(finalList) < m*n:\n",
    "        finalList.append(matrix[i][j])\n",
    "        if direction == \"right\":\n",
    "            if j == (rightLimit-1):\n",
    "                i = i + 1\n",
    "                direction = \"down\"\n",
    "                rightLimit = rightLimit - 1\n",
    "            else:\n",
    "                j = j + 1\n",
    "        elif direction == \"down\":\n",
    "            if i == (downLimit - 1):\n",
    "                j = j - 1\n",
    "                direction = \"left\"\n",
    "                downLimit = downLimit - 1\n",
    "            else:\n",
    "                i = i + 1\n",
    "        elif direction == \"left\":\n",
    "            if j == leftLimit :\n",
    "                i = i - 1\n",
    "                direction = \"up\"\n",
    "                leftLimit = leftLimit + 1\n",
    "            else:\n",
    "                j = j - 1\n",
    "        elif direction == \"up\":\n",
    "            if i == upLimit:\n",
    "                j = j + 1\n",
    "                direction = \"right\"\n",
    "                upLimit = upLimit + 1\n",
    "            else:\n",
    "                i = i - 1\n",
    "    return finalList"
   ]
  },
  {
   "cell_type": "code",
   "execution_count": 44,
   "metadata": {},
   "outputs": [
    {
     "data": {
      "text/plain": [
       "[1, 2, 3, 6, 9, 8, 7, 4, 5]"
      ]
     },
     "execution_count": 44,
     "metadata": {},
     "output_type": "execute_result"
    }
   ],
   "source": [
    "spiralOrder([\n",
    " [ 1, 2, 3 ],\n",
    " [ 4, 5, 6 ],\n",
    " [ 7, 8, 9 ]\n",
    "])"
   ]
  },
  {
   "cell_type": "code",
   "execution_count": 45,
   "metadata": {},
   "outputs": [
    {
     "data": {
      "text/plain": [
       "[1, 2, 3, 4, 8, 12, 11, 10, 9, 5, 6, 7]"
      ]
     },
     "execution_count": 45,
     "metadata": {},
     "output_type": "execute_result"
    }
   ],
   "source": [
    "spiralOrder([\n",
    "  [1, 2, 3, 4],\n",
    "  [5, 6, 7, 8],\n",
    "  [9,10,11,12]\n",
    "])"
   ]
  },
  {
   "cell_type": "code",
   "execution_count": 46,
   "metadata": {},
   "outputs": [
    {
     "data": {
      "text/plain": [
       "[1,\n",
       " 2,\n",
       " 3,\n",
       " 4,\n",
       " 8,\n",
       " 12,\n",
       " 16,\n",
       " 20,\n",
       " 24,\n",
       " 23,\n",
       " 22,\n",
       " 21,\n",
       " 17,\n",
       " 13,\n",
       " 9,\n",
       " 5,\n",
       " 6,\n",
       " 7,\n",
       " 11,\n",
       " 15,\n",
       " 19,\n",
       " 18,\n",
       " 14,\n",
       " 10]"
      ]
     },
     "execution_count": 46,
     "metadata": {},
     "output_type": "execute_result"
    }
   ],
   "source": [
    "spiralOrder([\n",
    "    [1,2,3,4],\n",
    "    [5,6,7,8],\n",
    "    [9,10,11,12],\n",
    "    [13,14,15,16],\n",
    "    [17,18,19,20],\n",
    "    [21,22,23,24]\n",
    "])"
   ]
  },
  {
   "cell_type": "code",
   "execution_count": null,
   "metadata": {},
   "outputs": [],
   "source": []
  }
 ],
 "metadata": {
  "kernelspec": {
   "display_name": "Python [conda env:Anaconda3]",
   "language": "python",
   "name": "conda-env-Anaconda3-py"
  },
  "language_info": {
   "codemirror_mode": {
    "name": "ipython",
    "version": 3
   },
   "file_extension": ".py",
   "mimetype": "text/x-python",
   "name": "python",
   "nbconvert_exporter": "python",
   "pygments_lexer": "ipython3",
   "version": "3.6.5"
  }
 },
 "nbformat": 4,
 "nbformat_minor": 2
}
