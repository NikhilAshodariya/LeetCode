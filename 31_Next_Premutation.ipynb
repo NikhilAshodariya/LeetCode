{
 "cells": [
  {
   "cell_type": "code",
   "execution_count": 3,
   "metadata": {},
   "outputs": [],
   "source": [
    "def nextPermutation(nums):\n",
    "    k = -1\n",
    "    l = -1\n",
    "    if len(nums) ==1:\n",
    "        return\n",
    "\n",
    "    for index,val in enumerate(nums[:len(nums)-1]):\n",
    "        if nums[index] < nums[index + 1]:\n",
    "            k = index\n",
    "\n",
    "    if k==-1:\n",
    "        nums.sort()\n",
    "    else:\n",
    "        for index,val in enumerate(nums):\n",
    "            if nums[k] < nums[index]:\n",
    "                l = index\n",
    "        temp = nums[k]\n",
    "        nums[k] = nums[l]\n",
    "        nums[l] = temp        \n",
    "        n = len(nums[k+1:])\n",
    "        i = k+1\n",
    "        while n>=0:\n",
    "            for j in range(i,n+k):\n",
    "                if nums[j]>nums[j+1]:\n",
    "                    nums[j],nums[j+1] = nums[j+1],nums[j]\n",
    "                pass\n",
    "            n = n - 1"
   ]
  },
  {
   "cell_type": "code",
   "execution_count": 5,
   "metadata": {},
   "outputs": [],
   "source": [
    "nextPermutation([5,4,7,5,3,2])"
   ]
  },
  {
   "cell_type": "code",
   "execution_count": null,
   "metadata": {},
   "outputs": [],
   "source": []
  }
 ],
 "metadata": {
  "kernelspec": {
   "display_name": "Python [conda env:Anaconda3]",
   "language": "python",
   "name": "conda-env-Anaconda3-py"
  },
  "language_info": {
   "codemirror_mode": {
    "name": "ipython",
    "version": 3
   },
   "file_extension": ".py",
   "mimetype": "text/x-python",
   "name": "python",
   "nbconvert_exporter": "python",
   "pygments_lexer": "ipython3",
   "version": "3.6.5"
  }
 },
 "nbformat": 4,
 "nbformat_minor": 2
}
