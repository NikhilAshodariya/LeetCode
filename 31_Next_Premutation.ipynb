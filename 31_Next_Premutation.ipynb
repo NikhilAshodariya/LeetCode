{
 "cells": [
  {
   "cell_type": "code",
   "execution_count": null,
   "metadata": {},
   "outputs": [],
   "source": [
    "'''\n",
    "1,2,3 → 1,3,2\n",
    "3,2,1 → 1,2,3\n",
    "1,1,5 → 1,5,1\n",
    "'''"
   ]
  },
  {
   "cell_type": "code",
   "execution_count": null,
   "metadata": {},
   "outputs": [],
   "source": [
    "nums = [2,3,1]"
   ]
  },
  {
   "cell_type": "code",
   "execution_count": null,
   "metadata": {},
   "outputs": [],
   "source": [
    "for i,v in enumerate(nums[1:]):   \n",
    "    key = nums[i] \n",
    "    j = i-1\n",
    "    while j >=0 and key < nums[j] : \n",
    "            nums[j+1] = nums[j] \n",
    "            j -= 1\n",
    "    nums[j+1] = key "
   ]
  },
  {
   "cell_type": "code",
   "execution_count": null,
   "metadata": {},
   "outputs": [],
   "source": [
    "nums"
   ]
  },
  {
   "cell_type": "code",
   "execution_count": 5,
   "metadata": {},
   "outputs": [],
   "source": [
    "def nextPermutation(self, nums):\n",
    "    \"\"\"\n",
    "    :type nums: List[int]\n",
    "    :rtype: void Do not return anything, modify nums in-place instead.\n",
    "    \"\"\"\n",
    "    k = -1\n",
    "    l = -1\n",
    "    for index,val in enumerate(nums[:len(nums)-1]):\n",
    "        if nums[index] < nums[index + 1]:\n",
    "            k = index\n",
    "\n",
    "    if k==-1:\n",
    "        nums.sort()\n",
    "        return nums\n",
    "    else:\n",
    "        for index,val in enumerate(nums):\n",
    "            if nums[k] < nums[index]:\n",
    "                l = index\n",
    "        temp = nums[k]\n",
    "        nums[k] = nums[l]\n",
    "        nums[l] = temp        \n",
    "        n = len(nums[k+1:])\n",
    "        print(f\"n = {n}\")\n",
    "        print(f\"k = {k}\")\n",
    "        \n",
    "        n = len(nums[k+1:])\n",
    "        i = k+1\n",
    "        print(nums[k+1:])\n",
    "        while n>=0:\n",
    "            for j in range(i,n+k):\n",
    "                print(f\"i = {i} and j = {j}\")\n",
    "                if nums[j]>nums[j+1]:\n",
    "                    nums[j],nums[j+1] = nums[j+1],nums[j]\n",
    "                pass\n",
    "#             i = i + 1\n",
    "            n = n - 1\n",
    "            pass\n",
    "        return nums\n",
    "#         for i in range(k+1,n):\n",
    "#             for j in range(i,n+k):\n",
    "#                 print(f\"i = {i} and j = {j}\")\n",
    "#                 if nums[j]>nums[j+1]:\n",
    "#                     nums[j],nums[j+1] = nums[j+1],nums[j]\n",
    "#                 pass\n",
    "#             pass\n",
    "#         return nums"
   ]
  },
  {
   "cell_type": "code",
   "execution_count": 6,
   "metadata": {},
   "outputs": [
    {
     "name": "stdout",
     "output_type": "stream",
     "text": [
      "n = 4\n",
      "k = 1\n",
      "[7, 4, 3, 2]\n",
      "i = 2 and j = 2\n",
      "i = 2 and j = 3\n",
      "i = 2 and j = 4\n",
      "i = 2 and j = 2\n",
      "i = 2 and j = 3\n",
      "i = 2 and j = 2\n"
     ]
    },
    {
     "data": {
      "text/plain": [
       "[5, 5, 2, 3, 4, 7]"
      ]
     },
     "execution_count": 6,
     "metadata": {},
     "output_type": "execute_result"
    }
   ],
   "source": [
    "nextPermutation(\"asdf\",[5,4,7,5,3,2])"
   ]
  },
  {
   "cell_type": "code",
   "execution_count": null,
   "metadata": {},
   "outputs": [],
   "source": [
    "def nextPermutation(self, nums):\n",
    "    \"\"\"\n",
    "    :type nums: List[int]\n",
    "    :rtype: void Do not return anything, modify nums in-place instead.\n",
    "    \"\"\"\n",
    "    k = -1\n",
    "    l = -1\n",
    "    for index,val in enumerate(nums[:len(nums)-1]):\n",
    "        if nums[index] < nums[index + 1]:\n",
    "            k = index\n",
    "            \n",
    "    if k==-1:\n",
    "        return sorted(nums)\n",
    "    else:\n",
    "        for index,val in enumerate(nums):\n",
    "            if nums[k] < nums[index]:\n",
    "                l = index\n",
    "        temp = nums[k]\n",
    "        nums[k] = nums[l]\n",
    "        nums[l] = temp\n",
    "        temp = nums[:k+1] + nums[k+1:][::-1]\n",
    "        nums = temp\n",
    "        print(nums)\n",
    "    "
   ]
  },
  {
   "cell_type": "code",
   "execution_count": null,
   "metadata": {},
   "outputs": [],
   "source": [
    "nextPermutation(\"asdf\",[1,3,2])"
   ]
  },
  {
   "cell_type": "code",
   "execution_count": null,
   "metadata": {},
   "outputs": [],
   "source": []
  }
 ],
 "metadata": {
  "kernelspec": {
   "display_name": "Python [conda env:Anaconda3]",
   "language": "python",
   "name": "conda-env-Anaconda3-py"
  },
  "language_info": {
   "codemirror_mode": {
    "name": "ipython",
    "version": 3
   },
   "file_extension": ".py",
   "mimetype": "text/x-python",
   "name": "python",
   "nbconvert_exporter": "python",
   "pygments_lexer": "ipython3",
   "version": "3.6.5"
  }
 },
 "nbformat": 4,
 "nbformat_minor": 2
}
