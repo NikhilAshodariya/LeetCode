{
 "cells": [
  {
   "cell_type": "code",
   "execution_count": 3,
   "metadata": {},
   "outputs": [],
   "source": [
    "def myAtoi(string):\n",
    "    \"\"\"\n",
    "    :type str: str\n",
    "    :rtype: int\n",
    "    \"\"\"\n",
    "    if string.strip()==\"\":\n",
    "        return 0\n",
    "    result = 0\n",
    "    limit_Value = 2147483648\n",
    "#     sign True means positive and False means negative\n",
    "    sign = None\n",
    "    toProcess = string.strip()\n",
    "\n",
    "    if toProcess.startswith(\"-\"):\n",
    "        result = \"0\"\n",
    "        for index,val in enumerate(toProcess[1:]):\n",
    "            if val.isdigit():\n",
    "                result = result + val\n",
    "            else:\n",
    "                break\n",
    "        result = -int(result)\n",
    "        if result < -limit_Value:\n",
    "            return -limit_Value\n",
    "        else:\n",
    "            return result\n",
    "        pass\n",
    "    elif toProcess[0].isdigit() or toProcess.startswith(\"+\"):\n",
    "        result = \"0\"\n",
    "        if toProcess.startswith(\"+\"):\n",
    "            toProcess = toProcess[1:]\n",
    "        for index,val in enumerate(toProcess):\n",
    "            if val.isdigit():\n",
    "                result = result + val\n",
    "            else:\n",
    "                break\n",
    "                pass\n",
    "\n",
    "        result = int(result)\n",
    "        if result > limit_Value-1:\n",
    "            return limit_Value-1\n",
    "        else:\n",
    "            return result\n",
    "    else:\n",
    "        return 0"
   ]
  },
  {
   "cell_type": "code",
   "execution_count": 4,
   "metadata": {},
   "outputs": [
    {
     "data": {
      "text/plain": [
       "-132"
      ]
     },
     "execution_count": 4,
     "metadata": {},
     "output_type": "execute_result"
    }
   ],
   "source": [
    "myAtoi(\"-132\")"
   ]
  },
  {
   "cell_type": "code",
   "execution_count": null,
   "metadata": {},
   "outputs": [],
   "source": []
  }
 ],
 "metadata": {
  "kernelspec": {
   "display_name": "Python [conda env:Anaconda3]",
   "language": "python",
   "name": "conda-env-Anaconda3-py"
  },
  "language_info": {
   "codemirror_mode": {
    "name": "ipython",
    "version": 3
   },
   "file_extension": ".py",
   "mimetype": "text/x-python",
   "name": "python",
   "nbconvert_exporter": "python",
   "pygments_lexer": "ipython3",
   "version": "3.6.5"
  }
 },
 "nbformat": 4,
 "nbformat_minor": 2
}
