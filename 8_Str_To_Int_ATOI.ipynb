{
 "cells": [
  {
   "cell_type": "code",
   "execution_count": 1,
   "metadata": {},
   "outputs": [],
   "source": [
    "class Solution:\n",
    "    def myAtoi(self, str):\n",
    "        \"\"\"\n",
    "        :type str: str\n",
    "        :rtype: int\n",
    "        \"\"\"\n",
    "        "
   ]
  },
  {
   "cell_type": "code",
   "execution_count": 22,
   "metadata": {},
   "outputs": [
    {
     "data": {
      "text/plain": [
       "False"
      ]
     },
     "execution_count": 22,
     "metadata": {},
     "output_type": "execute_result"
    }
   ],
   "source": [
    "\"cbacdef\".startswith((\"a\",\"b\"))"
   ]
  },
  {
   "cell_type": "code",
   "execution_count": 69,
   "metadata": {},
   "outputs": [],
   "source": [
    "def f1(k):\n",
    "    x=k\n",
    "    def f2():\n",
    "        print(x)\n",
    "    f2()"
   ]
  },
  {
   "cell_type": "code",
   "execution_count": 70,
   "metadata": {},
   "outputs": [
    {
     "name": "stdout",
     "output_type": "stream",
     "text": [
      "5\n"
     ]
    }
   ],
   "source": [
    "f1(5)"
   ]
  },
  {
   "cell_type": "code",
   "execution_count": 161,
   "metadata": {},
   "outputs": [],
   "source": [
    "def myAtoi(string):\n",
    "    if string.strip()==\"\":\n",
    "        return 0\n",
    "    limit_Value = 2147483648\n",
    "    \n",
    "    def innerFunc(param):\n",
    "        result = \"0\"\n",
    "        for index,val in enumerate(param):\n",
    "            if val.isdigit():\n",
    "                result = result + val\n",
    "            else:\n",
    "                break\n",
    "        return result\n",
    "    \n",
    "    toProcess = string.strip()\n",
    "\n",
    "    if toProcess.startswith(\"-\"):\n",
    "        result = -int(innerFunc(toProcess[1:]))\n",
    "        return -limit_Value if result < -limit_Value else result\n",
    "        pass\n",
    "    elif toProcess[0].isdigit() or toProcess.startswith(\"+\"):\n",
    "        result = int(innerFunc(toProcess[1:])) if toProcess.startswith(\"+\") else int(innerFunc(toProcess))\n",
    "        return limit_Value-1 if result>limit_Value-1 else result\n",
    "    else:\n",
    "        return 0"
   ]
  },
  {
   "cell_type": "code",
   "execution_count": 162,
   "metadata": {},
   "outputs": [
    {
     "data": {
      "text/plain": [
       "-132"
      ]
     },
     "execution_count": 162,
     "metadata": {},
     "output_type": "execute_result"
    }
   ],
   "source": [
    "myAtoi(\"-132\")"
   ]
  },
  {
   "cell_type": "code",
   "execution_count": null,
   "metadata": {},
   "outputs": [],
   "source": []
  }
 ],
 "metadata": {
  "kernelspec": {
   "display_name": "Python [conda env:Anaconda3]",
   "language": "python",
   "name": "conda-env-Anaconda3-py"
  },
  "language_info": {
   "codemirror_mode": {
    "name": "ipython",
    "version": 3
   },
   "file_extension": ".py",
   "mimetype": "text/x-python",
   "name": "python",
   "nbconvert_exporter": "python",
   "pygments_lexer": "ipython3",
   "version": "3.6.5"
  }
 },
 "nbformat": 4,
 "nbformat_minor": 2
}
