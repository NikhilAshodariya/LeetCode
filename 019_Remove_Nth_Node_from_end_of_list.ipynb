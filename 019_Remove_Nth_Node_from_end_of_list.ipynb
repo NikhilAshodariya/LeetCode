{
 "cells": [
  {
   "cell_type": "code",
   "execution_count": 12,
   "metadata": {},
   "outputs": [],
   "source": [
    "def removeNthFromEnd(self, head, n):\n",
    "    \"\"\"\n",
    "    :type head: ListNode\n",
    "    :type n: int\n",
    "    :rtype: ListNode\n",
    "    \"\"\"\n",
    "    mapping = [None]\n",
    "    counter = 0\n",
    "    temp = head\n",
    "    while temp != None:\n",
    "        counter = counter + 1\n",
    "        mapping.append(temp)\n",
    "        temp = temp.next\n",
    "    removeNode = counter - n + 1\n",
    "\n",
    "    del mapping[removeNode]\n",
    "\n",
    "    # Checking for empty condition\n",
    "    if len(mapping) == 1:\n",
    "        return []\n",
    "\n",
    "    # Checking if the node is first then no change in previous\n",
    "    if removeNode == 1:\n",
    "        return mapping[1]\n",
    "\n",
    "    # Checking if the node is last then no need to change in last\n",
    "    if removeNode==counter:\n",
    "        mapping[removeNode-1].next = None\n",
    "    else:\n",
    "        mapping[removeNode-1].next = mapping[removeNode+1-1]\n",
    "\n",
    "    return mapping[1]"
   ]
  }
 ],
 "metadata": {
  "kernelspec": {
   "display_name": "Python [conda env:Anaconda3]",
   "language": "python",
   "name": "conda-env-Anaconda3-py"
  },
  "language_info": {
   "codemirror_mode": {
    "name": "ipython",
    "version": 3
   },
   "file_extension": ".py",
   "mimetype": "text/x-python",
   "name": "python",
   "nbconvert_exporter": "python",
   "pygments_lexer": "ipython3",
   "version": "3.6.5"
  }
 },
 "nbformat": 4,
 "nbformat_minor": 2
}
