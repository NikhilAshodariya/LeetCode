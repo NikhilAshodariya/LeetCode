{
 "cells": [
  {
   "cell_type": "code",
   "execution_count": null,
   "metadata": {},
   "outputs": [],
   "source": [
    "\n",
    "def solution(parentheses):\n",
    "    # Type your solution here \n",
    "    \n",
    "    if parentheses == \"\":\n",
    "        return \"\"\n",
    "    \n",
    "    stack = []\n",
    "    getOpposite = {\n",
    "        \"(\":\")\",\n",
    "        \")\":\"(\"\n",
    "    }\n",
    "    if parentheses[len(parentheses)-1]==\"(\":\n",
    "        parentheses = parentheses + \")\"\n",
    "    if parentheses[0] == \")\":\n",
    "        parentheses = \"(\" + parentheses\n",
    "    \n",
    "    for v in parentheses:\n",
    "        if len(stack) == 0:\n",
    "            stack.append(v)\n",
    "        else:\n",
    "            if stack[len(stack) - 1] == getOpposite[v]:\n",
    "                stack.pop()\n",
    "            else:\n",
    "                stack.append(v)\n",
    "    for v  in stack:\n",
    "        if v==\"(\":\n",
    "            parentheses = parentheses + \")\"\n",
    "        elif v == \")\":\n",
    "            parentheses = \"(\" + parentheses\n",
    "        else:\n",
    "            print(\"Something is seriously wrong \")\n",
    "\n",
    "    return parentheses\n",
    "    pass\n"
   ]
  },
  {
   "cell_type": "code",
   "execution_count": null,
   "metadata": {},
   "outputs": [],
   "source": [
    "(()))))((())"
   ]
  },
  {
   "cell_type": "markdown",
   "metadata": {},
   "source": [
    "# coding with daniel"
   ]
  },
  {
   "cell_type": "code",
   "execution_count": null,
   "metadata": {},
   "outputs": [],
   "source": [
    "def generateParenthesis(self, n):    \n",
    "    def generateParenthesisHelper(curr,num_available,num_unclosed):\n",
    "    #     print(f\"curr = {curr}, available = {num_available}, unclosed = {num_unclosed}\")\n",
    "        if num_available == 0:\n",
    "            return [curr + \")\" * num_unclosed]\n",
    "        elif num_unclosed == 0:\n",
    "            return generateParenthesisHelper(curr+\"(\", num_available - 1, num_unclosed + 1)\n",
    "        return ( \n",
    "                    generateParenthesisHelper(curr+\"(\", num_available - 1, num_unclosed + 1) \n",
    "                    + \n",
    "                    generateParenthesisHelper(curr+\")\", num_available, num_unclosed - 1)\n",
    "               )\n",
    "    generateParenthesisHelper(\"\", n, 0)"
   ]
  },
  {
   "cell_type": "code",
   "execution_count": null,
   "metadata": {},
   "outputs": [],
   "source": []
  },
  {
   "cell_type": "code",
   "execution_count": null,
   "metadata": {},
   "outputs": [],
   "source": []
  },
  {
   "cell_type": "code",
   "execution_count": 12,
   "metadata": {},
   "outputs": [],
   "source": [
    "def generateParenthesis(self, n):\n",
    "    \"\"\"\n",
    "    :type n: int\n",
    "    :rtype: List[str]\n",
    "    \"\"\"\n",
    "    dp = [[] for i in range(n + 1)]\n",
    "    print(dp)\n",
    "    dp[0].append('')\n",
    "    for i in range(n + 1):\n",
    "        for j in range(i):\n",
    "            dp[i] += ['(' + x + ')' + y for x in dp[j] for y in dp[i - j - 1]]\n",
    "#     print(dp)\n",
    "    return dp[n]"
   ]
  },
  {
   "cell_type": "code",
   "execution_count": 13,
   "metadata": {},
   "outputs": [
    {
     "name": "stdout",
     "output_type": "stream",
     "text": [
      "[[], [], [], []]\n"
     ]
    },
    {
     "data": {
      "text/plain": [
       "['()()()', '()(())', '(())()', '(()())', '((()))']"
      ]
     },
     "execution_count": 13,
     "metadata": {},
     "output_type": "execute_result"
    }
   ],
   "source": [
    "generateParenthesis(\"\",3)"
   ]
  },
  {
   "cell_type": "code",
   "execution_count": null,
   "metadata": {},
   "outputs": [],
   "source": []
  }
 ],
 "metadata": {
  "kernelspec": {
   "display_name": "Python [conda env:Anaconda3]",
   "language": "python",
   "name": "conda-env-Anaconda3-py"
  },
  "language_info": {
   "codemirror_mode": {
    "name": "ipython",
    "version": 3
   },
   "file_extension": ".py",
   "mimetype": "text/x-python",
   "name": "python",
   "nbconvert_exporter": "python",
   "pygments_lexer": "ipython3",
   "version": "3.6.5"
  }
 },
 "nbformat": 4,
 "nbformat_minor": 2
}
