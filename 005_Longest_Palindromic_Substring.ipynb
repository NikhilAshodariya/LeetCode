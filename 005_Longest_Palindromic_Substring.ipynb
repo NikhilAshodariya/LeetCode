{
 "cells": [
  {
   "cell_type": "markdown",
   "metadata": {},
   "source": [
    "# Using Dynamic Programming"
   ]
  },
  {
   "cell_type": "code",
   "execution_count": 5,
   "metadata": {},
   "outputs": [],
   "source": [
    "def longestPalindrome(s):\n",
    "    w,h = len(s),len(s)\n",
    "    storageMatrix = [[False for x in range(w)] for y in range(h)] \n",
    "\n",
    "    if len(s) == 0:\n",
    "        return \"\"\n",
    "    if len(s) == 1:\n",
    "        return s[0]\n",
    "\n",
    "    palindromeString = \"\"\n",
    "    # StringOfLength == 1\n",
    "    for i in range(len(s)):\n",
    "        storageMatrix[i][i] = True\n",
    "        palindromeString = s[i]\n",
    "\n",
    "    # Length == 2\n",
    "    for i in range(0,len(s)-1):\n",
    "        if s[i] == s[i+1]:\n",
    "            palindromeString = s[i:i+2]\n",
    "            storageMatrix[i][i+1] = True\n",
    "\n",
    "    # Length > 2\n",
    "    i = 0\n",
    "    j = 0\n",
    "    stepLength = 3\n",
    "    while stepLength <= len(s):\n",
    "        j = i + stepLength - 1\n",
    "        while j < len(s):\n",
    "            if (s[i] == s[j]) and (storageMatrix[i+1][j-1] == True):\n",
    "                storageMatrix[i][j] = True\n",
    "                if(len(palindromeString) < len(s[i:j+1])):\n",
    "                    palindromeString = s[i:j+1]\n",
    "\n",
    "            i = i + 1 \n",
    "            j = j + 1\n",
    "\n",
    "        i = 0\n",
    "\n",
    "        stepLength = stepLength + 1\n",
    "    return palindromeString\n",
    "    pass"
   ]
  },
  {
   "cell_type": "code",
   "execution_count": 6,
   "metadata": {
    "scrolled": true
   },
   "outputs": [
    {
     "data": {
      "text/plain": [
       "'abcba'"
      ]
     },
     "execution_count": 6,
     "metadata": {},
     "output_type": "execute_result"
    }
   ],
   "source": [
    "longestPalindrome(\"abcba\")\n",
    "# longestPalindrome(\"asfd\",\"abaabc\")"
   ]
  },
  {
   "cell_type": "markdown",
   "metadata": {},
   "source": [
    "# Using Brute Force Approach"
   ]
  },
  {
   "cell_type": "code",
   "execution_count": 7,
   "metadata": {},
   "outputs": [],
   "source": [
    "def longestPalindrome(s):\n",
    "    def isPalindrome(s): \n",
    "        rev = s[::-1]\n",
    "        if (s == rev): \n",
    "            return True\n",
    "        return False\n",
    "\n",
    "    if len(s) == 1:\n",
    "        return s\n",
    "\n",
    "    finalAns = \"\"\n",
    "    for outerIdx, outerVal in enumerate(s):\n",
    "        temp = outerVal\n",
    "        for innerIdx, innerVal in enumerate(s[outerIdx+1:]):\n",
    "            temp = temp + innerVal\n",
    "            if isPalindrome(temp):\n",
    "                if len(finalAns) < len(temp):\n",
    "                    finalAns = temp\n",
    "                    pass\n",
    "                pass\n",
    "            pass\n",
    "    \n",
    "    if len(finalAns) == 0:\n",
    "        if len(s) == 0:\n",
    "            return \"\"\n",
    "        else:\n",
    "            return s[0]\n",
    "    return finalAns"
   ]
  },
  {
   "cell_type": "code",
   "execution_count": 8,
   "metadata": {},
   "outputs": [
    {
     "data": {
      "text/plain": [
       "'abcba'"
      ]
     },
     "execution_count": 8,
     "metadata": {},
     "output_type": "execute_result"
    }
   ],
   "source": [
    "longestPalindrome(\"abcba\")"
   ]
  },
  {
   "cell_type": "code",
   "execution_count": null,
   "metadata": {},
   "outputs": [],
   "source": []
  }
 ],
 "metadata": {
  "kernelspec": {
   "display_name": "Python [conda env:Anaconda3]",
   "language": "python",
   "name": "conda-env-Anaconda3-py"
  }
 },
 "nbformat": 4,
 "nbformat_minor": 2
}
