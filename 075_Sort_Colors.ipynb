{
 "cells": [
  {
   "cell_type": "markdown",
   "metadata": {},
   "source": [
    "# Using one Pass"
   ]
  },
  {
   "cell_type": "code",
   "execution_count": 1,
   "metadata": {},
   "outputs": [],
   "source": [
    "def sortColors(self,nums):\n",
    "    colorFirst = 0\n",
    "    colorLast = len(nums) - 1\n",
    "    \n",
    "    def swap(idx1,idx2):\n",
    "        temp = nums[idx1]\n",
    "        nums[idx1] = nums[idx2]\n",
    "        nums[idx2] = temp\n",
    "    \n",
    "    while colorFirst < len(nums) and nums[colorFirst]==0:\n",
    "        colorFirst = colorFirst + 1\n",
    "    \n",
    "    while colorLast >= 0 and nums[colorLast] == 2:\n",
    "        colorLast = colorLast - 1\n",
    "        \n",
    "    index = colorFirst\n",
    "    while index<=colorLast:\n",
    "        if nums[index] == 0:\n",
    "            swap(index,colorFirst)\n",
    "            colorFirst = colorFirst + 1\n",
    "            index = index + 1\n",
    "        elif nums[index] == 2:\n",
    "            swap(index,colorLast)\n",
    "            colorLast = colorLast - 1\n",
    "        else:\n",
    "            index = index + 1\n",
    "            \n",
    "    print(nums)"
   ]
  },
  {
   "cell_type": "code",
   "execution_count": 2,
   "metadata": {},
   "outputs": [
    {
     "name": "stdout",
     "output_type": "stream",
     "text": [
      "[0, 0, 1, 1, 2, 2, 2, 2]\n"
     ]
    }
   ],
   "source": [
    "sortColors(\"asdf\",[0,2,2,2,0,2,1,1])"
   ]
  },
  {
   "cell_type": "code",
   "execution_count": 3,
   "metadata": {},
   "outputs": [
    {
     "name": "stdout",
     "output_type": "stream",
     "text": [
      "[0, 0, 0, 0, 0, 0, 1, 1, 1, 1, 1, 2, 2, 2, 2, 2]\n"
     ]
    }
   ],
   "source": [
    "sortColors(\"asdf\",[0,0,0,1,2,1,0,1,1,2,0,0,1,2,2,2])"
   ]
  },
  {
   "cell_type": "markdown",
   "metadata": {},
   "source": [
    "# Using one pass"
   ]
  },
  {
   "cell_type": "code",
   "execution_count": 4,
   "metadata": {},
   "outputs": [],
   "source": [
    "def sortColors(self,nums):\n",
    "    \"\"\"\n",
    "    :type nums: List[int]\n",
    "    :rtype: void Do not return anything, modify nums in-place instead.\n",
    "    \"\"\"\n",
    "    counter = 0\n",
    "    repeat = 0\n",
    "    while counter < len(nums):\n",
    "        val = nums[counter]\n",
    "        if val == 0:\n",
    "            nums.insert(0,val)\n",
    "            del nums[counter+1]\n",
    "            counter = counter + 1\n",
    "        elif val == 2:\n",
    "            nums.append(val)\n",
    "            del nums[counter]\n",
    "            if nums[counter] == 2:\n",
    "                repeat += 1\n",
    "            if repeat >= len(nums):\n",
    "                break\n",
    "        else:\n",
    "            counter = counter + 1\n",
    "    return nums"
   ]
  },
  {
   "cell_type": "code",
   "execution_count": 5,
   "metadata": {},
   "outputs": [
    {
     "data": {
      "text/plain": [
       "[0, 0, 1, 2]"
      ]
     },
     "execution_count": 5,
     "metadata": {},
     "output_type": "execute_result"
    }
   ],
   "source": [
    "sortColors(\"asdf\",[0,2,0,1])"
   ]
  },
  {
   "cell_type": "markdown",
   "metadata": {},
   "source": [
    "# Using Count Method"
   ]
  },
  {
   "cell_type": "code",
   "execution_count": 6,
   "metadata": {},
   "outputs": [],
   "source": [
    "def sortColors(nums):\n",
    "    \"\"\"\n",
    "    :type nums: List[int]\n",
    "    :rtype: void Do not return anything, modify nums in-place instead.\n",
    "    \"\"\"\n",
    "    zeroCount = 0\n",
    "    oneCount = 0\n",
    "    twoCount = 0\n",
    "    \n",
    "    for val in nums:\n",
    "        if val == 0:\n",
    "            zeroCount = zeroCount + 1\n",
    "        elif val == 1:\n",
    "            oneCount = oneCount + 1\n",
    "        elif val == 2:\n",
    "            twoCount = twoCount + 1\n",
    "        else:\n",
    "            print(\"something weird has happened\")\n",
    "    counter = 0\n",
    "    \n",
    "    while True:\n",
    "        if zeroCount==0 and oneCount==0 and twoCount==0:\n",
    "            break\n",
    "        elif zeroCount > 0:\n",
    "            nums[counter] = 0\n",
    "            counter = counter + 1\n",
    "            zeroCount -= 1\n",
    "        elif oneCount > 0:\n",
    "            nums[counter] = 1\n",
    "            counter += 1\n",
    "            oneCount -= 1\n",
    "        elif twoCount > 0:\n",
    "            nums[counter] = 2\n",
    "            counter += 1\n",
    "            twoCount -= 1\n",
    "    \n",
    "    return nums"
   ]
  },
  {
   "cell_type": "code",
   "execution_count": 7,
   "metadata": {},
   "outputs": [
    {
     "data": {
      "text/plain": [
       "[0, 0, 1, 1, 2, 2]"
      ]
     },
     "execution_count": 7,
     "metadata": {},
     "output_type": "execute_result"
    }
   ],
   "source": [
    "sortColors([2,0,2,1,1,0])"
   ]
  },
  {
   "cell_type": "markdown",
   "metadata": {},
   "source": [
    "# Using Brute Force (Insertion Sort)"
   ]
  },
  {
   "cell_type": "code",
   "execution_count": 8,
   "metadata": {},
   "outputs": [],
   "source": [
    "def sortColors(nums):\n",
    "    \"\"\"\n",
    "    :type nums: List[int]\n",
    "    :rtype: void Do not return anything, modify nums in-place instead.\n",
    "    \"\"\"\n",
    "    def insertionSort():\n",
    "        for index in range(1,len(nums)):\n",
    "            currentvalue = nums[index]\n",
    "            position = index\n",
    "            while position>0 and nums[position-1]>currentvalue:\n",
    "                nums[position]=nums[position-1]\n",
    "                position = position-1\n",
    "            nums[position]=currentvalue\n",
    "    insertionSort()\n",
    "    \n",
    "    return nums"
   ]
  },
  {
   "cell_type": "code",
   "execution_count": 9,
   "metadata": {},
   "outputs": [
    {
     "data": {
      "text/plain": [
       "[0, 0, 1, 1, 2, 2]"
      ]
     },
     "execution_count": 9,
     "metadata": {},
     "output_type": "execute_result"
    }
   ],
   "source": [
    "sortColors([2,0,2,1,1,0])"
   ]
  }
 ],
 "metadata": {
  "kernelspec": {
   "display_name": "Python 3",
   "language": "python",
   "name": "python3"
  },
  "language_info": {
   "codemirror_mode": {
    "name": "ipython",
    "version": 3
   },
   "file_extension": ".py",
   "mimetype": "text/x-python",
   "name": "python",
   "nbconvert_exporter": "python",
   "pygments_lexer": "ipython3",
   "version": "3.6.8"
  }
 },
 "nbformat": 4,
 "nbformat_minor": 2
}
