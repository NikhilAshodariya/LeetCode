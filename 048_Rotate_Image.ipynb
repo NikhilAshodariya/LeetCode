{
 "cells": [
  {
   "cell_type": "markdown",
   "metadata": {},
   "source": [
    "# Method 1"
   ]
  },
  {
   "cell_type": "code",
   "execution_count": 7,
   "metadata": {},
   "outputs": [],
   "source": [
    "def rotate(matrix):\n",
    "    \"\"\"\n",
    "    :type matrix: List[List[int]]\n",
    "    :rtype: void Do not return anything, modify matrix in-place instead.\n",
    "    \"\"\"\n",
    "\n",
    "\n",
    "    def helper(matrix,rowNum,colNum):\n",
    "\n",
    "        if colNum >= len(matrix)//2:\n",
    "            return\n",
    "\n",
    "    #     Moving elements from corner to next corner\n",
    "        temp = matrix[len(matrix)-1 - rowNum][colNum]\n",
    "        matrix[len(matrix) - 1 -rowNum][colNum] = matrix[len(matrix) - 1 - rowNum][len(matrix[0]) - 1 - colNum]\n",
    "        matrix[len(matrix) - 1 - rowNum][len(matrix[0]) - 1 - colNum] = matrix[rowNum][len(matrix[0]) - 1 - colNum]\n",
    "        matrix[rowNum][len(matrix[0]) - 1 - colNum] = matrix[rowNum][colNum]\n",
    "        matrix[rowNum][colNum] = temp\n",
    "\n",
    "        if rowNum >= 1:\n",
    "            if (len(matrix) - rowNum) <= 3 :\n",
    "                return\n",
    "\n",
    "\n",
    "    #     Moving rows and columns\n",
    "        col = 1 + colNum\n",
    "        row = 0 + rowNum\n",
    "        for _ in matrix[rowNum][1+colNum:len(matrix)-1-colNum]:\n",
    "            temp = matrix[len(matrix) - 1 - col][row]\n",
    "            matrix[len(matrix) - 1 - col][row] = matrix[len(matrix) - row - 1][len(matrix) - 1 - col]\n",
    "            matrix[len(matrix) - row - 1][len(matrix) - 1 - col] = matrix[col][len(matrix) - row - 1]\n",
    "            matrix[col][len(matrix) - row - 1] = matrix[row][col]\n",
    "            matrix[row][col] = temp\n",
    "\n",
    "            col = col + 1\n",
    "            pass\n",
    "        if len(matrix) >= 4:\n",
    "            helper(matrix,rowNum + 1, colNum + 1)\n",
    "    helper(matrix,0,0)\n",
    "    print(matrix)"
   ]
  },
  {
   "cell_type": "code",
   "execution_count": 8,
   "metadata": {},
   "outputs": [
    {
     "name": "stdout",
     "output_type": "stream",
     "text": [
      "[[7, 4, 1], [8, 5, 2], [9, 6, 3]]\n"
     ]
    }
   ],
   "source": [
    "rotate([\n",
    "  [1,2,3],\n",
    "  [4,5,6],\n",
    "  [7,8,9]\n",
    "])"
   ]
  },
  {
   "cell_type": "code",
   "execution_count": 9,
   "metadata": {},
   "outputs": [
    {
     "name": "stdout",
     "output_type": "stream",
     "text": [
      "[[15, 13, 2, 5], [14, 3, 4, 1], [12, 6, 8, 9], [16, 7, 10, 11]]\n"
     ]
    }
   ],
   "source": [
    "rotate([\n",
    "  [ 5, 1, 9,11],\n",
    "  [ 2, 4, 8,10],\n",
    "  [13, 3, 6, 7],\n",
    "  [15,14,12,16]\n",
    "])"
   ]
  },
  {
   "cell_type": "markdown",
   "metadata": {},
   "source": [
    "# Method 2"
   ]
  },
  {
   "cell_type": "markdown",
   "metadata": {},
   "source": [
    "Steps:-\n",
    "    1. Transpose of the matrix\n",
    "    2. reverse each row from left to right"
   ]
  },
  {
   "cell_type": "code",
   "execution_count": 13,
   "metadata": {},
   "outputs": [],
   "source": [
    "def rotate(matrix):\n",
    "    \"\"\"\n",
    "    :type matrix: List[List[int]]\n",
    "    :rtype: void Do not return anything, modify matrix in-place instead.\n",
    "    \"\"\"\n",
    "#     first-transpose matrix\n",
    "    n = len(matrix)\n",
    "    for i in range(n):\n",
    "        for j in range(i+1, n):\n",
    "            matrix[i][j], matrix[j][i] = matrix[j][i], matrix[i][j] \n",
    "    \n",
    "#     2nd-flip each row (left-right)\n",
    "    for i in range(n):\n",
    "        matrix[i].reverse()\n",
    "    print(matrix)"
   ]
  },
  {
   "cell_type": "code",
   "execution_count": 14,
   "metadata": {},
   "outputs": [
    {
     "name": "stdout",
     "output_type": "stream",
     "text": [
      "[[7, 4, 1], [8, 5, 2], [9, 6, 3]]\n"
     ]
    }
   ],
   "source": [
    "rotate([\n",
    "  [1,2,3],\n",
    "  [4,5,6],\n",
    "  [7,8,9]\n",
    "])"
   ]
  },
  {
   "cell_type": "code",
   "execution_count": 15,
   "metadata": {},
   "outputs": [
    {
     "name": "stdout",
     "output_type": "stream",
     "text": [
      "[[15, 13, 2, 5], [14, 3, 4, 1], [12, 6, 8, 9], [16, 7, 10, 11]]\n"
     ]
    }
   ],
   "source": [
    "rotate([\n",
    "  [ 5, 1, 9,11],\n",
    "  [ 2, 4, 8,10],\n",
    "  [13, 3, 6, 7],\n",
    "  [15,14,12,16]\n",
    "])"
   ]
  },
  {
   "cell_type": "code",
   "execution_count": null,
   "metadata": {},
   "outputs": [],
   "source": []
  }
 ],
 "metadata": {
  "kernelspec": {
   "display_name": "Python [conda env:Anaconda3]",
   "language": "python",
   "name": "conda-env-Anaconda3-py"
  },
  "language_info": {
   "codemirror_mode": {
    "name": "ipython",
    "version": 3
   },
   "file_extension": ".py",
   "mimetype": "text/x-python",
   "name": "python",
   "nbconvert_exporter": "python",
   "pygments_lexer": "ipython3",
   "version": "3.6.5"
  }
 },
 "nbformat": 4,
 "nbformat_minor": 2
}
