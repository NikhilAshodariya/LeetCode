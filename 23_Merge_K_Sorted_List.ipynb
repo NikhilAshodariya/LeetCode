{
 "cells": [
  {
   "cell_type": "code",
   "execution_count": null,
   "metadata": {},
   "outputs": [],
   "source": [
    "def mergeTwoLists(self, l1, l2):\n",
    "    i = 0\n",
    "    j = 0\n",
    "    k = 0\n",
    "    array1 = l1\n",
    "    array2 = l2\n",
    "    newArray = []\n",
    "\n",
    "    while(i<len(array1) and j<len(array2)):\n",
    "        if(array1[i] < array2[j]):\n",
    "            newArray.append(array1[i])\n",
    "            i = i + 1\n",
    "        elif (array1[i] > array2[j]):\n",
    "            newArray.append(array2[j])\n",
    "            j = j + 1\n",
    "        else:\n",
    "            newArray.append(array1[i])\n",
    "            newArray.append(array2[j])\n",
    "            i = i + 1\n",
    "            j = j + 1\n",
    "\n",
    "    while i<len(array1):\n",
    "        newArray.append(array1[i])\n",
    "        i = i + 1 \n",
    "\n",
    "    while j<len(array2):\n",
    "        newArray.append(array2[j])\n",
    "        j = j + 1\n",
    "\n",
    "    return newArray"
   ]
  },
  {
   "cell_type": "code",
   "execution_count": 113,
   "metadata": {},
   "outputs": [],
   "source": [
    "class Solution:\n",
    "    def convertToList(self,ls):\n",
    "        temp = ls\n",
    "        array = []\n",
    "        while(temp!=None):\n",
    "            array.append(temp.val)\n",
    "            temp = temp.next\n",
    "        return array\n",
    "        \n",
    "    def mergeKLists(self, lists):\n",
    "        if len(lists) == 0:\n",
    "            return []\n",
    "        if len(lists) == 1:\n",
    "            return lists[0]\n",
    "        \n",
    "        inputConvertedToList = []\n",
    "        finalAns = []\n",
    "        check = False\n",
    "        \n",
    "        for val in lists:\n",
    "            tempAns = val\n",
    "            if tempAns != []:\n",
    "                inputConvertedToList.append(tempAns)\n",
    "        \n",
    "        if len(inputConvertedToList) == 0:\n",
    "            return inputConvertedToList\n",
    "        \n",
    "        if len(inputConvertedToList) == 1:\n",
    "            return inputConvertedToList[0]\n",
    "        \n",
    "        print(\"List = \",lists)\n",
    "        print(\"Input Converted To List\",inputConvertedToList)\n",
    "        counter = [0 for _ in range(0,len(inputConvertedToList))]\n",
    "        \n",
    "        while True:\n",
    "            if len(counter) == 1:\n",
    "                finalAns.extend(inputConvertedToList[0])\n",
    "                while counter[0] < len(inputConvertedToList[0]):\n",
    "                    finalAns.append(inputConvertedToList[0][counter[0]])\n",
    "                    counter[0] = counter[0] + 1\n",
    "                return finalAns\n",
    "            else:\n",
    "                [minVal,minIndex] = self.getMin(counter,inputConvertedToList)\n",
    "                finalAns.append(minVal)\n",
    "                counter[minIndex] = counter[minIndex] + 1\n",
    "                if counter[minIndex] >= len(inputConvertedToList[minIndex]):\n",
    "                    del inputConvertedToList[minIndex]\n",
    "                    del counter[minIndex]\n",
    "        \n",
    "    def getMin(self,counter,inputConvertedToList):\n",
    "        temp = []\n",
    "        i = 0\n",
    "        for val in range(0,len(counter)):\n",
    "            temp.append(inputConvertedToList[i][counter[val]])\n",
    "            i = i + 1\n",
    "            \n",
    "        min_ = temp[0]\n",
    "        index = 0\n",
    "        for j in range(1,len(temp)):\n",
    "            if temp[j] < min_:\n",
    "                min_ = temp[j]\n",
    "                index = j\n",
    "        return (min_ ,index)\n",
    "        pass"
   ]
  },
  {
   "cell_type": "code",
   "execution_count": 114,
   "metadata": {},
   "outputs": [],
   "source": [
    "obj = Solution()"
   ]
  },
  {
   "cell_type": "code",
   "execution_count": 115,
   "metadata": {},
   "outputs": [
    {
     "name": "stdout",
     "output_type": "stream",
     "text": [
      "List =  [[2], [], [-1]]\n",
      "Input Converted To List [[2], [-1]]\n"
     ]
    },
    {
     "data": {
      "text/plain": [
       "[-1, 2]"
      ]
     },
     "execution_count": 115,
     "metadata": {},
     "output_type": "execute_result"
    }
   ],
   "source": [
    "obj.mergeKLists([[1,4,5],[1,3,4],[2,6]])\n",
    "# obj.mergeKLists([[2],[],[-1]])\n",
    "# obj.mergeKLists([[],[]])\n",
    "# obj.mergeKLists([[1,4,5],[1,3,4],[2,6]])\n",
    "# obj.mergeKLists([[-5,1,4,7],[10,17,25,32,34,52],[1,3,4],[2,6]])\n",
    "# obj.mergeKLists([[-10,-9,-9,-3,-1,-1,0],[-5],[4],[-8],[],[-9,-6,-5,-4,-2,2,3]])"
   ]
  },
  {
   "cell_type": "code",
   "execution_count": 86,
   "metadata": {},
   "outputs": [
    {
     "ename": "SyntaxError",
     "evalue": "invalid syntax (<ipython-input-86-1517206c6310>, line 17)",
     "output_type": "error",
     "traceback": [
      "\u001b[1;36m  File \u001b[1;32m\"<ipython-input-86-1517206c6310>\"\u001b[1;36m, line \u001b[1;32m17\u001b[0m\n\u001b[1;33m    int k = int(len(lists)/2)\u001b[0m\n\u001b[1;37m        ^\u001b[0m\n\u001b[1;31mSyntaxError\u001b[0m\u001b[1;31m:\u001b[0m invalid syntax\n"
     ]
    }
   ],
   "source": [
    "def mergeKLists(self, lists):\n",
    "    finalAns = []\n",
    "    check = False\n",
    "    if len(lists)%2 == 0:\n",
    "        mergeKListsHelper(lists)\n",
    "    else:\n",
    "        check = True\n",
    "        mergeKListsHelper(lists[:-1])\n",
    "\n",
    "    if check == True:\n",
    "        finalAns.append(self.mergeTwoLists(finalAns[-1],lists[-1]))\n",
    "\n",
    "    def mergeKListsHelper(lists):\n",
    "        if len(lists) == 2:\n",
    "            finalAns.append(self.mergeTwoLists(lists[0],lists[1]))\n",
    "        else:\n",
    "            int k = int(len(lists)/2)\n",
    "            mergeKListsHelper(lists[:k])\n",
    "            mergeKListsHelper(lists[k:])\n",
    "    print(finalAns)"
   ]
  },
  {
   "cell_type": "code",
   "execution_count": null,
   "metadata": {},
   "outputs": [],
   "source": []
  }
 ],
 "metadata": {
  "kernelspec": {
   "display_name": "Python [conda env:Anaconda3]",
   "language": "python",
   "name": "conda-env-Anaconda3-py"
  },
  "language_info": {
   "codemirror_mode": {
    "name": "ipython",
    "version": 3
   },
   "file_extension": ".py",
   "mimetype": "text/x-python",
   "name": "python",
   "nbconvert_exporter": "python",
   "pygments_lexer": "ipython3",
   "version": "3.6.5"
  }
 },
 "nbformat": 4,
 "nbformat_minor": 2
}
