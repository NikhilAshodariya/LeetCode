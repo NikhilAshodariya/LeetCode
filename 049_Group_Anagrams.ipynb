{
 "cells": [
  {
   "cell_type": "markdown",
   "metadata": {},
   "source": [
    "# Using string sorting"
   ]
  },
  {
   "cell_type": "code",
   "execution_count": 1,
   "metadata": {},
   "outputs": [],
   "source": [
    "def groupAnagrams(self, strs):\n",
    "    ans = {}\n",
    "    result = []\n",
    "    for v in strs:\n",
    "        temp = tuple(sorted(list(v)))\n",
    "        if temp not in ans:\n",
    "            ans[temp] = [v]\n",
    "        else:\n",
    "            ans[temp].append(v)\n",
    "            pass\n",
    "        pass\n",
    "    \n",
    "    for v in ans:\n",
    "        result.append(ans[v])\n",
    "    return result"
   ]
  },
  {
   "cell_type": "code",
   "execution_count": 2,
   "metadata": {},
   "outputs": [
    {
     "data": {
      "text/plain": [
       "[['eat', 'tea', 'ate'], ['tan', 'nat'], ['bat']]"
      ]
     },
     "execution_count": 2,
     "metadata": {},
     "output_type": "execute_result"
    }
   ],
   "source": [
    "groupAnagrams(\"asdf\",[\"eat\", \"tea\", \"tan\", \"ate\", \"nat\", \"bat\"])"
   ]
  },
  {
   "cell_type": "code",
   "execution_count": 3,
   "metadata": {},
   "outputs": [
    {
     "data": {
      "text/plain": [
       "[['c', 'c']]"
      ]
     },
     "execution_count": 3,
     "metadata": {},
     "output_type": "execute_result"
    }
   ],
   "source": [
    "groupAnagrams(\"asdf\",[\"c\",\"c\"])"
   ]
  },
  {
   "cell_type": "markdown",
   "metadata": {},
   "source": [
    "# Brute Force Method by generating all possible substring"
   ]
  },
  {
   "cell_type": "code",
   "execution_count": 4,
   "metadata": {},
   "outputs": [],
   "source": [
    "def groupAnagrams(self, strs):\n",
    "    \"\"\"\n",
    "    :type strs: List[str]\n",
    "    :rtype: List[List[str]]\n",
    "    \"\"\"\n",
    "    def generateAllString(string):\n",
    "        result = []\n",
    "        def innerHelper(userInput,ans):\n",
    "            if len(string) == len(ans):\n",
    "                result.append(\"\".join(ans))\n",
    "            else:\n",
    "                for i in range(len(userInput)):\n",
    "                    previous = ans[:]\n",
    "                    ans.append(userInput[i])\n",
    "                    temp = userInput[:]\n",
    "                    del temp[i]\n",
    "                    innerHelper(temp,ans)\n",
    "                    ans = previous[:]\n",
    "                    pass    \n",
    "        innerHelper(list(string),[])\n",
    "        return result\n",
    "    \n",
    "    copy = strs[:]\n",
    "    result = []\n",
    "\n",
    "    for idx,val in enumerate(strs):\n",
    "        if val != -1:\n",
    "            temp = []\n",
    "            strs[strs.index(val)] = -1\n",
    "            subStringList = generateAllString(val)\n",
    "            checkList = strs[:idx]+strs[idx+1:]\n",
    "            for v in checkList:\n",
    "                if v in subStringList:\n",
    "                    strs[strs.index(v)] = -1\n",
    "                    temp.append(v)\n",
    "                    pass\n",
    "                pass\n",
    "            temp.append(val)\n",
    "            result.append(temp)\n",
    "    return result"
   ]
  },
  {
   "cell_type": "code",
   "execution_count": 5,
   "metadata": {},
   "outputs": [
    {
     "data": {
      "text/plain": [
       "[['c', 'c']]"
      ]
     },
     "execution_count": 5,
     "metadata": {},
     "output_type": "execute_result"
    }
   ],
   "source": [
    "groupAnagrams(\"asdf\",[\"c\",\"c\"])"
   ]
  },
  {
   "cell_type": "code",
   "execution_count": 6,
   "metadata": {},
   "outputs": [
    {
     "data": {
      "text/plain": [
       "[['tea', 'ate', 'eat'], ['nat', 'tan'], ['bat']]"
      ]
     },
     "execution_count": 6,
     "metadata": {},
     "output_type": "execute_result"
    }
   ],
   "source": [
    "groupAnagrams(\"asdf\",[\"eat\", \"tea\", \"tan\", \"ate\", \"nat\", \"bat\"])"
   ]
  },
  {
   "cell_type": "code",
   "execution_count": null,
   "metadata": {},
   "outputs": [],
   "source": []
  }
 ],
 "metadata": {
  "kernelspec": {
   "display_name": "Python [conda env:Anaconda3]",
   "language": "python",
   "name": "conda-env-Anaconda3-py"
  },
  "language_info": {
   "codemirror_mode": {
    "name": "ipython",
    "version": 3
   },
   "file_extension": ".py",
   "mimetype": "text/x-python",
   "name": "python",
   "nbconvert_exporter": "python",
   "pygments_lexer": "ipython3",
   "version": "3.6.5"
  }
 },
 "nbformat": 4,
 "nbformat_minor": 2
}
