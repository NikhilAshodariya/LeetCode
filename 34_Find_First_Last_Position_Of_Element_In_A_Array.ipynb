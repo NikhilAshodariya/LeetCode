{
 "cells": [
  {
   "cell_type": "code",
   "execution_count": null,
   "metadata": {},
   "outputs": [],
   "source": [
    "# def searchRange(self, nums, target):\n",
    "#     \"\"\"\n",
    "#     :type nums: List[int]\n",
    "#     :type target: int\n",
    "#     :rtype: List[int]\n",
    "#     \"\"\"\n",
    "#     def helperSearch(arr,requiredElement,low,high,mid):\n",
    "        "
   ]
  },
  {
   "cell_type": "code",
   "execution_count": 9,
   "metadata": {},
   "outputs": [],
   "source": [
    "def searchRange(self, nums, target):\n",
    "    \"\"\"\n",
    "    :type nums: List[int]\n",
    "    :type target: int\n",
    "    :rtype: List[int]\n",
    "    \"\"\"\n",
    "    low = 0\n",
    "    high = len(nums) - 1\n",
    "    \n",
    "    while low<=high:\n",
    "        mid = (low + high) // 2\n",
    "        if (nums[low]== target) and (nums[high]==target):\n",
    "            return [low,high]\n",
    "        elif nums[mid] < target:\n",
    "            low = mid + 1\n",
    "            pass\n",
    "        elif nums[mid] > target:\n",
    "            high = mid - 1\n",
    "            pass\n",
    "        elif nums[mid] == target:\n",
    "            if nums[low] != nums[mid]:\n",
    "                low = low + 1\n",
    "                pass\n",
    "            if nums[high] != nums[mid]:\n",
    "                high = high - 1\n",
    "                pass\n",
    "            pass\n",
    "        pass\n",
    "    return [-1,-1]\n"
   ]
  },
  {
   "cell_type": "code",
   "execution_count": 10,
   "metadata": {},
   "outputs": [
    {
     "data": {
      "text/plain": [
       "[3, 4]"
      ]
     },
     "execution_count": 10,
     "metadata": {},
     "output_type": "execute_result"
    }
   ],
   "source": [
    "searchRange(\"zsd\",[5,7,7,8,8,10],8)"
   ]
  },
  {
   "cell_type": "code",
   "execution_count": null,
   "metadata": {},
   "outputs": [],
   "source": []
  }
 ],
 "metadata": {
  "kernelspec": {
   "display_name": "Python [conda env:Anaconda3]",
   "language": "python",
   "name": "conda-env-Anaconda3-py"
  },
  "language_info": {
   "codemirror_mode": {
    "name": "ipython",
    "version": 3
   },
   "file_extension": ".py",
   "mimetype": "text/x-python",
   "name": "python",
   "nbconvert_exporter": "python",
   "pygments_lexer": "ipython3",
   "version": "3.6.5"
  }
 },
 "nbformat": 4,
 "nbformat_minor": 2
}
