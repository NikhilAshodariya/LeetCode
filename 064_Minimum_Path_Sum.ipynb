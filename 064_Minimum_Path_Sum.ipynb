{
 "cells": [
  {
   "cell_type": "markdown",
   "metadata": {},
   "source": [
    "# USING DFS"
   ]
  },
  {
   "cell_type": "markdown",
   "metadata": {},
   "source": [
    "### This solution is concise but it is not the most efficient one since we might be computing many paths multiple times "
   ]
  },
  {
   "cell_type": "markdown",
   "metadata": {},
   "source": [
    "### This code gives correct answer but it was not accepted since the time limit got exceeded"
   ]
  },
  {
   "cell_type": "code",
   "execution_count": 1,
   "metadata": {},
   "outputs": [],
   "source": [
    "q = [\n",
    "    [1,3,1],\n",
    "    [1,5,1],\n",
    "    [4,2,1]\n",
    "]"
   ]
  },
  {
   "cell_type": "code",
   "execution_count": 2,
   "metadata": {},
   "outputs": [],
   "source": [
    "def minPathSum(grid):\n",
    "    def internal_path(matrix, row, col, nrow, ncol, sum_, arr):\n",
    "        if (row == nrow and col == (ncol - 1)) or (col == ncol and row == (nrow - 1)):\n",
    "            arr.append(sum_)\n",
    "            return\n",
    "        if row >= nrow or col >= ncol:\n",
    "            return\n",
    "        else:\n",
    "            sum_ = sum_ + matrix[row][col]\n",
    "            internal_path(matrix, row + 1, col, nrow, ncol, sum_, arr)\n",
    "            internal_path(matrix, row, col + 1, nrow, ncol, sum_, arr)\n",
    "\n",
    "    row, col = 0, 0\n",
    "    nrow, ncol = len(grid), len(grid[0])        \n",
    "    res = []\n",
    "    internal_path(grid, row, col, nrow, ncol, 0, res)\n",
    "    return min(res)"
   ]
  },
  {
   "cell_type": "code",
   "execution_count": 3,
   "metadata": {},
   "outputs": [
    {
     "data": {
      "text/plain": [
       "7"
      ]
     },
     "execution_count": 3,
     "metadata": {},
     "output_type": "execute_result"
    }
   ],
   "source": [
    "minPathSum(q)"
   ]
  },
  {
   "cell_type": "markdown",
   "metadata": {},
   "source": [
    "# Using Dynamic programming"
   ]
  },
  {
   "cell_type": "markdown",
   "metadata": {},
   "source": [
    "### This is a efficient solution but it is not concise"
   ]
  },
  {
   "cell_type": "code",
   "execution_count": 4,
   "metadata": {},
   "outputs": [],
   "source": [
    "q = [\n",
    "    [1,3,1],\n",
    "    [1,5,1],\n",
    "    [4,2,1]\n",
    "]"
   ]
  },
  {
   "cell_type": "code",
   "execution_count": 5,
   "metadata": {},
   "outputs": [],
   "source": [
    "def minPathSum(grid):\n",
    "    dp = [[None for x in range(len(grid[0]))] for y in range(len(grid))] \n",
    "    \n",
    "    m = len(grid) - 1 # row\n",
    "    n = len(grid[0]) -1 # col\n",
    "    \n",
    "#     Populating last row\n",
    "    for i in range(n, -1, -1):\n",
    "        if i==n:\n",
    "            dp[m][i] = grid[m][i]\n",
    "        else:\n",
    "            dp[m][i] = dp[m][i+1] + grid[m][i]\n",
    "    \n",
    "#     Populating last column\n",
    "    for i in range(m-1, -1, -1):\n",
    "        dp[i][n] = dp[i+1][n] + grid[i][n]\n",
    "    \n",
    "    for i in range(m-1, -1, -1):\n",
    "        for j in range(n-1, -1, -1):\n",
    "            dp[i][j] = min(dp[i][j+1], dp[i+1][j]) + grid[i][j]\n",
    "#     print(dp)\n",
    "    return dp[0][0]"
   ]
  },
  {
   "cell_type": "code",
   "execution_count": 6,
   "metadata": {},
   "outputs": [
    {
     "data": {
      "text/plain": [
       "7"
      ]
     },
     "execution_count": 6,
     "metadata": {},
     "output_type": "execute_result"
    }
   ],
   "source": [
    "minPathSum(q)"
   ]
  },
  {
   "cell_type": "code",
   "execution_count": null,
   "metadata": {},
   "outputs": [],
   "source": []
  }
 ],
 "metadata": {
  "kernelspec": {
   "display_name": "Python 3",
   "language": "python",
   "name": "python3"
  },
  "language_info": {
   "codemirror_mode": {
    "name": "ipython",
    "version": 3
   },
   "file_extension": ".py",
   "mimetype": "text/x-python",
   "name": "python",
   "nbconvert_exporter": "python",
   "pygments_lexer": "ipython3",
   "version": "3.7.3"
  }
 },
 "nbformat": 4,
 "nbformat_minor": 2
}
