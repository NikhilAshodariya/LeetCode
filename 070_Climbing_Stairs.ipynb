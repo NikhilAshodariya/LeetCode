{
 "cells": [
  {
   "cell_type": "markdown",
   "metadata": {},
   "source": [
    "# Using Math and normal computation"
   ]
  },
  {
   "cell_type": "code",
   "execution_count": 1,
   "metadata": {},
   "outputs": [],
   "source": [
    "def climbStairs(n):\n",
    "    def compute(arr):\n",
    "        res = []\n",
    "        #     No need to do for last element\n",
    "        for index, val in enumerate(arr[:-1]):\n",
    "            if arr[index] == arr[index+1] == 1:\n",
    "                res.append(arr[:index] + [2] + arr[index + 2: ])\n",
    "        return res\n",
    "    \n",
    "    if n <= 0:\n",
    "        return 0\n",
    "    else:\n",
    "        toProcess = []\n",
    "        toProcess.append([1]*n)\n",
    "        \n",
    "        for val in toProcess:\n",
    "            ret = compute(val)\n",
    "            toProcess.extend(ret)\n",
    "            \n",
    "        b_set = set(map(tuple,toProcess))  #need to convert the inner lists to tuples so they are hashable\n",
    "        toProcess = list(map(list,b_set)) #Now convert tuples back into lists (maybe unnecessary?)\n",
    "        \n",
    "        return len(toProcess)"
   ]
  },
  {
   "cell_type": "code",
   "execution_count": 2,
   "metadata": {},
   "outputs": [
    {
     "data": {
      "text/plain": [
       "21"
      ]
     },
     "execution_count": 2,
     "metadata": {},
     "output_type": "execute_result"
    }
   ],
   "source": [
    "climbStairs(7)"
   ]
  },
  {
   "cell_type": "markdown",
   "metadata": {},
   "source": [
    "# Using Dynamic Programming"
   ]
  },
  {
   "cell_type": "code",
   "execution_count": 3,
   "metadata": {},
   "outputs": [],
   "source": [
    "def climbStairs(n):\n",
    "    def Fibonacci(n): \n",
    "        a = 0\n",
    "        b = 1\n",
    "        if n < 0: \n",
    "            print(\"Incorrect input\") \n",
    "        elif n == 0: \n",
    "            return a \n",
    "        elif n == 1: \n",
    "            return b \n",
    "        else: \n",
    "            for i in range(2,n): \n",
    "                c = a + b \n",
    "                a = b \n",
    "                b = c \n",
    "            return b \n",
    "    if n <= 0:\n",
    "        return 0\n",
    "    else:\n",
    "        return Fibonacci(n + 2)"
   ]
  },
  {
   "cell_type": "code",
   "execution_count": 4,
   "metadata": {},
   "outputs": [
    {
     "data": {
      "text/plain": [
       "21"
      ]
     },
     "execution_count": 4,
     "metadata": {},
     "output_type": "execute_result"
    }
   ],
   "source": [
    "climbStairs(7)"
   ]
  }
 ],
 "metadata": {
  "kernelspec": {
   "display_name": "Python 3",
   "language": "python",
   "name": "python3"
  },
  "language_info": {
   "codemirror_mode": {
    "name": "ipython",
    "version": 3
   },
   "file_extension": ".py",
   "mimetype": "text/x-python",
   "name": "python",
   "nbconvert_exporter": "python",
   "pygments_lexer": "ipython3",
   "version": "3.7.3"
  }
 },
 "nbformat": 4,
 "nbformat_minor": 2
}
