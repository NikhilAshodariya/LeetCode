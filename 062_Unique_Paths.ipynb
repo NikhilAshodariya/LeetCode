{
 "cells": [
  {
   "cell_type": "markdown",
   "metadata": {},
   "source": [
    "# Using math"
   ]
  },
  {
   "cell_type": "markdown",
   "metadata": {},
   "source": [
    "##### Used permutations and combination we need (m-1) right steps and (n-1) down steps so total steps is (m+n-2) \n",
    "\n",
    "##### Let matrix = 4,3 we need (4-1) right steps and (3-1) down steps i.e. RRRDD so we need to find total ways in which 'RRRDD' would be arranged\n",
    "\n",
    "##### The formula is factorial(m+n-2) / (factorial(m-1) * factorial(n-1))"
   ]
  },
  {
   "cell_type": "code",
   "execution_count": 1,
   "metadata": {},
   "outputs": [],
   "source": [
    "def uniquePaths(m, n):\n",
    "    \"\"\"\n",
    "    :type m: int\n",
    "    :type n: int\n",
    "    :rtype: int\n",
    "    \"\"\"\n",
    "    def fact(n):\n",
    "        count = 1\n",
    "        for i in range(1,n+1):\n",
    "            count = count * i\n",
    "        return count\n",
    "        \n",
    "    numberOfDown = n - 1\n",
    "    numberOfRight = m - 1\n",
    "    \n",
    "    totalSteps = numberOfDown + numberOfRight\n",
    "    \n",
    "    greater = max(numberOfDown,numberOfRight)\n",
    "    count = 1\n",
    "    while totalSteps > greater:\n",
    "        count = count * totalSteps\n",
    "        totalSteps = totalSteps - 1\n",
    "    return count//fact(min(numberOfDown,numberOfRight))"
   ]
  },
  {
   "cell_type": "code",
   "execution_count": 3,
   "metadata": {},
   "outputs": [
    {
     "data": {
      "text/plain": [
       "10"
      ]
     },
     "execution_count": 3,
     "metadata": {},
     "output_type": "execute_result"
    }
   ],
   "source": [
    "uniquePaths(4,3)"
   ]
  }
 ],
 "metadata": {
  "kernelspec": {
   "display_name": "Python 3",
   "language": "python",
   "name": "python3"
  },
  "language_info": {
   "codemirror_mode": {
    "name": "ipython",
    "version": 3
   },
   "file_extension": ".py",
   "mimetype": "text/x-python",
   "name": "python",
   "nbconvert_exporter": "python",
   "pygments_lexer": "ipython3",
   "version": "3.7.3"
  }
 },
 "nbformat": 4,
 "nbformat_minor": 2
}
