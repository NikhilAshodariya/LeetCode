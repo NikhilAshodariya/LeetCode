{
 "cells": [
  {
   "cell_type": "code",
   "execution_count": 32,
   "metadata": {},
   "outputs": [],
   "source": [
    "from collections import OrderedDict\n",
    "\n",
    "\n",
    "class LRUCache:\n",
    "\n",
    "    def __init__(self, capacity: int):\n",
    "        self.cap = capacity\n",
    "        self.od = OrderedDict()\n",
    "        \n",
    "        \n",
    "    def get(self, key: int) -> int:\n",
    "        if key not in self.od:\n",
    "            return -1\n",
    "        else:\n",
    "            val = self.od[key]\n",
    "            del self.od[key]\n",
    "            self.od[key] = val\n",
    "            return val\n",
    "        \n",
    "        \n",
    "    def put(self, key: int, value: int) -> None:\n",
    "        if key in self.od:\n",
    "            del self.od[key]\n",
    "        else:\n",
    "            if len(self.od) >= self.cap:\n",
    "                del self.od[list(self.od.keys())[0]]\n",
    "            \n",
    "        self.od[key] = value"
   ]
  },
  {
   "cell_type": "code",
   "execution_count": 34,
   "metadata": {},
   "outputs": [],
   "source": [
    "cache = LRUCache(2);\n",
    "\n",
    "cache.put(1, 1);\n",
    "cache.put(2, 2);\n",
    "cache.get(1);       \n",
    "cache.put(3, 3);    \n",
    "cache.get(2);       \n",
    "cache.put(4, 4);    \n",
    "cache.get(1);       \n",
    "cache.get(3);       \n",
    "cache.get(4);       "
   ]
  }
 ],
 "metadata": {
  "kernelspec": {
   "display_name": "Python 3",
   "language": "python",
   "name": "python3"
  },
  "language_info": {
   "codemirror_mode": {
    "name": "ipython",
    "version": 3
   },
   "file_extension": ".py",
   "mimetype": "text/x-python",
   "name": "python",
   "nbconvert_exporter": "python",
   "pygments_lexer": "ipython3",
   "version": "3.7.3"
  }
 },
 "nbformat": 4,
 "nbformat_minor": 2
}
